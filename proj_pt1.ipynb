{
  "cells": [
    {
      "cell_type": "markdown",
      "id": "098cb968",
      "metadata": {
        "id": "098cb968",
        "papermill": {
          "duration": 0.006013,
          "end_time": "2024-11-30T20:10:30.985773",
          "exception": false,
          "start_time": "2024-11-30T20:10:30.979760",
          "status": "completed"
        },
        "tags": []
      },
      "source": [
        "# ESE 5390 Project Code\n",
        "\n",
        "\n",
        "\n",
        "The provided project starter code walks through a comparative study of three post-training pruning methods:\n",
        "\n",
        "\n",
        "\n",
        "* **Global Weight Pruning**\n",
        "\n",
        "* **Layer-wise Weight Pruning**\n",
        "\n",
        "* **Layer-wise Output Channel Pruning**\n",
        "\n",
        "\n",
        "\n",
        "Following this starter code, you will further enhance the **efficiency and accuracy** of layer-wise channel pruning by implementing one of the two advanced techniques:\n",
        "\n",
        "\n",
        "\n",
        "* **Training-Aware Pruning:**\n",
        "\n",
        "    Apply regularization during training to promote sparsity. Refer to Wen et al.’s _\"Learning Structured Sparsity in Deep Neural Networks\"_, though you are encouraged to explore other regularization techniques.\n",
        "\n",
        "\n",
        "\n",
        "* **Iterative Pruning:**\n",
        "\n",
        "    Repeatedly prune and retrain the network to restore accuracy. You may refer to Han et al.’s _\"Deep Compression: Compressing Deep Neural Networks with Pruning, Trained Quantization, and Huffman Coding.\"_ However, feel free to develop innovative variations of this approach.\n",
        "\n",
        "\n",
        "\n",
        "The grading will reflect how well you understand the literature, design and execute experiments, present your findings, and document your project in a comprehensive technical report.\n",
        "\n",
        "\n",
        "\n",
        " **Bonus points** are available for extending the project scope through additional explorations (see **Bonus Opportunities**).\n",
        "\n",
        "\n",
        "\n",
        "## Environment\n",
        "\n",
        "\n",
        "\n",
        "We strongly recommend using GPU or TPU to avoid excessive runtimes."
      ]
    },
    {
      "cell_type": "code",
      "execution_count": null,
      "id": "d43aa09b",
      "metadata": {
        "collapsed": true,
        "execution": {
          "iopub.execute_input": "2024-11-30T20:10:30.998727Z",
          "iopub.status.busy": "2024-11-30T20:10:30.998396Z",
          "iopub.status.idle": "2024-11-30T20:11:53.897312Z",
          "shell.execute_reply": "2024-11-30T20:11:53.896200Z"
        },
        "id": "d43aa09b",
        "jupyter": {
          "outputs_hidden": true
        },
        "outputId": "460aac52-f5a4-4554-a64e-02d43150e845",
        "papermill": {
          "duration": 82.908502,
          "end_time": "2024-11-30T20:11:53.899760",
          "exception": false,
          "start_time": "2024-11-30T20:10:30.991258",
          "status": "completed"
        },
        "tags": []
      },
      "outputs": [
        {
          "name": "stdout",
          "output_type": "stream",
          "text": [
            "PyTorch Version:  2.4.0\n",
            "Torchvision Version:  0.19.0\n",
            "Retrieving notices: ...working... done\r\n",
            "Channels:\r\n",
            " - rapidsai\r\n",
            " - nvidia\r\n",
            " - nodefaults\r\n",
            " - conda-forge\r\n",
            " - defaults\r\n",
            " - pytorch\r\n",
            "Platform: linux-64\r\n",
            "Collecting package metadata (repodata.json): \\ \b\b| \b\b/ \b\b- \b\b\\ \b\b| \b\b/ \b\b- \b\b\\ \b\b| \b\b/ \b\b- \b\b\\ \b\b| \b\b/ \b\b- \b\b\\ \b\b| \b\b/ \b\b- \b\b\\ \b\b| \b\b/ \b\b- \b\b\\ \b\b| \b\b/ \b\b- \b\b\\ \b\b| \b\b/ \b\b- \b\b\\ \b\b| \b\b/ \b\b- \b\b\\ \b\b| \b\b/ \b\b- \b\b\\ \b\b| \b\b/ \b\b- \b\b\\ \b\b| \b\b/ \b\b- \b\b\\ \b\b| \b\b/ \b\b- \b\b\\ \b\b| \b\b/ \b\b- \b\b\\ \b\b| \b\bdone\r\n",
            "Solving environment: - \b\b\\ \b\b| \b\b/ \b\b- \b\b\\ \b\b| \b\b/ \b\b- \b\b\\ \b\b| \b\b/ \b\b- \b\b\\ \b\b| \b\b/ \b\b- \b\b\\ \b\b| \b\b/ \b\bdone\r\n",
            "\r\n",
            "## Package Plan ##\r\n",
            "\r\n",
            "  environment location: /opt/conda\r\n",
            "\r\n",
            "  added / updated specs:\r\n",
            "    - gdown\r\n",
            "\r\n",
            "\r\n",
            "The following packages will be downloaded:\r\n",
            "\r\n",
            "    package                    |            build\r\n",
            "    ---------------------------|-----------------\r\n",
            "    conda-24.11.0              |  py310hff52083_0         907 KB  conda-forge\r\n",
            "    filelock-3.16.1            |     pyhd8ed1ab_0          17 KB  conda-forge\r\n",
            "    gdown-5.2.0                |     pyhd8ed1ab_0          21 KB  conda-forge\r\n",
            "    openssl-3.4.0              |       hb9d3cd8_0         2.8 MB  conda-forge\r\n",
            "    ------------------------------------------------------------\r\n",
            "                                           Total:         3.7 MB\r\n",
            "\r\n",
            "The following NEW packages will be INSTALLED:\r\n",
            "\r\n",
            "  filelock           conda-forge/noarch::filelock-3.16.1-pyhd8ed1ab_0 \r\n",
            "  gdown              conda-forge/noarch::gdown-5.2.0-pyhd8ed1ab_0 \r\n",
            "\r\n",
            "The following packages will be UPDATED:\r\n",
            "\r\n",
            "  conda                              24.9.0-py310hff52083_0 --> 24.11.0-py310hff52083_0 \r\n",
            "  openssl                                  3.3.2-hb9d3cd8_0 --> 3.4.0-hb9d3cd8_0 \r\n",
            "\r\n",
            "\r\n",
            "\r\n",
            "Downloading and Extracting Packages:\r\n",
            "openssl-3.4.0        | 2.8 MB    |                                       |   0% \r\n",
            "conda-24.11.0        | 907 KB    |                                       |   0% \u001b[A\r\n",
            "\r\n",
            "gdown-5.2.0          | 21 KB     |                                       |   0% \u001b[A\u001b[A\r\n",
            "\r\n",
            "\r\n",
            "openssl-3.4.0        | 2.8 MB    | #                                     |   3% \r\n",
            "conda-24.11.0        | 907 KB    | #######1                              |  19% \u001b[A\r\n",
            "\r\n",
            "\r\n",
            "filelock-3.16.1      | 17 KB     | ##################################### | 100% \u001b[A\u001b[A\u001b[A\r\n",
            "\r\n",
            "\r\n",
            "filelock-3.16.1      | 17 KB     | ##################################### | 100% \u001b[A\u001b[A\u001b[A\r\n",
            "\r\n",
            "gdown-5.2.0          | 21 KB     | ##################################### | 100% \u001b[A\u001b[A\r\n",
            "\r\n",
            "openssl-3.4.0        | 2.8 MB    | ##################################### | 100% \r\n",
            "conda-24.11.0        | 907 KB    | ##################################### | 100% \u001b[A\r\n",
            "\r\n",
            "                                                                                \u001b[A\r\n",
            "\r\n",
            "                                                                                \u001b[A\u001b[A\r\n",
            "\r\n",
            "\r\n",
            "\r\n",
            "Preparing transaction: \\ \b\bdone\r\n",
            "Verifying transaction: / \b\b- \b\b\\ \b\bdone\r\n",
            "Executing transaction: / \b\b- \b\b\\ \b\b| \b\b/ \b\b- \b\b\\ \b\b| \b\b/ \b\b- \b\b\\ \b\b| \b\b/ \b\b- \b\b\\ \b\b| \b\b/ \b\b- \b\b\\ \b\b| \b\b/ \b\b- \b\b\\ \b\b| \b\b/ \b\b- \b\b\\ \b\b| \b\b/ \b\b- \b\b\\ \b\b| \b\b/ \b\b- \b\b\\ \b\b| \b\b/ \b\b- \b\b\\ \b\b| \b\b/ \b\b- \b\b\\ \b\b| \b\b/ \b\b- \b\b\\ \b\b| \b\b/ \b\b- \b\b\\ \b\b| \b\b/ \b\bdone\r\n"
          ]
        }
      ],
      "source": [
        "import torch\n",
        "import torch.nn as nn\n",
        "import torch.nn.utils.prune as prune\n",
        "import torchvision\n",
        "import time\n",
        "import numpy as np\n",
        "import copy\n",
        "import sys\n",
        "import os\n",
        "from torchvision import datasets, models, transforms\n",
        "from pathlib import Path\n",
        "import random\n",
        "import matplotlib.pyplot as plt\n",
        "\n",
        "print(\"PyTorch Version: \", torch.__version__)\n",
        "print(\"Torchvision Version: \", torchvision.__version__)\n",
        "Path(\"./data\").mkdir(parents=True, exist_ok=True)\n",
        "data_dir = Path('./data')\n",
        "net_fn = Path('./net')\n",
        "\n",
        "\n",
        "# see if gdown is already downloaded\n",
        "try:\n",
        "    import gdown\n",
        "    print(\"gdown is already installed, skipping installing command to save time......\")\n",
        "except ImportError:\n",
        "    !conda install -y gdown\n",
        "\n",
        "\n",
        "# Seed for reproducibility\n",
        "torch.manual_seed(0)\n",
        "np.random.seed(0)"
      ]
    },
    {
      "cell_type": "code",
      "execution_count": null,
      "id": "177a1ff5",
      "metadata": {
        "execution": {
          "iopub.execute_input": "2024-11-30T20:11:53.925649Z",
          "iopub.status.busy": "2024-11-30T20:11:53.925060Z",
          "iopub.status.idle": "2024-11-30T20:11:54.154789Z",
          "shell.execute_reply": "2024-11-30T20:11:54.153869Z"
        },
        "id": "177a1ff5",
        "outputId": "4084426d-df37-4033-9c69-9e9e987823e4",
        "papermill": {
          "duration": 0.244787,
          "end_time": "2024-11-30T20:11:54.156576",
          "exception": false,
          "start_time": "2024-11-30T20:11:53.911789",
          "status": "completed"
        },
        "tags": []
      },
      "outputs": [
        {
          "name": "stdout",
          "output_type": "stream",
          "text": [
            "PyTorch Version:  2.4.0\n",
            "Torchvision Version:  0.19.0\n",
            "gdown is already installed, skipping installing command to save time......\n"
          ]
        }
      ],
      "source": [
        "print(\"PyTorch Version: \", torch.__version__)\n",
        "print(\"Torchvision Version: \", torchvision.__version__)\n",
        "Path(\"./data\").mkdir(parents=True, exist_ok=True)\n",
        "data_dir = Path('./data')\n",
        "net_fn = Path('./net')\n",
        "\n",
        "# see if gdown is already downloaded\n",
        "try:\n",
        "    import gdown\n",
        "    print(\"gdown is already installed, skipping installing command to save time......\")\n",
        "except ImportError:\n",
        "    !conda install -y gdown"
      ]
    },
    {
      "cell_type": "code",
      "execution_count": null,
      "id": "071d6c1e",
      "metadata": {
        "execution": {
          "iopub.execute_input": "2024-11-30T20:11:54.181483Z",
          "iopub.status.busy": "2024-11-30T20:11:54.181044Z",
          "iopub.status.idle": "2024-11-30T20:13:19.137276Z",
          "shell.execute_reply": "2024-11-30T20:13:19.135884Z"
        },
        "id": "071d6c1e",
        "outputId": "e6adbb45-1f8b-4570-f385-8646653b1bca",
        "papermill": {
          "duration": 84.971452,
          "end_time": "2024-11-30T20:13:19.139719",
          "exception": false,
          "start_time": "2024-11-30T20:11:54.168267",
          "status": "completed"
        },
        "tags": []
      },
      "outputs": [
        {
          "name": "stdout",
          "output_type": "stream",
          "text": [
            "Attempting download from repo 0\n",
            "Missing files: ['data/ILSVRC2012_devkit_t12.tar.gz', 'data/ILSVRC2012_devkit_t3.tar.gz', 'data/ILSVRC2012_img_val.tar']\n",
            "Downloading data/ILSVRC2012_devkit_t12.tar.gz...\n",
            "Downloading...\r\n",
            "From: https://drive.google.com/uc?id=1VLe11mOwsetC4IlL3wy8QexTat8XCool\r\n",
            "To: /kaggle/working/data/ILSVRC2012_devkit_t12.tar.gz\r\n",
            "100%|███████████████████████████████████████| 2.57M/2.57M [00:00<00:00, 210MB/s]\r\n",
            "Downloading data/ILSVRC2012_devkit_t3.tar.gz...\n",
            "Downloading...\r\n",
            "From: https://drive.google.com/uc?id=1_QwUcr3gmnjPFbKj0VrfOayVEWjRBS4Z\r\n",
            "To: /kaggle/working/data/ILSVRC2012_devkit_t3.tar.gz\r\n",
            "100%|██████████████████████████████████████| 22.4M/22.4M [00:00<00:00, 76.1MB/s]\r\n",
            "Downloading data/ILSVRC2012_img_val.tar...\n",
            "Downloading...\r\n",
            "From (original): https://drive.google.com/uc?id=1fgf9elhD7EhbKJn2NMnQS1iwQXesQZ3g\r\n",
            "From (redirected): https://drive.google.com/uc?id=1fgf9elhD7EhbKJn2NMnQS1iwQXesQZ3g&confirm=t&uuid=cf91be06-a068-4632-bb07-d5177e002ff9\r\n",
            "To: /kaggle/working/data/ILSVRC2012_img_val.tar\r\n",
            "100%|██████████████████████████████████████| 6.74G/6.74G [01:08<00:00, 99.1MB/s]\r\n",
            "All files are present. Skipping further downloads.\n",
            "All files successfully downloaded.\n"
          ]
        }
      ],
      "source": [
        "REPOS = [\n",
        "    [\n",
        "        \"1ZLyAcimq4sdZ0tl5yINudwSD843pAoOJ\",\n",
        "        \"1EXwrSw6BWKMC4ovPRUyfuqeObuqsR-R5\",\n",
        "        \"1rFIAJ9aLZrRCOeijo5mI0zWiEl3OMJ3j\"\n",
        "    ],\n",
        "    [\n",
        "        \"1VLe11mOwsetC4IlL3wy8QexTat8XCool\",\n",
        "        \"1_QwUcr3gmnjPFbKj0VrfOayVEWjRBS4Z\",\n",
        "        \"1fgf9elhD7EhbKJn2NMnQS1iwQXesQZ3g\"\n",
        "    ],\n",
        "    [\n",
        "        \"1BKC4kCB9sbwfRuhrAJWVEmbLoHx2vJWC\",\n",
        "        \"1qhrcYgGKRf3Wt8YDU6aVRhzJDFHeqerP\",\n",
        "        \"1JXym04uAoNGGpkBRzIn0yStZmRX0SmNu\"\n",
        "    ]\n",
        "]\n",
        "\n",
        "\n",
        "FILES = [\n",
        "    Path(\"./data/ILSVRC2012_devkit_t12.tar.gz\"),\n",
        "    Path(\"./data/ILSVRC2012_devkit_t3.tar.gz\"),\n",
        "    Path(\"./data/ILSVRC2012_img_val.tar\")\n",
        "]\n",
        "\n",
        "\n",
        "\n",
        "# Shuffle the order of repos\n",
        "\n",
        "random.seed(int(time.time()))\n",
        "random.shuffle(REPOS)\n",
        "\n",
        "for repo_index, repo in enumerate(REPOS):\n",
        "    missing_files = [str(file) for file in FILES if not file.is_file()]\n",
        "    if not missing_files:\n",
        "        print(\"All files are present. Skipping further downloads.\")\n",
        "        break\n",
        "\n",
        "\n",
        "    print(f\"Attempting download from repo {repo_index}\")\n",
        "    print(f\"Missing files: {missing_files}\")\n",
        "\n",
        "\n",
        "    for file, url in zip(FILES, repo):\n",
        "        if not file.is_file():\n",
        "            print(f\"Downloading {file}...\")\n",
        "            !gdown \"{url}\" -O \"{str(file)}\"\n",
        "\n",
        "\n",
        "missing_files = [str(file) for file in FILES if not file.is_file()]\n",
        "if missing_files:\n",
        "    print(f\"Failed to download all files. Still missing: {missing_files}\")\n",
        "    print(f\"Contact TA team through EdStem with the output of this code block!\", file=sys.stderr)\n",
        "else:\n",
        "    print(\"All files successfully downloaded.\")"
      ]
    },
    {
      "cell_type": "code",
      "execution_count": null,
      "id": "9db7fafb",
      "metadata": {
        "execution": {
          "iopub.execute_input": "2024-11-30T20:13:19.199426Z",
          "iopub.status.busy": "2024-11-30T20:13:19.199104Z",
          "iopub.status.idle": "2024-11-30T20:13:19.204489Z",
          "shell.execute_reply": "2024-11-30T20:13:19.203772Z"
        },
        "papermill": {
          "duration": 0.03644,
          "end_time": "2024-11-30T20:13:19.206110",
          "exception": false,
          "start_time": "2024-11-30T20:13:19.169670",
          "status": "completed"
        },
        "tags": [],
        "id": "9db7fafb"
      },
      "outputs": [],
      "source": [
        "# Clear output folder\n",
        "import os\n",
        "\n",
        "def remove_folder_contents(folder):\n",
        "    for the_file in os.listdir(folder):\n",
        "        file_path = os.path.join(folder, the_file)\n",
        "        try:\n",
        "            if os.path.isfile(file_path):\n",
        "                os.unlink(file_path)\n",
        "            elif os.path.isdir(file_path):\n",
        "                remove_folder_contents(file_path)\n",
        "                os.rmdir(file_path)\n",
        "        except Exception as e:\n",
        "            print(e)\n",
        "\n",
        "# folder_path = '/kaggle/working'\n",
        "# remove_folder_contents(folder_path)\n",
        "# os.rmdir(folder_path)\n",
        "\n",
        "# os.remove(\"/kaggle/working/state.db\")\n"
      ]
    },
    {
      "cell_type": "code",
      "execution_count": null,
      "id": "3960133b",
      "metadata": {
        "execution": {
          "iopub.execute_input": "2024-11-30T20:13:19.263989Z",
          "iopub.status.busy": "2024-11-30T20:13:19.263725Z",
          "iopub.status.idle": "2024-11-30T20:13:49.046693Z",
          "shell.execute_reply": "2024-11-30T20:13:49.045602Z"
        },
        "id": "3960133b",
        "outputId": "8cc7bb3e-b7e5-4a3f-aa80-8771bf922191",
        "papermill": {
          "duration": 29.813342,
          "end_time": "2024-11-30T20:13:49.048382",
          "exception": false,
          "start_time": "2024-11-30T20:13:19.235040",
          "status": "completed"
        },
        "tags": []
      },
      "outputs": [
        {
          "name": "stdout",
          "output_type": "stream",
          "text": [
            "Number of validation images: 50000\n"
          ]
        }
      ],
      "source": [
        "# Create transform to preprocess data\n",
        "\n",
        "val_transform = transforms.Compose([\n",
        "    transforms.Resize(224),\n",
        "    transforms.CenterCrop(224),\n",
        "    transforms.ToTensor(),\n",
        "    transforms.Normalize([0.485, 0.456, 0.406], [0.229, 0.224, 0.225])\n",
        "])\n",
        "\n",
        "# Create validation dataset\n",
        "val_dataset = datasets.ImageNet('./data', split='val', transform=val_transform)\n",
        "\n",
        "# Create validation dataloader\n",
        "val_dataloader = torch.utils.data.DataLoader(val_dataset, shuffle=False, num_workers=2)\n",
        "\n",
        "print(f'Number of validation images: {len(val_dataset)}')"
      ]
    },
    {
      "cell_type": "code",
      "execution_count": null,
      "id": "fc6c5414",
      "metadata": {
        "execution": {
          "iopub.execute_input": "2024-11-30T20:13:49.105338Z",
          "iopub.status.busy": "2024-11-30T20:13:49.104918Z",
          "iopub.status.idle": "2024-11-30T20:13:49.178124Z",
          "shell.execute_reply": "2024-11-30T20:13:49.177095Z"
        },
        "id": "fc6c5414",
        "papermill": {
          "duration": 0.103434,
          "end_time": "2024-11-30T20:13:49.180086",
          "exception": false,
          "start_time": "2024-11-30T20:13:49.076652",
          "status": "completed"
        },
        "tags": []
      },
      "outputs": [],
      "source": [
        "# Put your reusable functions here.\n",
        "\n",
        "# You can copy functions from previous labs and tutorials.\n",
        "device = torch.device(\"cuda\" if torch.cuda.is_available() else \"cpu\")\n",
        "def evaluate(model, dataloader):\n",
        "    correct = 0\n",
        "    total = 0\n",
        "    model.eval()\n",
        "    model.to(device)\n",
        "\n",
        "    with torch.no_grad():\n",
        "        for images, labels in dataloader:\n",
        "            images, labels = images.to(device), labels.to(device)\n",
        "            outputs = model(images)\n",
        "            _, predicted = torch.max(outputs, 1)\n",
        "            total += labels.size(0)\n",
        "            correct += (predicted == labels).sum().item()\n",
        "\n",
        "    return 100 * correct / total\n",
        "\n",
        "def collect_non_zero_channels(model):\n",
        "\n",
        "    model.eval()\n",
        "    model.to(device)\n",
        "    non_zero_channels = []\n",
        "\n",
        "    for layer in model.features:\n",
        "\n",
        "        if isinstance(layer, nn.Conv2d):\n",
        "            # Count non-zero channels\n",
        "            non_zero_count = torch.sum(layer.weight.abs().sum(dim=[1, 2, 3]) > 0).item()\n",
        "            non_zero_channels.append(non_zero_count)\n",
        "\n",
        "    print(f\"Non-zero channels collected: {non_zero_channels}\")\n",
        "    return non_zero_channels\n",
        "\n",
        "def create_hardened_model(pruned_model, non_zero_channels):\n",
        "\n",
        "    \"\"\"\n",
        "    Creates a new model with adjusted channels based on non-zero channels\n",
        "    from a pruned model, and copies over the non-zero weights.\n",
        "    \"\"\"\n",
        "\n",
        "    # Instantiate a new VGG16 model to modify\n",
        "    hardened_model = models.vgg16(pretrained=False).to(device)\n",
        "\n",
        "    # Track the previous layer's output channels for setting input channels of the next layer\n",
        "    prev_out_channels = 3  # Initial input channels (for RGB images)\n",
        "    conv_layer_idx = 0\n",
        "    # Loop through the convolutional layers and replace with pruned versions\n",
        "    for i, layer in enumerate(pruned_model.features):\n",
        "\n",
        "        if isinstance(layer, nn.Conv2d):\n",
        "            # Create a new Conv2d layer with updated in_channels and out_channels\n",
        "            out_channels = non_zero_channels[conv_layer_idx]\n",
        "            new_conv = nn.Conv2d(\n",
        "                in_channels=prev_out_channels,\n",
        "                out_channels=out_channels,\n",
        "                kernel_size=layer.kernel_size,\n",
        "                stride=layer.stride,\n",
        "                padding=layer.padding,\n",
        "                bias=(layer.bias is not None)\n",
        "            )\n",
        "\n",
        "            # Copy non-zero weights from pruned model to new layer\n",
        "            new_conv.weight.data = layer.weight.data[:out_channels, :prev_out_channels, :, :].clone()\n",
        "            if new_conv.bias is not None:\n",
        "                new_conv.bias.data = layer.bias.data[:out_channels].clone()\n",
        "\n",
        "            # Replace the layer in hardened_model\n",
        "            hardened_model.features[i] = new_conv\n",
        "\n",
        "            # Update prev_out_channels for the next layer\n",
        "            prev_out_channels = out_channels\n",
        "            conv_layer_idx += 1\n",
        "\n",
        "        elif isinstance(layer, nn.MaxPool2d):\n",
        "            # Keep MaxPool2d layers unchanged\n",
        "            hardened_model.features[i] = layer\n",
        "\n",
        "\n",
        "    # Adjust the first fully connected (linear) layer after convolutional layers\n",
        "    # Compute input features for the first fully connected layer\n",
        "    num_flatten_features = prev_out_channels * 7 * 7  # Assuming VGG16 has 7x7 spatial size before FC layers\n",
        "    hardened_model.classifier[0] = nn.Linear(num_flatten_features, hardened_model.classifier[0].out_features).to(device)\n",
        "    hardened_model.classifier[0].weight.data = pruned_model.classifier[0].weight.data[:, :num_flatten_features].clone()\n",
        "\n",
        "    if hardened_model.classifier[0].bias is not None:\n",
        "        hardened_model.classifier[0].bias.data = pruned_model.classifier[0].bias.data.clone()\n",
        "\n",
        "    # Copy the remaining fully connected layers directly (unaffected by pruning)\n",
        "    for i in range(1, len(hardened_model.classifier)):\n",
        "        hardened_model.classifier[i] = pruned_model.classifier[i]\n",
        "\n",
        "    return hardened_model\n",
        "\n",
        "\n",
        "#  COUNT PARAMETERS\n",
        "def count_params(model):\n",
        "\n",
        "    model.to(device)\n",
        "    tot_params = 0\n",
        "    for layer_name, param in model.named_parameters():\n",
        "        tot_params += torch.count_nonzero(param.data)\n",
        "\n",
        "    return tot_params\n",
        "\n",
        "def get_size_of_model(model):\n",
        "    torch.save(model.state_dict(), \"temp.p\")\n",
        "    model_size = os.path.getsize(\"temp.p\")/1e6\n",
        "    os.remove('temp.p')\n",
        "    return model_size"
      ]
    },
    {
      "cell_type": "code",
      "execution_count": null,
      "id": "fadaff7e",
      "metadata": {
        "execution": {
          "iopub.execute_input": "2024-11-30T20:13:49.251639Z",
          "iopub.status.busy": "2024-11-30T20:13:49.250757Z",
          "iopub.status.idle": "2024-11-30T20:13:49.255213Z",
          "shell.execute_reply": "2024-11-30T20:13:49.254130Z"
        },
        "id": "fadaff7e",
        "papermill": {
          "duration": 0.037213,
          "end_time": "2024-11-30T20:13:49.256807",
          "exception": false,
          "start_time": "2024-11-30T20:13:49.219594",
          "status": "completed"
        },
        "tags": []
      },
      "outputs": [],
      "source": [
        "# from google.colab import drive\n",
        "# import pickle\n",
        "\n",
        "\n",
        "# drive.mount('/content/drive')\n",
        "# save_path = '/content/drive/MyDrive/ese539/project'\n"
      ]
    },
    {
      "cell_type": "markdown",
      "id": "607c8178",
      "metadata": {
        "id": "607c8178",
        "papermill": {
          "duration": 0.029559,
          "end_time": "2024-11-30T20:13:49.315708",
          "exception": false,
          "start_time": "2024-11-30T20:13:49.286149",
          "status": "completed"
        },
        "tags": []
      },
      "source": [
        "## 1. Global Weight Pruning\n",
        "\n",
        "\n",
        "\n",
        "- Perform pruning using `prune.global_unstructured` on a pretrained VGG16 using various sparsity targets.\n",
        "\n",
        "- The models should be pruned away at 5% increments from 5% to 45% total pruning of the model.\n",
        "\n",
        "- Save a copy of each pruned model in a dictionary.\n",
        "\n",
        "- Plot the top-1 accuracy against weight pruned from 0% to 45% (use the original VGG16 for 0%)."
      ]
    },
    {
      "cell_type": "code",
      "execution_count": null,
      "id": "a10d51ad",
      "metadata": {
        "execution": {
          "iopub.execute_input": "2024-11-30T20:13:49.381965Z",
          "iopub.status.busy": "2024-11-30T20:13:49.381613Z",
          "iopub.status.idle": "2024-11-30T21:12:53.206397Z",
          "shell.execute_reply": "2024-11-30T21:12:53.205255Z"
        },
        "id": "a10d51ad",
        "outputId": "822cfbfc-bbe9-4ae2-cdb9-dd68b31665b5",
        "papermill": {
          "duration": 3543.88845,
          "end_time": "2024-11-30T21:12:53.237486",
          "exception": false,
          "start_time": "2024-11-30T20:13:49.349036",
          "status": "completed"
        },
        "tags": []
      },
      "outputs": [
        {
          "name": "stderr",
          "output_type": "stream",
          "text": [
            "/opt/conda/lib/python3.10/site-packages/torchvision/models/_utils.py:208: UserWarning: The parameter 'pretrained' is deprecated since 0.13 and may be removed in the future, please use 'weights' instead.\n",
            "  warnings.warn(\n",
            "/opt/conda/lib/python3.10/site-packages/torchvision/models/_utils.py:223: UserWarning: Arguments other than a weight enum or `None` for 'weights' are deprecated since 0.13 and may be removed in the future. The current behavior is equivalent to passing `weights=VGG16_Weights.IMAGENET1K_V1`. You can also use `weights=VGG16_Weights.DEFAULT` to get the most up-to-date weights.\n",
            "  warnings.warn(msg)\n",
            "Downloading: \"https://download.pytorch.org/models/vgg16-397923af.pth\" to /root/.cache/torch/hub/checkpoints/vgg16-397923af.pth\n",
            "100%|██████████| 528M/528M [00:02<00:00, 195MB/s]\n"
          ]
        },
        {
          "name": "stdout",
          "output_type": "stream",
          "text": [
            "Original model top-1 accuracy: 71.516%\n",
            "Top1 accuracy for prune amount 5%: 71.496%\n",
            "Top1 accuracy (rel) for prune amount 5%: 99.97203423010234%\n",
            "Top1 accuracy for prune amount 10%: 71.44%\n",
            "Top1 accuracy (rel) for prune amount 10%: 99.89373007438894%\n",
            "Top1 accuracy for prune amount 15%: 71.454%\n",
            "Top1 accuracy (rel) for prune amount 15%: 99.91330611331728%\n",
            "Top1 accuracy for prune amount 20%: 71.378%\n",
            "Top1 accuracy (rel) for prune amount 20%: 99.80703618770625%\n",
            "Top1 accuracy for prune amount 25%: 71.416%\n",
            "Top1 accuracy (rel) for prune amount 25%: 99.86017115051176%\n",
            "Top1 accuracy for prune amount 30%: 71.402%\n",
            "Top1 accuracy (rel) for prune amount 30%: 99.84059511158343%\n",
            "Top1 accuracy for prune amount 35%: 71.196%\n",
            "Top1 accuracy (rel) for prune amount 35%: 99.55254768163766%\n",
            "Top1 accuracy for prune amount 40%: 70.854%\n",
            "Top1 accuracy (rel) for prune amount 40%: 99.07433301638792%\n",
            "Top1 accuracy for prune amount 45%: 70.164%\n",
            "Top1 accuracy (rel) for prune amount 45%: 98.10951395491917%\n"
          ]
        }
      ],
      "source": [
        "orig_model = models.vgg16(pretrained=True)#TODO: load pretrained model\n",
        "prune_rate_list = range(5, 50, 5) # List of prune rate to test from 5-45 inclusive with step of 5\n",
        "global_pruning = {} # Dictionary to store global pruning results\n",
        "orig_top1_acc = evaluate(orig_model, val_dataloader)\n",
        "print(f'Original model top-1 accuracy: {orig_top1_acc}%')\n",
        "\n",
        "for prune_rate in prune_rate_list:\n",
        "    model = models.vgg16(pretrained=True) #TODO: load pretrained model\n",
        "    parameters_to_prune = [(layer, 'weight') for layer in model.features if isinstance(layer, nn.Conv2d)]\n",
        "\n",
        "    # parameter_to_prune = (\n",
        "    #     (models.features[0], 'weight'), # conv1 of VGG16\n",
        "    #     #TODO: Add more layers to prune\n",
        "    # )\n",
        "\n",
        "    #TODO: Prune model\n",
        "    prune.global_unstructured(\n",
        "        parameters_to_prune,\n",
        "        pruning_method=prune.L1Unstructured,\n",
        "        amount=prune_rate / 100  # Convert percentage to decimal\n",
        "    )\n",
        "\n",
        "    #TODO: make the pruning permanent to increase speed\n",
        "    for layer, _ in parameters_to_prune:\n",
        "        prune.remove(layer, 'weight')\n",
        "    global_pruning[prune_rate] = {} # Dictionary to store accuracy results and model for each prune rate\n",
        "    global_pruning[prune_rate]['model'] = model # Copy pruned model to dictionary\n",
        "    # TODO Run validation on the pruned model\n",
        "    top1_acc = evaluate(model, val_dataloader)\n",
        "    global_pruning[prune_rate]['top1_acc'] = top1_acc # TODO fill with top1 accuracy\n",
        "    global_pruning[prune_rate]['top1_acc_rel'] = top1_acc / orig_top1_acc * 100 # Percent accuracy compared to original model\n",
        "\n",
        "    print(f'Top1 accuracy for prune amount {prune_rate}%: {global_pruning[prune_rate][\"top1_acc\"]}%')\n",
        "    print(f'Top1 accuracy (rel) for prune amount {prune_rate}%: {global_pruning[prune_rate][\"top1_acc_rel\"]}%')\n",
        "\n",
        "# TODO plot the results"
      ]
    },
    {
      "cell_type": "code",
      "execution_count": null,
      "id": "f8010f1e",
      "metadata": {
        "execution": {
          "iopub.execute_input": "2024-11-30T21:12:53.297855Z",
          "iopub.status.busy": "2024-11-30T21:12:53.296666Z",
          "iopub.status.idle": "2024-11-30T21:12:53.613560Z",
          "shell.execute_reply": "2024-11-30T21:12:53.612666Z"
        },
        "id": "f8010f1e",
        "outputId": "f54d6b37-fe18-4094-ebf1-4863aadd3639",
        "papermill": {
          "duration": 0.348765,
          "end_time": "2024-11-30T21:12:53.615382",
          "exception": false,
          "start_time": "2024-11-30T21:12:53.266617",
          "status": "completed"
        },
        "tags": []
      },
      "outputs": [
        {
          "data": {
            "image/png": "[encoded data removed]",
            "text/plain": [
              "<Figure size 1000x600 with 1 Axes>"
            ]
          },
          "metadata": {},
          "output_type": "display_data"
        }
      ],
      "source": [
        "prune_rates = list(global_pruning.keys())\n",
        "top1_accuracies = [global_pruning[rate]['top1_acc'] for rate in prune_rates]\n",
        "\n",
        "plt.figure(figsize=(10, 6))\n",
        "plt.plot(prune_rates, top1_accuracies, marker='o', linestyle='-', label='Pruned Model')\n",
        "plt.axhline(y=orig_top1_acc, color='r', linestyle='--', label='Original Model')\n",
        "plt.title('Top-1 Accuracy vs Weight Pruned (Global Pruning)')\n",
        "plt.xlabel('Percentage of Weights Pruned')\n",
        "plt.ylabel('Top-1 Accuracy (%)')\n",
        "plt.grid(True)\n",
        "plt.show()"
      ]
    },
    {
      "cell_type": "markdown",
      "source": [
        "### Observations\n",
        "\n",
        "- Accuracy Retention at Low Pruning Rates:\n",
        "\n",
        "  - The top-1 accuracy remains close to the original VGG16 model's performance up to 30% pruning, indicating that globally removing less important weights has minimal impact on the model's representational capacity.\n",
        "\n",
        "- Gradual Accuracy Decline:\n",
        "\n",
        "  - Between 35% and 45% pruning, accuracy begins to decline. This suggests that beyond a certain sparsity level, important weights are being pruned, leading to reduced model performance.\n",
        "\n",
        "- Moderate Loss at Higher Pruning:\n",
        "\n",
        "  - Even at 45% pruning, the model retains a top-1 accuracy of approximately 70%, demonstrating that global pruning maintains resilience by distributing weight removal across all layers, avoiding excessive pruning in any single layer."
      ],
      "metadata": {
        "id": "-nII6BCFPQfi"
      },
      "id": "-nII6BCFPQfi"
    },
    {
      "cell_type": "code",
      "execution_count": null,
      "id": "69b485aa",
      "metadata": {
        "execution": {
          "iopub.execute_input": "2024-11-30T21:12:53.676721Z",
          "iopub.status.busy": "2024-11-30T21:12:53.676185Z",
          "iopub.status.idle": "2024-11-30T21:12:53.679965Z",
          "shell.execute_reply": "2024-11-30T21:12:53.679120Z"
        },
        "papermill": {
          "duration": 0.036092,
          "end_time": "2024-11-30T21:12:53.681501",
          "exception": false,
          "start_time": "2024-11-30T21:12:53.645409",
          "status": "completed"
        },
        "tags": [],
        "id": "69b485aa"
      },
      "outputs": [],
      "source": [
        "# import pickle\n",
        "\n",
        "# with open(f'./global_pruning.pkl', 'wb') as f:\n",
        "#     pickle.dump(global_pruning, f)"
      ]
    },
    {
      "cell_type": "code",
      "execution_count": null,
      "id": "d46d59ac",
      "metadata": {
        "execution": {
          "iopub.execute_input": "2024-11-30T21:12:53.741851Z",
          "iopub.status.busy": "2024-11-30T21:12:53.741120Z",
          "iopub.status.idle": "2024-11-30T21:12:53.744591Z",
          "shell.execute_reply": "2024-11-30T21:12:53.743880Z"
        },
        "papermill": {
          "duration": 0.03516,
          "end_time": "2024-11-30T21:12:53.746189",
          "exception": false,
          "start_time": "2024-11-30T21:12:53.711029",
          "status": "completed"
        },
        "tags": [],
        "id": "d46d59ac"
      },
      "outputs": [],
      "source": [
        "# from IPython.display import FileLink\n",
        "# FileLink(r'global_pruning.pkl')"
      ]
    },
    {
      "cell_type": "code",
      "execution_count": null,
      "id": "d8079bf3",
      "metadata": {
        "execution": {
          "iopub.execute_input": "2024-11-30T21:12:53.807572Z",
          "iopub.status.busy": "2024-11-30T21:12:53.807215Z",
          "iopub.status.idle": "2024-11-30T21:12:53.810962Z",
          "shell.execute_reply": "2024-11-30T21:12:53.810187Z"
        },
        "papermill": {
          "duration": 0.036498,
          "end_time": "2024-11-30T21:12:53.812626",
          "exception": false,
          "start_time": "2024-11-30T21:12:53.776128",
          "status": "completed"
        },
        "tags": [],
        "id": "d8079bf3"
      },
      "outputs": [],
      "source": [
        "# os.remove(\"/kaggle/working/global_pruning.pkl\")"
      ]
    },
    {
      "cell_type": "code",
      "execution_count": null,
      "id": "99d0344f",
      "metadata": {
        "execution": {
          "iopub.execute_input": "2024-11-30T21:12:53.875178Z",
          "iopub.status.busy": "2024-11-30T21:12:53.874875Z",
          "iopub.status.idle": "2024-11-30T21:12:53.880216Z",
          "shell.execute_reply": "2024-11-30T21:12:53.879650Z"
        },
        "papermill": {
          "duration": 0.038339,
          "end_time": "2024-11-30T21:12:53.881806",
          "exception": false,
          "start_time": "2024-11-30T21:12:53.843467",
          "status": "completed"
        },
        "tags": [],
        "id": "99d0344f"
      },
      "outputs": [],
      "source": [
        "del global_pruning"
      ]
    },
    {
      "cell_type": "markdown",
      "id": "af11fc66",
      "metadata": {
        "id": "af11fc66",
        "papermill": {
          "duration": 0.029191,
          "end_time": "2024-11-30T21:12:53.940244",
          "exception": false,
          "start_time": "2024-11-30T21:12:53.911053",
          "status": "completed"
        },
        "tags": []
      },
      "source": [
        "## 2. Layer-wise Weight Pruning\n",
        "\n",
        "\n",
        "\n",
        "- Perform pruning using `prune.l1_unstructured` on each layer of pretrained VGG16 using various sparsity targets.\n",
        "\n",
        "- Each layer should be pruned away at 5% increments from 5% to 45% total pruning of the model.\n",
        "\n",
        "- Save a copy of each pruned model in a dictionary.\n",
        "\n",
        "- Plot the top-1 accuracy against weight pruned from 0% to 45% (use the original VGG16 for 0%).\n",
        "\n",
        "- What do you observe? Why does layer-wise pruning perform better/worse than global pruning?"
      ]
    },
    {
      "cell_type": "code",
      "execution_count": null,
      "id": "5d1f7f08",
      "metadata": {
        "execution": {
          "iopub.execute_input": "2024-11-30T21:12:53.999982Z",
          "iopub.status.busy": "2024-11-30T21:12:53.999673Z",
          "iopub.status.idle": "2024-11-30T22:12:51.207920Z",
          "shell.execute_reply": "2024-11-30T22:12:51.206601Z"
        },
        "id": "5d1f7f08",
        "outputId": "acf37e5e-7eda-44b7-f9b8-41f19e5d3d1d",
        "papermill": {
          "duration": 3597.270715,
          "end_time": "2024-11-30T22:12:51.240084",
          "exception": false,
          "start_time": "2024-11-30T21:12:53.969369",
          "status": "completed"
        },
        "tags": []
      },
      "outputs": [
        {
          "name": "stdout",
          "output_type": "stream",
          "text": [
            "Original model top-1 accuracy: 71.516%\n",
            "Top1 accuracy for prune amount 5%: 71.5%\n",
            "Top1 accuracy (rel) for prune amount 5%: 99.97762738408188%\n",
            "Top1 accuracy for prune amount 10%: 71.462%\n",
            "Top1 accuracy (rel) for prune amount 10%: 99.92449242127636%\n",
            "Top1 accuracy for prune amount 15%: 71.5%\n",
            "Top1 accuracy (rel) for prune amount 15%: 99.97762738408188%\n",
            "Top1 accuracy for prune amount 20%: 71.34%\n",
            "Top1 accuracy (rel) for prune amount 20%: 99.75390122490072%\n",
            "Top1 accuracy for prune amount 25%: 71.054%\n",
            "Top1 accuracy (rel) for prune amount 25%: 99.35399071536439%\n",
            "Top1 accuracy for prune amount 30%: 70.81%\n",
            "Top1 accuracy (rel) for prune amount 30%: 99.01280832261313%\n",
            "Top1 accuracy for prune amount 35%: 69.954%\n",
            "Top1 accuracy (rel) for prune amount 35%: 97.81587337099388%\n",
            "Top1 accuracy for prune amount 40%: 69.186%\n",
            "Top1 accuracy (rel) for prune amount 40%: 96.74198780692433%\n",
            "Top1 accuracy for prune amount 45%: 67.216%\n",
            "Top1 accuracy (rel) for prune amount 45%: 93.98735947200625%\n"
          ]
        }
      ],
      "source": [
        "orig_model = models.vgg16(pretrained=True)#TODO: load pretrained model\n",
        "prune_rate_list = range(5, 50, 5) # List of prune rate to test from 5-45 inclusive with step of 5\n",
        "layer_pruning = {} # Dictionary to store layer pruning results\n",
        "orig_top1_acc = evaluate(orig_model, val_dataloader)\n",
        "print(f'Original model top-1 accuracy: {orig_top1_acc}%')\n",
        "\n",
        "for prune_rate in prune_rate_list:\n",
        "\n",
        "    model = models.vgg16(pretrained=True)#TODO: load pretrained model\n",
        "    # convs_to_prune = () #TODO: Add conv layers to prune\n",
        "    for layer in model.features:\n",
        "        if isinstance(layer, nn.Conv2d):\n",
        "            prune.l1_unstructured(layer, name='weight', amount=prune_rate / 100)\n",
        "            prune.remove(layer, 'weight')\n",
        "\n",
        "    # linears_to_prune = () #TODO: Add linear layers to prune\n",
        "    for layer in model.classifier:\n",
        "        if isinstance(layer, nn.Linear):\n",
        "            prune.l1_unstructured(layer, name='weight', amount=prune_rate / 100)\n",
        "            prune.remove(layer, 'weight')\n",
        "\n",
        "    #TODO: Prune model\n",
        "\n",
        "    layer_pruning[prune_rate] = {} # Dictionary to store accuracy results and model for each prune rate\n",
        "    layer_pruning[prune_rate]['model'] = model # Copy pruned model to dictionary\n",
        "\n",
        "    # TODO Run validation on the pruned model\n",
        "    top1_acc = evaluate(model, val_dataloader)\n",
        "    layer_pruning[prune_rate]['top1_acc'] = top1_acc # TODO fill with top1 accuracy\n",
        "    layer_pruning[prune_rate]['top1_acc_rel'] = top1_acc / orig_top1_acc * 100 # Percent accuracy compared to original model\n",
        "\n",
        "    print(f'Top1 accuracy for prune amount {prune_rate}%: {layer_pruning[prune_rate][\"top1_acc\"]}%')\n",
        "    print(f'Top1 accuracy (rel) for prune amount {prune_rate}%: {layer_pruning[prune_rate][\"top1_acc_rel\"]}%')\n",
        "\n",
        "\n",
        "\n",
        "# with open(f'./layer_pruning.pkl', 'wb') as f:\n",
        "#     pickle.dump(layer_pruning, f)\n",
        "\n",
        "# print(f'Dictionary saved to {save_path}')\n",
        "# TODO plot the results"
      ]
    },
    {
      "cell_type": "code",
      "execution_count": null,
      "id": "f4f2e7d5",
      "metadata": {
        "execution": {
          "iopub.execute_input": "2024-11-30T22:12:51.303293Z",
          "iopub.status.busy": "2024-11-30T22:12:51.302333Z",
          "iopub.status.idle": "2024-11-30T22:12:51.307146Z",
          "shell.execute_reply": "2024-11-30T22:12:51.306370Z"
        },
        "papermill": {
          "duration": 0.038291,
          "end_time": "2024-11-30T22:12:51.308661",
          "exception": false,
          "start_time": "2024-11-30T22:12:51.270370",
          "status": "completed"
        },
        "tags": [],
        "id": "f4f2e7d5"
      },
      "outputs": [],
      "source": [
        "# import pickle\n",
        "\n",
        "# with open(f'./layer_pruning.pkl', 'wb') as f:\n",
        "#     pickle.dump(layer_pruning, f)"
      ]
    },
    {
      "cell_type": "code",
      "execution_count": null,
      "id": "7175321e",
      "metadata": {
        "execution": {
          "iopub.execute_input": "2024-11-30T22:12:51.369836Z",
          "iopub.status.busy": "2024-11-30T22:12:51.369182Z",
          "iopub.status.idle": "2024-11-30T22:12:51.681166Z",
          "shell.execute_reply": "2024-11-30T22:12:51.680215Z"
        },
        "id": "7175321e",
        "papermill": {
          "duration": 0.344591,
          "end_time": "2024-11-30T22:12:51.682831",
          "exception": false,
          "start_time": "2024-11-30T22:12:51.338240",
          "status": "completed"
        },
        "tags": [],
        "outputId": "c74543fd-311f-4519-a6dc-a7b6501324c9"
      },
      "outputs": [
        {
          "data": {
            "image/png": "[encoded data removed]",
            "text/plain": [
              "<Figure size 1000x600 with 1 Axes>"
            ]
          },
          "metadata": {},
          "output_type": "display_data"
        }
      ],
      "source": [
        "prune_rates = list(layer_pruning.keys())\n",
        "top1_accuracies = [layer_pruning[rate]['top1_acc'] for rate in prune_rates]\n",
        "\n",
        "\n",
        "plt.figure(figsize=(10, 6))\n",
        "plt.plot(prune_rates, top1_accuracies, marker='o', linestyle='-', label='Pruned Model')\n",
        "plt.axhline(y=orig_top1_acc, color='r', linestyle='--', label='Original Model')\n",
        "plt.title('Top-1 Accuracy vs Weight Pruned (Layer-wise Unstructured Pruning)')\n",
        "plt.xlabel('Percentage of Weights Pruned')\n",
        "plt.ylabel('Top-1 Accuracy (%)')\n",
        "plt.grid(True)\n",
        "plt.legend()\n",
        "plt.show()"
      ]
    },
    {
      "cell_type": "markdown",
      "source": [
        "### Observations\n",
        "\n",
        "- Accuracy Retention at Low Sparsity Levels (5% - 15%):\n",
        "\n",
        "  - Layer-wise pruning retains accuracy close to the original model at lower pruning levels, as less significant weights are removed independently within each layer.\n",
        "  - Balanced pruning ensures no specific layer is disproportionately affected, leading to minimal performance impact.\n",
        "\n",
        "- Gradual Accuracy Decline (20% - 30%):\n",
        "\n",
        "  - Beyond 15% pruning, accuracy begins to decline steadily as layers start losing their representational capacity.\n",
        "  - Pruning higher percentages removes weights critical to feature extraction, reducing overall performance.\n",
        "\n",
        "- Significant Drop at High Sparsity Levels (35% - 45%):\n",
        "\n",
        "  - At higher pruning levels, accuracy drops sharply, with a noticeable drop to around 67% at 45% pruning.\n",
        "  - Critical weights within layers are pruned, severely impacting performance.\n",
        "\n",
        "### Comparison with Global Pruning\n",
        "\n",
        "- Better at Low Sparsity: Layer-wise pruning ensures balanced pruning across layers, avoiding over-pruning in smaller or sensitive layers, leading to better accuracy than global pruning at lower sparsity levels (up to 15%).\n",
        "\n",
        "- Worse at High Sparsity: Unlike global pruning, layer-wise pruning does not account for global weight importance, making it less effective at high sparsity levels. Global pruning achieves better accuracy at higher pruning rates by prioritizing global weight importance.\n",
        "\n",
        "To conclude, layer-wise pruning excels at maintaining performance at low sparsity but underperforms compared to global pruning as pruning levels increase."
      ],
      "metadata": {
        "id": "NnC6j3dTMgdG"
      },
      "id": "NnC6j3dTMgdG"
    },
    {
      "cell_type": "code",
      "execution_count": null,
      "id": "9a3eaa2b",
      "metadata": {
        "execution": {
          "iopub.execute_input": "2024-11-30T22:12:51.746460Z",
          "iopub.status.busy": "2024-11-30T22:12:51.745767Z",
          "iopub.status.idle": "2024-11-30T22:12:51.749686Z",
          "shell.execute_reply": "2024-11-30T22:12:51.748876Z"
        },
        "papermill": {
          "duration": 0.037565,
          "end_time": "2024-11-30T22:12:51.751744",
          "exception": false,
          "start_time": "2024-11-30T22:12:51.714179",
          "status": "completed"
        },
        "tags": [],
        "id": "9a3eaa2b"
      },
      "outputs": [],
      "source": [
        "# from IPython.display import FileLink\n",
        "# FileLink(r'layer_pruning.pkl')"
      ]
    },
    {
      "cell_type": "code",
      "execution_count": null,
      "id": "4a63e8aa",
      "metadata": {
        "execution": {
          "iopub.execute_input": "2024-11-30T22:12:51.820114Z",
          "iopub.status.busy": "2024-11-30T22:12:51.819853Z",
          "iopub.status.idle": "2024-11-30T22:12:51.823549Z",
          "shell.execute_reply": "2024-11-30T22:12:51.822766Z"
        },
        "papermill": {
          "duration": 0.036876,
          "end_time": "2024-11-30T22:12:51.825578",
          "exception": false,
          "start_time": "2024-11-30T22:12:51.788702",
          "status": "completed"
        },
        "tags": [],
        "id": "4a63e8aa"
      },
      "outputs": [],
      "source": [
        "# os.remove(\"/kaggle/working/layer_pruning.pkl\")"
      ]
    },
    {
      "cell_type": "code",
      "execution_count": null,
      "id": "7e76683a",
      "metadata": {
        "execution": {
          "iopub.execute_input": "2024-11-30T22:12:51.895286Z",
          "iopub.status.busy": "2024-11-30T22:12:51.895021Z",
          "iopub.status.idle": "2024-11-30T22:12:51.901176Z",
          "shell.execute_reply": "2024-11-30T22:12:51.900460Z"
        },
        "papermill": {
          "duration": 0.039232,
          "end_time": "2024-11-30T22:12:51.902814",
          "exception": false,
          "start_time": "2024-11-30T22:12:51.863582",
          "status": "completed"
        },
        "tags": [],
        "id": "7e76683a"
      },
      "outputs": [],
      "source": [
        "del layer_pruning"
      ]
    },
    {
      "cell_type": "markdown",
      "id": "ab5c94dc",
      "metadata": {
        "id": "ab5c94dc",
        "papermill": {
          "duration": 0.031765,
          "end_time": "2024-11-30T22:12:51.965465",
          "exception": false,
          "start_time": "2024-11-30T22:12:51.933700",
          "status": "completed"
        },
        "tags": []
      },
      "source": [
        "## 3. Layer-wise Output Channel Pruning\n",
        "\n",
        "\n",
        "\n",
        "- Perform pruning using `prune.ln_structured` on each layer of pretrained VGG16 using various sparsity targets.\n",
        "\n",
        "- Prune along the output channels for conv layers and output dimension for linear layers\n",
        "\n",
        "- Do not prune the last linear layer to preserve the number of predicted classes\n",
        "\n",
        "- Each layer should be pruned away at 5% increments from 5% to 45% total pruning of the model.\n",
        "\n",
        "- Save a copy of each pruned model in a dictionary.\n",
        "\n",
        "- Plot the top-1 accuracy against weight pruned from 0% to 45% (use the original VGG16 for 0%).\n",
        "\n",
        "- What do you observe? Why does layer-wise channel pruning perform better/worse than layer-wise unstructured pruning?"
      ]
    },
    {
      "cell_type": "code",
      "execution_count": null,
      "id": "168587bf",
      "metadata": {
        "execution": {
          "iopub.execute_input": "2024-11-30T22:12:52.027939Z",
          "iopub.status.busy": "2024-11-30T22:12:52.027694Z",
          "iopub.status.idle": "2024-11-30T23:11:35.152148Z",
          "shell.execute_reply": "2024-11-30T23:11:35.150947Z"
        },
        "id": "168587bf",
        "papermill": {
          "duration": 3523.189666,
          "end_time": "2024-11-30T23:11:35.185718",
          "exception": false,
          "start_time": "2024-11-30T22:12:51.996052",
          "status": "completed"
        },
        "tags": [],
        "outputId": "8ceab455-4ef2-46bc-a795-27f2444290ca"
      },
      "outputs": [
        {
          "name": "stdout",
          "output_type": "stream",
          "text": [
            "Original model top-1 accuracy: 71.516%\n",
            "Top1 accuracy for prune amount 5%: 64.872%\n",
            "Top1 accuracy (rel) for prune amount 5%: 90.70977124000224%\n",
            "Top1 accuracy for prune amount 10%: 49.978%\n",
            "Top1 accuracy (rel) for prune amount 10%: 69.88366239722579%\n",
            "Top1 accuracy for prune amount 15%: 24.636%\n",
            "Top1 accuracy (rel) for prune amount 15%: 34.44823535991945%\n",
            "Top1 accuracy for prune amount 20%: 9.092%\n",
            "Top1 accuracy (rel) for prune amount 20%: 12.713238995469546%\n",
            "Top1 accuracy for prune amount 25%: 2.772%\n",
            "Top1 accuracy (rel) for prune amount 25%: 3.8760557078136353%\n",
            "Top1 accuracy for prune amount 30%: 0.784%\n",
            "Top1 accuracy (rel) for prune amount 30%: 1.096258179987695%\n",
            "Top1 accuracy for prune amount 35%: 0.33%\n",
            "Top1 accuracy (rel) for prune amount 35%: 0.4614352033111471%\n",
            "Top1 accuracy for prune amount 40%: 0.17%\n",
            "Top1 accuracy (rel) for prune amount 40%: 0.23770904412998486%\n",
            "Top1 accuracy for prune amount 45%: 0.12%\n",
            "Top1 accuracy (rel) for prune amount 45%: 0.16779461938587167%\n"
          ]
        }
      ],
      "source": [
        "orig_model = models.vgg16(pretrained=True)#TODO: load pretrained model\n",
        "prune_rate_list = range(5, 50, 5) # List of prune rate to test from 5-45 inclusive with step of 5\n",
        "channel_pruning = {} # Dictionary to store channel pruning results\n",
        "orig_top1_acc = evaluate(orig_model, val_dataloader)\n",
        "print(f'Original model top-1 accuracy: {orig_top1_acc}%')\n",
        "\n",
        "for prune_rate in prune_rate_list:\n",
        "    model = models.vgg16(pretrained=True) #TODO: load pretrained model\n",
        "    convs_to_prune = () #TODO: Add conv layers to prune\n",
        "\n",
        "    for layer in model.features:\n",
        "        if isinstance(layer, nn.Conv2d):\n",
        "            prune.ln_structured(layer, name='weight', amount=prune_rate / 100, n=1, dim=0)\n",
        "            prune.remove(layer, 'weight')\n",
        "\n",
        "    linears_to_prune = () #TODO: Add linear layers to prune (except the last linear layer)\n",
        "\n",
        "    for i, layer in enumerate(model.classifier):\n",
        "        if isinstance(layer, nn.Linear) and i < len(model.classifier) - 1:\n",
        "            prune.ln_structured(layer, name='weight', amount=prune_rate / 100, n=1, dim=0)\n",
        "            prune.remove(layer, 'weight')\n",
        "\n",
        "    #TODO: Prune model\n",
        "    channel_pruning[prune_rate] = {} # Dictionary to store accuracy results and model for each prune rate\n",
        "    channel_pruning[prune_rate]['model'] = model # Copy pruned model to dictionary\n",
        "\n",
        "    # TODO Run validation on the pruned model\n",
        "    top1_acc = evaluate(model, val_dataloader)\n",
        "    channel_pruning[prune_rate]['top1_acc'] = top1_acc # TODO fill with top1 accuracy\n",
        "    channel_pruning[prune_rate]['top1_acc_rel'] = top1_acc / orig_top1_acc * 100 # Percent accuracy compared to original model\n",
        "\n",
        "    print(f'Top1 accuracy for prune amount {prune_rate}%: {channel_pruning[prune_rate][\"top1_acc\"]}%')\n",
        "    print(f'Top1 accuracy (rel) for prune amount {prune_rate}%: {channel_pruning[prune_rate][\"top1_acc_rel\"]}%')\n",
        "\n",
        "\n",
        "# print(f'Dictionary saved to {save_path}')\n",
        "\n",
        "# TODO plot the results"
      ]
    },
    {
      "cell_type": "code",
      "execution_count": null,
      "id": "560ba8c5",
      "metadata": {
        "execution": {
          "iopub.execute_input": "2024-11-30T23:11:35.249317Z",
          "iopub.status.busy": "2024-11-30T23:11:35.248974Z",
          "iopub.status.idle": "2024-11-30T23:11:35.548036Z",
          "shell.execute_reply": "2024-11-30T23:11:35.547179Z"
        },
        "id": "560ba8c5",
        "papermill": {
          "duration": 0.332887,
          "end_time": "2024-11-30T23:11:35.549696",
          "exception": false,
          "start_time": "2024-11-30T23:11:35.216809",
          "status": "completed"
        },
        "tags": [],
        "outputId": "2024bf6d-b202-4d42-db57-f35ee23b8acd"
      },
      "outputs": [
        {
          "data": {
            "image/png": "[encoded data removed]",
            "text/plain": [
              "<Figure size 1000x600 with 1 Axes>"
            ]
          },
          "metadata": {},
          "output_type": "display_data"
        }
      ],
      "source": [
        "prune_rates = list(channel_pruning.keys())\n",
        "top1_accuracies = [channel_pruning[rate]['top1_acc'] for rate in prune_rates]\n",
        "\n",
        "plt.figure(figsize=(10, 6))\n",
        "plt.plot(prune_rates, top1_accuracies, marker='o', linestyle='-', label='Pruned Model')\n",
        "plt.axhline(y=orig_top1_acc, color='r', linestyle='--', label='Original Model')\n",
        "plt.title('Top-1 Accuracy vs Weight Pruned (Layer-wise Channel Pruning)')\n",
        "plt.xlabel('Percentage of Weights Pruned')\n",
        "plt.ylabel('Top-1 Accuracy (%)')\n",
        "plt.grid(True)\n",
        "plt.legend()\n",
        "plt.show()"
      ]
    },
    {
      "cell_type": "markdown",
      "source": [
        "### Observations\n",
        "\n",
        "- Accuracy Decline at Low Sparsity Levels (5% -10%):\n",
        "\n",
        "  - Accuracy drops sharply even at low pruning rates, with significant degradation compared to unstructured pruning. This indicates the removal of entire feature maps (output channels) has a more severe impact on the model's representational capacity.\n",
        "\n",
        "- Severe Performance Loss Beyond 10% Pruning:\n",
        "\n",
        "  - Beyond 10% pruning, the model's accuracy declines drastically. By 25% pruning, the model loses most of its predictive power, indicating that removing entire output channels eliminates critical information.\n",
        "\n",
        "### Comparison with Layer-Wise Unstructured Pruning:\n",
        "\n",
        "- Worse Performance: Layer-wise channel pruning performs worse than unstructured pruning because removing entire output channels affects entire feature maps, whereas unstructured pruning removes individual weights without discarding full feature maps.\n",
        "\n",
        "- Structured Sparsity: While channel pruning introduces structured sparsity (beneficial for efficiency and inference speed), it sacrifices accuracy significantly, especially without retraining.\n",
        "\n",
        "To conclude, layer-wise channel pruning performs poorly compared to layer-wise unstructured pruning, as it aggressively reduces the network's ability to retain meaningful features, resulting in a sharper accuracy decline."
      ],
      "metadata": {
        "id": "lbikDtlGNbMv"
      },
      "id": "lbikDtlGNbMv"
    },
    {
      "cell_type": "code",
      "execution_count": null,
      "id": "a369030e",
      "metadata": {
        "execution": {
          "iopub.execute_input": "2024-11-30T23:11:35.614814Z",
          "iopub.status.busy": "2024-11-30T23:11:35.614112Z",
          "iopub.status.idle": "2024-11-30T23:11:35.617727Z",
          "shell.execute_reply": "2024-11-30T23:11:35.616891Z"
        },
        "papermill": {
          "duration": 0.03747,
          "end_time": "2024-11-30T23:11:35.619409",
          "exception": false,
          "start_time": "2024-11-30T23:11:35.581939",
          "status": "completed"
        },
        "tags": [],
        "id": "a369030e"
      },
      "outputs": [],
      "source": [
        "# with open(f'./channel_pruning.pkl', 'wb') as f:\n",
        "#     pickle.dump(channel_pruning, f)"
      ]
    },
    {
      "cell_type": "code",
      "execution_count": null,
      "id": "b84fb4dc",
      "metadata": {
        "execution": {
          "iopub.execute_input": "2024-11-30T23:11:35.683319Z",
          "iopub.status.busy": "2024-11-30T23:11:35.683083Z",
          "iopub.status.idle": "2024-11-30T23:11:35.686473Z",
          "shell.execute_reply": "2024-11-30T23:11:35.685682Z"
        },
        "papermill": {
          "duration": 0.037422,
          "end_time": "2024-11-30T23:11:35.688209",
          "exception": false,
          "start_time": "2024-11-30T23:11:35.650787",
          "status": "completed"
        },
        "tags": [],
        "id": "b84fb4dc"
      },
      "outputs": [],
      "source": [
        "# from IPython.display import FileLink\n",
        "# FileLink(r'channel_pruning.pkl')"
      ]
    },
    {
      "cell_type": "code",
      "execution_count": null,
      "id": "8f56da4e",
      "metadata": {
        "execution": {
          "iopub.execute_input": "2024-11-30T23:11:35.752249Z",
          "iopub.status.busy": "2024-11-30T23:11:35.751994Z",
          "iopub.status.idle": "2024-11-30T23:11:35.755631Z",
          "shell.execute_reply": "2024-11-30T23:11:35.754812Z"
        },
        "papermill": {
          "duration": 0.03733,
          "end_time": "2024-11-30T23:11:35.757167",
          "exception": false,
          "start_time": "2024-11-30T23:11:35.719837",
          "status": "completed"
        },
        "tags": [],
        "id": "8f56da4e"
      },
      "outputs": [],
      "source": [
        "# os.remove(\"/kaggle/working/channel_pruning.pkl\")"
      ]
    },
    {
      "cell_type": "markdown",
      "id": "ae2ce9ed",
      "metadata": {
        "id": "ae2ce9ed",
        "papermill": {
          "duration": 0.031737,
          "end_time": "2024-11-30T23:11:35.820523",
          "exception": false,
          "start_time": "2024-11-30T23:11:35.788786",
          "status": "completed"
        },
        "tags": []
      },
      "source": [
        "## 3.5 Layer-wise Output Channel Pruning (Continued)\n",
        "\n",
        "\n",
        "\n",
        "In this section, we harden the channel pruning by removing the channels\n",
        "\n",
        "- Collect the number of non-zero output channels for each layer after `prune.ln_structured`\n",
        "\n",
        "- Instantiate a new model based on the number of non-zero output channels\n",
        "\n",
        "- Remember that the input channels of next layer should match the output channels for current layer\n",
        "\n",
        "- Pay special attention to the last convolution layer and first linear layer\n",
        "\n",
        "- Copy over the the non-zero weights from the pruned model to the hardened model\n",
        "\n",
        "- Calculate the run time and model size for the original VGG16 and the hardened VGG16s\n",
        "\n",
        "- Plot the **relative** top-1 accuracy, run time and model size from 0% to 45% pruned VGG16\n",
        "\n",
        "- What do you observe? What is the trade-off between accuracy, run time, and model size?"
      ]
    },
    {
      "cell_type": "code",
      "execution_count": null,
      "id": "2de20262",
      "metadata": {
        "execution": {
          "iopub.execute_input": "2024-11-30T23:11:35.884955Z",
          "iopub.status.busy": "2024-11-30T23:11:35.884697Z",
          "iopub.status.idle": "2024-11-30T23:11:35.888112Z",
          "shell.execute_reply": "2024-11-30T23:11:35.887310Z"
        },
        "papermill": {
          "duration": 0.037882,
          "end_time": "2024-11-30T23:11:35.889808",
          "exception": false,
          "start_time": "2024-11-30T23:11:35.851926",
          "status": "completed"
        },
        "tags": [],
        "id": "2de20262"
      },
      "outputs": [],
      "source": [
        "# torch.cuda.empty_cache()"
      ]
    },
    {
      "cell_type": "code",
      "execution_count": null,
      "id": "1238e9a5",
      "metadata": {
        "execution": {
          "iopub.execute_input": "2024-11-30T23:11:35.954231Z",
          "iopub.status.busy": "2024-11-30T23:11:35.953963Z",
          "iopub.status.idle": "2024-11-30T23:11:35.957362Z",
          "shell.execute_reply": "2024-11-30T23:11:35.956575Z"
        },
        "papermill": {
          "duration": 0.037606,
          "end_time": "2024-11-30T23:11:35.958922",
          "exception": false,
          "start_time": "2024-11-30T23:11:35.921316",
          "status": "completed"
        },
        "tags": [],
        "id": "1238e9a5"
      },
      "outputs": [],
      "source": [
        "# del global_pruning"
      ]
    },
    {
      "cell_type": "code",
      "execution_count": null,
      "id": "d0f785e5",
      "metadata": {
        "execution": {
          "iopub.execute_input": "2024-11-30T23:11:36.023528Z",
          "iopub.status.busy": "2024-11-30T23:11:36.023274Z",
          "iopub.status.idle": "2024-12-01T00:02:24.977934Z",
          "shell.execute_reply": "2024-12-01T00:02:24.976757Z"
        },
        "id": "d0f785e5",
        "papermill": {
          "duration": 3049.023615,
          "end_time": "2024-12-01T00:02:25.014077",
          "exception": false,
          "start_time": "2024-11-30T23:11:35.990462",
          "status": "completed"
        },
        "tags": [],
        "outputId": "6eb5200d-f79b-4ed1-c522-175c005bd7d4"
      },
      "outputs": [
        {
          "name": "stdout",
          "output_type": "stream",
          "text": [
            "Original model - Top-1 Accuracy: 71.516%, Model Size: 553.44 MB, Runtime: 349.34s, Parameters count: 138357544 parameters\n",
            "Non-zero channels collected: [61, 61, 122, 122, 243, 243, 243, 486, 486, 486, 486, 486, 486]\n"
          ]
        },
        {
          "name": "stderr",
          "output_type": "stream",
          "text": [
            "/opt/conda/lib/python3.10/site-packages/torchvision/models/_utils.py:223: UserWarning: Arguments other than a weight enum or `None` for 'weights' are deprecated since 0.13 and may be removed in the future. The current behavior is equivalent to passing `weights=None`.\n",
            "  warnings.warn(msg)\n"
          ]
        },
        {
          "name": "stdout",
          "output_type": "stream",
          "text": [
            "For prune amount 5% Top1 accuracy: 45.79%; Model Size: 526.75 MB; Runtime: 344.97s; Parameters: 125308777.00 parameters\n",
            "For prune amount 5% Top1 accuracy (rel): 64.03%; Model Size (rel): 95.18%; Runtime (rel): 98.75%; Parametres (rel): 90.57%\n",
            "Non-zero channels collected: [58, 58, 115, 115, 230, 230, 230, 461, 461, 461, 461, 461, 461]\n",
            "For prune amount 10% Top1 accuracy: 8.758%; Model Size: 501.33 MB; Runtime: 334.82s; Parameters: 113245469.00 parameters\n",
            "For prune amount 10% Top1 accuracy (rel): 12.25%; Model Size (rel): 90.58%; Runtime (rel): 95.84%; Parametres (rel): 81.85%\n",
            "Non-zero channels collected: [54, 54, 109, 109, 218, 218, 218, 435, 435, 435, 435, 435, 435]\n",
            "For prune amount 15% Top1 accuracy: 0.774%; Model Size: 475.28 MB; Runtime: 312.50s; Parameters: 101669138.00 parameters\n",
            "For prune amount 15% Top1 accuracy (rel): 1.08%; Model Size (rel): 85.88%; Runtime (rel): 89.45%; Parametres (rel): 73.48%\n",
            "Non-zero channels collected: [51, 51, 102, 102, 205, 205, 205, 410, 410, 410, 410, 410, 410]\n",
            "For prune amount 20% Top1 accuracy: 0.172%; Model Size: 450.43 MB; Runtime: 302.31s; Parameters: 90958963.00 parameters\n",
            "For prune amount 20% Top1 accuracy (rel): 0.24%; Model Size (rel): 81.39%; Runtime (rel): 86.54%; Parametres (rel): 65.74%\n",
            "Non-zero channels collected: [48, 48, 96, 96, 192, 192, 192, 384, 384, 384, 384, 384, 384]\n",
            "For prune amount 25% Top1 accuracy: 0.096%; Model Size: 424.93 MB; Runtime: 282.79s; Parameters: 80750869.00 parameters\n",
            "For prune amount 25% Top1 accuracy (rel): 0.13%; Model Size (rel): 76.78%; Runtime (rel): 80.95%; Parametres (rel): 58.36%\n",
            "Non-zero channels collected: [45, 45, 90, 90, 179, 179, 179, 358, 358, 358, 358, 358, 358]\n",
            "For prune amount 30% Top1 accuracy: 0.102%; Model Size: 399.74 MB; Runtime: 279.22s; Parameters: 71230985.00 parameters\n",
            "For prune amount 30% Top1 accuracy (rel): 0.14%; Model Size (rel): 72.23%; Runtime (rel): 79.93%; Parametres (rel): 51.48%\n",
            "Non-zero channels collected: [42, 42, 83, 83, 166, 166, 166, 333, 333, 333, 333, 333, 333]\n",
            "For prune amount 35% Top1 accuracy: 0.1%; Model Size: 375.76 MB; Runtime: 274.19s; Parameters: 62565843.00 parameters\n",
            "For prune amount 35% Top1 accuracy (rel): 0.14%; Model Size (rel): 67.90%; Runtime (rel): 78.49%; Parametres (rel): 45.22%\n",
            "Non-zero channels collected: [38, 38, 77, 77, 154, 154, 154, 307, 307, 307, 307, 307, 307]\n",
            "For prune amount 40% Top1 accuracy: 0.1%; Model Size: 351.19 MB; Runtime: 262.95s; Parameters: 54379598.00 parameters\n",
            "For prune amount 40% Top1 accuracy (rel): 0.14%; Model Size (rel): 63.46%; Runtime (rel): 75.27%; Parametres (rel): 39.30%\n",
            "Non-zero channels collected: [35, 35, 70, 70, 141, 141, 141, 282, 282, 282, 282, 282, 282]\n",
            "For prune amount 45% Top1 accuracy: 0.102%; Model Size: 327.79 MB; Runtime: 265.83s; Parameters: 46931104.00 parameters\n",
            "For prune amount 45% Top1 accuracy (rel): 0.14%; Model Size (rel): 59.23%; Runtime (rel): 76.10%; Parametres (rel): 33.92%\n"
          ]
        }
      ],
      "source": [
        "prune_rate_list = range(5, 50, 5) # List of prune rate to test from 5-45 inclusive with step of 5\n",
        "hardened_pruning = {} # Dictionary to store hardened pruning results\n",
        "orig_model = models.vgg16(pretrained=True)\n",
        "st = time.time()\n",
        "orig_top1_acc = evaluate(orig_model, val_dataloader)\n",
        "end = time.time()\n",
        "orig_runtime = end - st\n",
        "orig_model_size = sum(param.numel() for param in orig_model.parameters())\n",
        "orig_model_param_count = count_params(orig_model)\n",
        "orig_model_size = get_size_of_model(orig_model)\n",
        "print(f'Original model - Top-1 Accuracy: {orig_top1_acc}%, Model Size: {orig_model_size:.2f} MB, Runtime: {orig_runtime:.2f}s, Parameters count: {orig_model_param_count} parameters')\n",
        "\n",
        "for prune_rate in prune_rate_list:\n",
        "    #TODO: Collect the number of non-zero channels for each layer\n",
        "    pruned_model = channel_pruning[prune_rate]['model']\n",
        "\n",
        "    non_zero_channels = collect_non_zero_channels(pruned_model)\n",
        "\n",
        "    #TODO: Instantiate a new model based on collected number of non-zero channels\n",
        "    hardened_model = create_hardened_model(pruned_model, non_zero_channels)\n",
        "\n",
        "    hardened_pruning[prune_rate] = {} # Dictionary to store accuracy results and model for each prune rate\n",
        "    hardened_pruning[prune_rate]['model'] = hardened_model # Copy original model to dictionary\n",
        "\n",
        "    st = time.time()\n",
        "    top1_acc = evaluate(hardened_model, val_dataloader)\n",
        "    end = time.time()\n",
        "    hardened_runtime = end - st\n",
        "    hardened_model_size = sum(param.numel() for param in hardened_model.parameters())\n",
        "    hardened_model_param_count = count_params(hardened_model)\n",
        "    hardened_model_size = get_size_of_model(hardened_model)\n",
        "    hardened_pruning[prune_rate]['top1_acc'] = top1_acc # TODO fill with top1 accuracy\n",
        "    hardened_pruning[prune_rate]['top1_acc_rel'] = top1_acc / orig_top1_acc * 100 # TODO Percent accuracy compared to original model\n",
        "    hardened_pruning[prune_rate]['run_time'] = hardened_runtime # TODO Collect run time of the hardened model\n",
        "    hardened_pruning[prune_rate]['run_time_rel'] = hardened_runtime / orig_runtime * 100 # TODO Collect run time (relative) of the hardened model\n",
        "    hardened_pruning[prune_rate]['model_size'] = hardened_model_size # TODO Collect model size of the hardened model\n",
        "    hardened_pruning[prune_rate]['model_size_rel'] = hardened_model_size / orig_model_size * 100 # TODO Collect model size (relative) of the hardened model\n",
        "    hardened_pruning[prune_rate]['model_param_count'] = hardened_model_param_count # TODO Collect model param count of the hardened model\n",
        "    hardened_pruning[prune_rate]['model_param_count_rel'] = hardened_model_param_count / orig_model_param_count * 100 # TODO Collect model param count (relative) of the hardened model\n",
        "\n",
        "    print(f'For prune amount {prune_rate}% Top1 accuracy: {top1_acc}%; Model Size: {hardened_model_size:.2f} MB; Runtime: {hardened_runtime:.2f}s; Parameters: {hardened_model_param_count:.2f} parameters')\n",
        "    print(f'For prune amount {prune_rate}% Top1 accuracy (rel): {hardened_pruning[prune_rate][\"top1_acc_rel\"]:.2f}%; Model Size (rel): {hardened_pruning[prune_rate][\"model_size_rel\"]:.2f}%; Runtime (rel): {hardened_pruning[prune_rate][\"run_time_rel\"]:.2f}%; Parametres (rel): {hardened_pruning[prune_rate][\"model_param_count_rel\"]:.2f}%')\n",
        "\n",
        "# with open(f'./hardened_pruning.pkl', 'wb') as f:\n",
        "    # pickle.dump(hardened_pruning, f)\n",
        "\n",
        "# print(f'Dictionary saved to {save_path}')"
      ]
    },
    {
      "cell_type": "code",
      "execution_count": null,
      "id": "884260fd",
      "metadata": {
        "execution": {
          "iopub.execute_input": "2024-12-01T00:02:25.094612Z",
          "iopub.status.busy": "2024-12-01T00:02:25.094213Z",
          "iopub.status.idle": "2024-12-01T00:02:25.956061Z",
          "shell.execute_reply": "2024-12-01T00:02:25.955171Z"
        },
        "id": "884260fd",
        "papermill": {
          "duration": 0.904495,
          "end_time": "2024-12-01T00:02:25.957770",
          "exception": false,
          "start_time": "2024-12-01T00:02:25.053275",
          "status": "completed"
        },
        "tags": [],
        "outputId": "e6db9c50-2867-497a-f485-dbdeaf6f994d"
      },
      "outputs": [
        {
          "data": {
            "image/png": "[encoded data removed]",
            "text/plain": [
              "<Figure size 1800x600 with 3 Axes>"
            ]
          },
          "metadata": {},
          "output_type": "display_data"
        }
      ],
      "source": [
        "#TODO plot the relative accuracy, relative run time, and relative model size\n",
        "prune_rates = list(hardened_pruning.keys())\n",
        "top1_accuracies = [\n",
        "    value.cpu().item() if torch.is_tensor(value) else value\n",
        "    for value in [hardened_pruning[rate]['top1_acc_rel'] for rate in prune_rates]\n",
        "]\n",
        "run_times = [\n",
        "    value.cpu().item() if torch.is_tensor(value) else value\n",
        "    for value in [hardened_pruning[rate]['run_time_rel'] for rate in prune_rates]\n",
        "]\n",
        "model_sizes = [\n",
        "    value.cpu().item() if torch.is_tensor(value) else value\n",
        "    for value in [hardened_pruning[rate]['model_size_rel'] for rate in prune_rates]\n",
        "]\n",
        "\n",
        "\n",
        "plt.figure(figsize=(18, 6))\n",
        "plt.subplot(1, 3, 1)\n",
        "plt.plot(prune_rates, top1_accuracies, marker='o', linestyle='-', color='b', label='Relative Top-1 Accuracy')\n",
        "plt.axhline(y=100, color='r', linestyle='--', label='Original Model')\n",
        "plt.title('Top-1 Accuracy vs Prune Rate (Hardened Model)')\n",
        "plt.xlabel('Pruning Rate (%)')\n",
        "plt.ylabel('Relative Top-1 Accuracy (%)')\n",
        "plt.grid(True)\n",
        "plt.legend()\n",
        "\n",
        "\n",
        "plt.subplot(1, 3, 2)\n",
        "plt.plot(prune_rates, run_times, marker='o', linestyle='-', color='g', label='Relative Runtime')\n",
        "plt.axhline(y=100, color='r', linestyle='--', label='Original Model')\n",
        "plt.title('Runtime vs Prune Rate (Hardened Model)')\n",
        "plt.xlabel('Pruning Rate (%)')\n",
        "plt.ylabel('Relative Runtime (%)')\n",
        "plt.grid(True)\n",
        "plt.legend()\n",
        "\n",
        "\n",
        "plt.subplot(1, 3, 3)\n",
        "plt.plot(prune_rates, model_sizes, marker='o', linestyle='-', color='purple', label='Relative Model Size')\n",
        "plt.axhline(y=100, color='r', linestyle='--', label='Original Model')\n",
        "plt.title('Model Size vs Prune Rate (Hardened Model)')\n",
        "plt.xlabel('Pruning Rate (%)')\n",
        "plt.ylabel('Relative Model Size (%)')\n",
        "plt.grid(True)\n",
        "plt.legend()\n",
        "\n",
        "plt.tight_layout()\n",
        "plt.show()"
      ]
    },
    {
      "cell_type": "markdown",
      "source": [
        "### Observations\n",
        "\n",
        "- Accuracy Decline:\n",
        "\n",
        "  - The relative top-1 accuracy drops sharply at low pruning rates (5% - 10%) and becomes negligible beyond 15% pruning. This shows that permanently removing entire channels severely limits the model's ability to retain meaningful features without retraining.\n",
        "\n",
        "- Runtime Improvements:\n",
        "\n",
        "  - As pruning increases, runtime decreases steadily due to the structured sparsity introduced by hardened pruning. At 45% pruning, runtime is reduced to about 76% of the original, highlighting its efficiency for inference tasks.\n",
        "\n",
        "- Model Size Reduction:\n",
        "\n",
        "  - The relative model size decreases linearly with pruning, reaching less than 60% of the original size at 45% pruning. This demonstrates that hardened pruning effectively reduces storage requirements by directly removing unused channels.\n",
        "\n",
        "### Trade-Off\n",
        "\n",
        "- Efficiency vs. Performance:\n",
        "  - While hardened pruning significantly reduces model size and runtime, making it suitable for deployment in resource-constrained environments, it leads to a steep accuracy decline, especially beyond 15% pruning. This trade-off makes the technique less favorable for tasks requiring high predictive performance unless retraining is performed.\n",
        "\n",
        "In summary, hardened channel pruning provides substantial computational and storage efficiency gains but sacrifices accuracy, with its usability dependent on specific use-case requirements."
      ],
      "metadata": {
        "id": "n9tjq0glOrws"
      },
      "id": "n9tjq0glOrws"
    },
    {
      "cell_type": "code",
      "execution_count": null,
      "id": "72c396b3",
      "metadata": {
        "execution": {
          "iopub.execute_input": "2024-12-01T00:02:26.029879Z",
          "iopub.status.busy": "2024-12-01T00:02:26.029020Z",
          "iopub.status.idle": "2024-12-01T00:02:26.033033Z",
          "shell.execute_reply": "2024-12-01T00:02:26.032197Z"
        },
        "papermill": {
          "duration": 0.041575,
          "end_time": "2024-12-01T00:02:26.034741",
          "exception": false,
          "start_time": "2024-12-01T00:02:25.993166",
          "status": "completed"
        },
        "tags": [],
        "id": "72c396b3"
      },
      "outputs": [],
      "source": [
        "# import pickle\n",
        "# with open(f'./hardened_pruning.pkl', 'wb') as f:\n",
        "#     pickle.dump(hardened_pruning, f)"
      ]
    },
    {
      "cell_type": "code",
      "execution_count": null,
      "id": "f8c89a6d",
      "metadata": {
        "execution": {
          "iopub.execute_input": "2024-12-01T00:02:26.106873Z",
          "iopub.status.busy": "2024-12-01T00:02:26.106492Z",
          "iopub.status.idle": "2024-12-01T00:02:26.110237Z",
          "shell.execute_reply": "2024-12-01T00:02:26.109480Z"
        },
        "papermill": {
          "duration": 0.041968,
          "end_time": "2024-12-01T00:02:26.111867",
          "exception": false,
          "start_time": "2024-12-01T00:02:26.069899",
          "status": "completed"
        },
        "tags": [],
        "id": "f8c89a6d"
      },
      "outputs": [],
      "source": [
        "# from IPython.display import FileLink\n",
        "# FileLink(r'hardened_pruning.pkl')"
      ]
    },
    {
      "cell_type": "code",
      "execution_count": null,
      "id": "ed09a2a2",
      "metadata": {
        "execution": {
          "iopub.execute_input": "2024-12-01T00:02:26.184932Z",
          "iopub.status.busy": "2024-12-01T00:02:26.184588Z",
          "iopub.status.idle": "2024-12-01T00:02:26.188524Z",
          "shell.execute_reply": "2024-12-01T00:02:26.187708Z"
        },
        "papermill": {
          "duration": 0.042165,
          "end_time": "2024-12-01T00:02:26.190186",
          "exception": false,
          "start_time": "2024-12-01T00:02:26.148021",
          "status": "completed"
        },
        "tags": [],
        "id": "ed09a2a2"
      },
      "outputs": [],
      "source": [
        "# os.remove(\"/kaggle/working/hardened_pruning.pkl\")"
      ]
    },
    {
      "cell_type": "markdown",
      "id": "918f27bc",
      "metadata": {
        "id": "918f27bc",
        "papermill": {
          "duration": 0.034718,
          "end_time": "2024-12-01T00:02:26.260464",
          "exception": false,
          "start_time": "2024-12-01T00:02:26.225746",
          "status": "completed"
        },
        "tags": []
      },
      "source": [
        "## 4. Training-Aware Pruning or Iterative Pruning"
      ]
    },
    {
      "cell_type": "markdown",
      "id": "167cb032",
      "metadata": {
        "id": "167cb032",
        "papermill": {
          "duration": 0.03482,
          "end_time": "2024-12-01T00:02:26.330942",
          "exception": false,
          "start_time": "2024-12-01T00:02:26.296122",
          "status": "completed"
        },
        "tags": []
      },
      "source": [
        "## 5. (Optional) Bonus Exploration"
      ]
    }
  ],
  "metadata": {
    "accelerator": "GPU",
    "colab": {
      "provenance": []
    },
    "gpuClass": "standard",
    "kaggle": {
      "accelerator": "gpu",
      "dataSources": [],
      "dockerImageVersionId": 30787,
      "isGpuEnabled": true,
      "isInternetEnabled": true,
      "language": "python",
      "sourceType": "notebook"
    },
    "kernelspec": {
      "display_name": "Python 3",
      "language": "python",
      "name": "python3"
    },
    "language_info": {
      "codemirror_mode": {
        "name": "ipython",
        "version": 3
      },
      "file_extension": ".py",
      "mimetype": "text/x-python",
      "name": "python",
      "nbconvert_exporter": "python",
      "pygments_lexer": "ipython3",
      "version": "3.10.14"
    },
    "papermill": {
      "default_parameters": {},
      "duration": 13919.439099,
      "end_time": "2024-12-01T00:02:27.989365",
      "environment_variables": {},
      "exception": null,
      "input_path": "__notebook__.ipynb",
      "output_path": "__notebook__.ipynb",
      "parameters": {},
      "start_time": "2024-11-30T20:10:28.550266",
      "version": "2.6.0"
    },
    "vscode": {
      "interpreter": {
        "hash": "916dbcbb3f70747c44a77c7bcd40155683ae19c65e1c03b4aa3499c5328201f1"
      }
    }
  },
  "nbformat": 4,
  "nbformat_minor": 5
}