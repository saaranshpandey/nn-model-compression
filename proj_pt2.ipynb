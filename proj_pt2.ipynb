{
 "cells": [
  {
   "cell_type": "markdown",
   "metadata": {},
   "source": [
    "## 4) Iterative Pruning"
   ]
  },
  {
   "cell_type": "code",
   "execution_count": null,
   "metadata": {},
   "outputs": [
    {
     "name": "stderr",
     "output_type": "stream",
     "text": [
      "d:\\Anaconda\\envs\\ese539\\Lib\\site-packages\\tqdm\\auto.py:21: TqdmWarning: IProgress not found. Please update jupyter and ipywidgets. See https://ipywidgets.readthedocs.io/en/stable/user_install.html\n",
      "  from .autonotebook import tqdm as notebook_tqdm\n"
     ]
    },
    {
     "name": "stdout",
     "output_type": "stream",
     "text": [
      "PyTorch Version:  2.4.1+cu121\n",
      "Torchvision Version:  0.19.1+cu121\n",
      "gdown is already installed, skipping installing command to save time......\n"
     ]
    }
   ],
   "source": [
    "import torch\n",
    "import torch.nn as nn\n",
    "import torch.nn.utils.prune as prune\n",
    "import torchvision\n",
    "import time\n",
    "import numpy as np\n",
    "import copy\n",
    "import sys\n",
    "import os\n",
    "from torchvision import datasets, models, transforms\n",
    "from pathlib import Path\n",
    "import random\n",
    "import matplotlib.pyplot as plt\n",
    "from tqdm.auto import tqdm\n",
    "from torchvision.datasets import ImageFolder\n",
    "\n",
    "print(\"PyTorch Version: \", torch.__version__)\n",
    "print(\"Torchvision Version: \", torchvision.__version__)\n",
    "Path(\"./data\").mkdir(parents=True, exist_ok=True)\n",
    "data_dir = Path('./data')\n",
    "net_fn = Path('./net')\n",
    "from torch.utils.data import DataLoader, random_split\n",
    "# see if gdown is already downloaded\n",
    "try:\n",
    "    import gdown\n",
    "    print(\"gdown is already installed, skipping installing command to save time......\")\n",
    "except ImportError:\n",
    "    !conda install -y gdown\n",
    "\n",
    "# Seed for reproducibility \n",
    "torch.manual_seed(0)\n",
    "np.random.seed(0)"
   ]
  },
  {
   "cell_type": "code",
   "execution_count": null,
   "metadata": {},
   "outputs": [
    {
     "name": "stdout",
     "output_type": "stream",
     "text": [
      "PyTorch Version:  2.4.0\n",
      "Torchvision Version:  0.19.0\n",
      "gdown is already installed, skipping installing command to save time......\n"
     ]
    }
   ],
   "source": [
    "print(\"PyTorch Version: \", torch.__version__)\n",
    "print(\"Torchvision Version: \", torchvision.__version__)\n",
    "Path(\"./data\").mkdir(parents=True, exist_ok=True)\n",
    "data_dir = Path('./data')\n",
    "net_fn = Path('./net')\n",
    "\n",
    "# see if gdown is already downloaded\n",
    "try:\n",
    "    import gdown\n",
    "    print(\"gdown is already installed, skipping installing command to save time......\")\n",
    "except ImportError:\n",
    "    !conda install -y gdown"
   ]
  },
  {
   "cell_type": "code",
   "execution_count": null,
   "metadata": {},
   "outputs": [
    {
     "name": "stdout",
     "output_type": "stream",
     "text": [
      "Attempting download from repo 0\n",
      "Missing files: ['data/ILSVRC2012_devkit_t12.tar.gz', 'data/ILSVRC2012_devkit_t3.tar.gz', 'data/ILSVRC2012_img_val.tar']\n",
      "Downloading data/ILSVRC2012_devkit_t12.tar.gz...\n",
      "Downloading...\r\n",
      "From: https://drive.google.com/uc?id=1ZLyAcimq4sdZ0tl5yINudwSD843pAoOJ\r\n",
      "To: /kaggle/working/data/ILSVRC2012_devkit_t12.tar.gz\r\n",
      "100%|███████████████████████████████████████| 2.57M/2.57M [00:00<00:00, 174MB/s]\r\n",
      "Downloading data/ILSVRC2012_devkit_t3.tar.gz...\n",
      "Downloading...\r\n",
      "From: https://drive.google.com/uc?id=1EXwrSw6BWKMC4ovPRUyfuqeObuqsR-R5\r\n",
      "To: /kaggle/working/data/ILSVRC2012_devkit_t3.tar.gz\r\n",
      "100%|██████████████████████████████████████| 22.4M/22.4M [00:00<00:00, 52.7MB/s]\r\n",
      "Downloading data/ILSVRC2012_img_val.tar...\n",
      "Downloading...\r\n",
      "From (original): https://drive.google.com/uc?id=1rFIAJ9aLZrRCOeijo5mI0zWiEl3OMJ3j\r\n",
      "From (redirected): https://drive.google.com/uc?id=1rFIAJ9aLZrRCOeijo5mI0zWiEl3OMJ3j&confirm=t&uuid=e60ac4d0-8527-4843-aa42-f7901c62a97f\r\n",
      "To: /kaggle/working/data/ILSVRC2012_img_val.tar\r\n",
      "100%|███████████████████████████████████████| 6.74G/6.74G [01:03<00:00, 106MB/s]\r\n",
      "All files are present. Skipping further downloads.\n",
      "All files successfully downloaded.\n"
     ]
    }
   ],
   "source": [
    "REPOS = [\n",
    "    [\n",
    "        \"1ZLyAcimq4sdZ0tl5yINudwSD843pAoOJ\",\n",
    "        \"1EXwrSw6BWKMC4ovPRUyfuqeObuqsR-R5\",\n",
    "        \"1rFIAJ9aLZrRCOeijo5mI0zWiEl3OMJ3j\"\n",
    "    ],\n",
    "    [\n",
    "        \"1VLe11mOwsetC4IlL3wy8QexTat8XCool\",\n",
    "        \"1_QwUcr3gmnjPFbKj0VrfOayVEWjRBS4Z\",\n",
    "        \"1fgf9elhD7EhbKJn2NMnQS1iwQXesQZ3g\"\n",
    "    ],\n",
    "    [\n",
    "        \"1BKC4kCB9sbwfRuhrAJWVEmbLoHx2vJWC\",\n",
    "        \"1qhrcYgGKRf3Wt8YDU6aVRhzJDFHeqerP\",\n",
    "        \"1JXym04uAoNGGpkBRzIn0yStZmRX0SmNu\"\n",
    "    ]\n",
    "]\n",
    "\n",
    "FILES = [\n",
    "    Path(\"./data/ILSVRC2012_devkit_t12.tar.gz\"),\n",
    "    Path(\"./data/ILSVRC2012_devkit_t3.tar.gz\"),\n",
    "    Path(\"./data/ILSVRC2012_img_val.tar\")\n",
    "]\n",
    "\n",
    "# Shuffle the order of repos\n",
    "random.seed(int(time.time()))\n",
    "random.shuffle(REPOS)\n",
    "\n",
    "for repo_index, repo in enumerate(REPOS):\n",
    "    missing_files = [str(file) for file in FILES if not file.is_file()]\n",
    "    if not missing_files:\n",
    "        print(\"All files are present. Skipping further downloads.\")\n",
    "        break\n",
    "\n",
    "    print(f\"Attempting download from repo {repo_index}\")\n",
    "    print(f\"Missing files: {missing_files}\")\n",
    "\n",
    "    for file, url in zip(FILES, repo):\n",
    "        if not file.is_file():\n",
    "            print(f\"Downloading {file}...\")\n",
    "            !gdown \"{url}\" -O \"{str(file)}\"\n",
    "\n",
    "missing_files = [str(file) for file in FILES if not file.is_file()]\n",
    "if missing_files:\n",
    "    print(f\"Failed to download all files. Still missing: {missing_files}\")\n",
    "    print(f\"Contact TA team through EdStem with the output of this code block!\", file=sys.stderr)\n",
    "else:\n",
    "    print(\"All files successfully downloaded.\")"
   ]
  },
  {
   "cell_type": "markdown",
   "metadata": {},
   "source": [
    "#### Helper Function"
   ]
  },
  {
   "cell_type": "code",
   "execution_count": null,
   "metadata": {},
   "outputs": [],
   "source": [
    "# Put your reusable functions here.\n",
    "\n",
    "# You can copy functions from previous labs and tutorials.\n",
    "device = torch.device(\"cuda\" if torch.cuda.is_available() else \"cpu\")\n",
    "def evaluate(model, dataloader):\n",
    "    correct = 0\n",
    "    total = 0\n",
    "    model.eval()\n",
    "    model.to(device)\n",
    "    \n",
    "    with torch.no_grad():\n",
    "        for images, labels in tqdm(dataloader):\n",
    "            if total >1024:\n",
    "                break\n",
    "            images, labels = images.to(device), labels.to(device)\n",
    "            outputs = model(images)\n",
    "            _, predicted = torch.max(outputs, 1)\n",
    "            total += labels.size(0)\n",
    "            correct += (predicted == labels).sum().item()\n",
    "            \n",
    "    return 100 * correct / total\n",
    "\n",
    "\n",
    "#  COUNT PARAMETERS\n",
    "def count_params(model):\n",
    "\n",
    "    model.to(device)\n",
    "    tot_params = 0\n",
    "    for layer_name, param in model.named_parameters():\n",
    "        tot_params += torch.count_nonzero(param.data)\n",
    "    \n",
    "    return tot_params\n",
    "\n",
    "def get_size_of_model(model):\n",
    "    torch.save(model.state_dict(), \"temp.p\")\n",
    "    model_size = os.path.getsize(\"temp.p\")/1e6\n",
    "    os.remove('temp.p')\n",
    "    return model_size\n",
    "\n",
    "\n",
    "    \n",
    "    \n",
    "def training(model, train_loader, prune_percent,learning_rate=0.0001, epochs=5, iteration = float()):\n",
    "    \n",
    "    criterion = nn.CrossEntropyLoss()\n",
    "    optimizer = torch.optim.SGD(model.parameters(),lr=learning_rate)\n",
    "    data_dir = \"./models\"\n",
    "    # device = torch.device(device)\n",
    "    # device = torch.device(\"cuda\" if torch.cuda.is_available() else \"cpu\")\n",
    "    print(device)\n",
    "    model = model.to(device)\n",
    "    path  = \"./models/model\"+ str(prune_percent) +\"_\"+ str(iteration)\n",
    "    os.makedirs(data_dir, exist_ok=True)\n",
    "\n",
    "    # if os.path.exists(path):\n",
    "    #     print(\"Trained model already exists loading those weigths!!\")\n",
    "    #     model.load_state_dict(torch.load(path))\n",
    "    #     return\n",
    "\n",
    "    # Create the directory if it doesn't exist\n",
    "        # Fine-tune model after pruning\n",
    "    for epoch in (range(epochs)):\n",
    "        # print(f'Epoch: {epoch+1}/{epochs}')\n",
    "        model.train()\n",
    "        running_loss = 0.0\n",
    "        correct = 0\n",
    "        total = 0\n",
    "        pbar = tqdm(enumerate(train_loader), total=len(train_loader))\n",
    "        # pbar = tqdm(enumerate(train_loader), total=len(train_loader), desc=f\"Epoch {epoch+1}/{epochs}\")\n",
    "        for i, (inputs, labels) in pbar:\n",
    "            inputs, labels = inputs.to(device), labels.to(device)\n",
    "            optimizer.zero_grad()\n",
    "            outputs = model(inputs)\n",
    "            loss = criterion(outputs, labels)\n",
    "            loss.backward()\n",
    "            optimizer.step()\n",
    "            \n",
    "            running_loss += loss.item()\n",
    "            _, predicted = outputs.max(1)\n",
    "\n",
    "            # print(labels, \" Labels\")\n",
    "            total += labels.size(0)\n",
    "            correct += predicted.eq(labels).sum().item()\n",
    "            \n",
    "        print(f\"Epoch {epoch + 1}/{epochs} - Loss: {running_loss / len(train_loader):.4f}, Accuracy: {100 * correct / total:.2f}%\")\n",
    "        print(evaluate(model, test_loader), \" Evaluate \")\n",
    "\n",
    "    # save model after each prune/train cylce\n",
    "\n",
    "    # torch.save(model.state_dict(), path)"
   ]
  },
  {
   "cell_type": "markdown",
   "metadata": {},
   "source": [
    "### Creating Dataloaders"
   ]
  },
  {
   "cell_type": "code",
   "execution_count": null,
   "metadata": {},
   "outputs": [
    {
     "name": "stdout",
     "output_type": "stream",
     "text": [
      "Number of train images: 625\n",
      "Number of validation images: 157\n"
     ]
    }
   ],
   "source": [
    "# Create transform to preprocess data\n",
    "val_transform = transforms.Compose([\n",
    "    transforms.Resize(224),\n",
    "    transforms.CenterCrop(224),\n",
    "    transforms.ToTensor(),\n",
    "    transforms.Normalize([0.485, 0.456, 0.406], [0.229, 0.224, 0.225])\n",
    "])\n",
    "\n",
    "# Create validation dataset\n",
    "total_dataset = datasets.ImageNet('./data', split='val', transform=val_transform)\n",
    "train_size = int(0.8 * len(total_dataset))\n",
    "val_size = len(total_dataset) - train_size\n",
    "\n",
    "train_dataset, val_dataset = random_split(total_dataset, [train_size, val_size])\n",
    "\n",
    "\n",
    "# Create validation dataloader\n",
    "train_loader = DataLoader(train_dataset, batch_size=64, shuffle=True)\n",
    "test_loader = DataLoader(val_dataset, batch_size=64, shuffle=False)\n",
    "print(f'Number of train images: {len(train_loader)}')\n",
    "print(f'Number of validation images: {len(test_loader)}')"
   ]
  },
  {
   "cell_type": "markdown",
   "metadata": {},
   "source": [
    "### Baseline Model\n",
    "-   Evaluating and Training "
   ]
  },
  {
   "cell_type": "code",
   "execution_count": null,
   "metadata": {},
   "outputs": [
    {
     "name": "stderr",
     "output_type": "stream",
     "text": [
      "/opt/conda/lib/python3.10/site-packages/torchvision/models/_utils.py:208: UserWarning: The parameter 'pretrained' is deprecated since 0.13 and may be removed in the future, please use 'weights' instead.\n",
      "  warnings.warn(\n",
      "/opt/conda/lib/python3.10/site-packages/torchvision/models/_utils.py:223: UserWarning: Arguments other than a weight enum or `None` for 'weights' are deprecated since 0.13 and may be removed in the future. The current behavior is equivalent to passing `weights=VGG16_Weights.IMAGENET1K_V1`. You can also use `weights=VGG16_Weights.DEFAULT` to get the most up-to-date weights.\n",
      "  warnings.warn(msg)\n",
      "Downloading: \"https://download.pytorch.org/models/vgg16-397923af.pth\" to /root/.cache/torch/hub/checkpoints/vgg16-397923af.pth\n",
      "100%|██████████| 528M/528M [00:02<00:00, 196MB/s]\n"
     ]
    }
   ],
   "source": [
    "baseline_model = models.vgg16(pretrained = True)"
   ]
  },
  {
   "cell_type": "code",
   "execution_count": null,
   "metadata": {},
   "outputs": [
    {
     "data": {
      "application/vnd.jupyter.widget-view+json": {
       "model_id": "d73d6da6cd6b483d83d0b5142c2c46b4",
       "version_major": 2,
       "version_minor": 0
      },
      "text/plain": [
       "  0%|          | 0/157 [00:00<?, ?it/s]"
      ]
     },
     "metadata": {},
     "output_type": "display_data"
    },
    {
     "name": "stdout",
     "output_type": "stream",
     "text": [
      "71.78308823529412 Baseline Accuracy without Retraining\n"
     ]
    }
   ],
   "source": [
    "baseline_acc_before = evaluate(baseline_model, test_loader)\n",
    "print(baseline_acc_before, \"Baseline Accuracy without Retraining\")"
   ]
  },
  {
   "cell_type": "code",
   "execution_count": null,
   "metadata": {},
   "outputs": [
    {
     "name": "stdout",
     "output_type": "stream",
     "text": [
      "cuda\n"
     ]
    },
    {
     "data": {
      "application/vnd.jupyter.widget-view+json": {
       "model_id": "9bc4e692fa6843899178650d4bdb94b9",
       "version_major": 2,
       "version_minor": 0
      },
      "text/plain": [
       "  0%|          | 0/625 [00:00<?, ?it/s]"
      ]
     },
     "metadata": {},
     "output_type": "display_data"
    },
    {
     "name": "stdout",
     "output_type": "stream",
     "text": [
      "Epoch 1/5 - Loss: 1.2917, Accuracy: 68.45%\n"
     ]
    },
    {
     "data": {
      "application/vnd.jupyter.widget-view+json": {
       "model_id": "81931ee7378d4bf18579fd65f0032820",
       "version_major": 2,
       "version_minor": 0
      },
      "text/plain": [
       "  0%|          | 0/157 [00:00<?, ?it/s]"
      ]
     },
     "metadata": {},
     "output_type": "display_data"
    },
    {
     "name": "stdout",
     "output_type": "stream",
     "text": [
      "71.23161764705883  Evaluate \n"
     ]
    },
    {
     "data": {
      "application/vnd.jupyter.widget-view+json": {
       "model_id": "38fc57249c8c4fb4a8e9b59d7dbbb4ea",
       "version_major": 2,
       "version_minor": 0
      },
      "text/plain": [
       "  0%|          | 0/625 [00:00<?, ?it/s]"
      ]
     },
     "metadata": {},
     "output_type": "display_data"
    },
    {
     "name": "stdout",
     "output_type": "stream",
     "text": [
      "Epoch 2/5 - Loss: 1.2677, Accuracy: 68.75%\n"
     ]
    },
    {
     "data": {
      "application/vnd.jupyter.widget-view+json": {
       "model_id": "3b68ce891ea44fa084acbf08b42b2449",
       "version_major": 2,
       "version_minor": 0
      },
      "text/plain": [
       "  0%|          | 0/157 [00:00<?, ?it/s]"
      ]
     },
     "metadata": {},
     "output_type": "display_data"
    },
    {
     "name": "stdout",
     "output_type": "stream",
     "text": [
      "71.13970588235294  Evaluate \n"
     ]
    },
    {
     "data": {
      "application/vnd.jupyter.widget-view+json": {
       "model_id": "f21c5d183a2342f48bdd746e4b496d57",
       "version_major": 2,
       "version_minor": 0
      },
      "text/plain": [
       "  0%|          | 0/625 [00:00<?, ?it/s]"
      ]
     },
     "metadata": {},
     "output_type": "display_data"
    },
    {
     "name": "stdout",
     "output_type": "stream",
     "text": [
      "Epoch 3/5 - Loss: 1.2465, Accuracy: 69.16%\n"
     ]
    },
    {
     "data": {
      "application/vnd.jupyter.widget-view+json": {
       "model_id": "66d40d0a0949417e80a4952517788789",
       "version_major": 2,
       "version_minor": 0
      },
      "text/plain": [
       "  0%|          | 0/157 [00:00<?, ?it/s]"
      ]
     },
     "metadata": {},
     "output_type": "display_data"
    },
    {
     "name": "stdout",
     "output_type": "stream",
     "text": [
      "71.32352941176471  Evaluate \n"
     ]
    },
    {
     "data": {
      "application/vnd.jupyter.widget-view+json": {
       "model_id": "f70d2b8ff58443a2b62321038aea9bd5",
       "version_major": 2,
       "version_minor": 0
      },
      "text/plain": [
       "  0%|          | 0/625 [00:00<?, ?it/s]"
      ]
     },
     "metadata": {},
     "output_type": "display_data"
    },
    {
     "name": "stdout",
     "output_type": "stream",
     "text": [
      "Epoch 4/5 - Loss: 1.2372, Accuracy: 69.30%\n"
     ]
    },
    {
     "data": {
      "application/vnd.jupyter.widget-view+json": {
       "model_id": "9f7e374c54864c4e9b48cb52078c8fa0",
       "version_major": 2,
       "version_minor": 0
      },
      "text/plain": [
       "  0%|          | 0/157 [00:00<?, ?it/s]"
      ]
     },
     "metadata": {},
     "output_type": "display_data"
    },
    {
     "name": "stdout",
     "output_type": "stream",
     "text": [
      "71.59926470588235  Evaluate \n"
     ]
    },
    {
     "data": {
      "application/vnd.jupyter.widget-view+json": {
       "model_id": "63c0b96164154a06ac8b17b64406d3ba",
       "version_major": 2,
       "version_minor": 0
      },
      "text/plain": [
       "  0%|          | 0/625 [00:00<?, ?it/s]"
      ]
     },
     "metadata": {},
     "output_type": "display_data"
    },
    {
     "name": "stdout",
     "output_type": "stream",
     "text": [
      "Epoch 5/5 - Loss: 1.2278, Accuracy: 69.33%\n"
     ]
    },
    {
     "data": {
      "application/vnd.jupyter.widget-view+json": {
       "model_id": "e987043b4ea84fe28cac1d7a1e1714af",
       "version_major": 2,
       "version_minor": 0
      },
      "text/plain": [
       "  0%|          | 0/157 [00:00<?, ?it/s]"
      ]
     },
     "metadata": {},
     "output_type": "display_data"
    },
    {
     "name": "stdout",
     "output_type": "stream",
     "text": [
      "71.59926470588235  Evaluate \n"
     ]
    },
    {
     "data": {
      "application/vnd.jupyter.widget-view+json": {
       "model_id": "cc58f603d64f4832a79247a5adde3126",
       "version_major": 2,
       "version_minor": 0
      },
      "text/plain": [
       "  0%|          | 0/157 [00:00<?, ?it/s]"
      ]
     },
     "metadata": {},
     "output_type": "display_data"
    },
    {
     "name": "stdout",
     "output_type": "stream",
     "text": [
      "Baseline Accuracy after retraining is:  71.59926470588235\n"
     ]
    }
   ],
   "source": [
    "\n",
    "training(baseline_model, train_loader, prune_percent=0)\n",
    "baseline_acc_after_training = evaluate(baseline_model, test_loader)\n",
    "model_path = \"./models/model0_\"+ str(0.0)\n",
    "torch.save(baseline_model.state_dict(), model_path)\n",
    "print(\"Baseline Accuracy after retraining is: \", baseline_acc_after_training)\n"
   ]
  },
  {
   "cell_type": "markdown",
   "metadata": {},
   "source": [
    "### Some More Helper Function\n",
    "- _prune_by_x()_: prunes x percent\n",
    "- _prune_by_x_remove()_: makes the prune permament\n",
    "- _iterative_pruning()_: iteratively prune and retrain"
   ]
  },
  {
   "cell_type": "code",
   "execution_count": null,
   "metadata": {},
   "outputs": [],
   "source": [
    "def prune_by_x(model, percent):\n",
    "    '''\n",
    "        This will prune by percent, Conv2D and Linear layers. and make that permanent\n",
    "    '''\n",
    "    for name, module in model.named_modules():\n",
    "        # this will remove percent connections in linear layers\n",
    "        # print(module, '\\n')\n",
    "        if isinstance(module, torch.nn.Conv2d) and name !='output':\n",
    "            # print('hey')\n",
    "            torch.nn.utils.prune.l1_unstructured(module = module, name = 'weight', amount= percent)\n",
    "            # torch.nn.utils.prune.remove(module, 'weight')\n",
    "\n",
    "\n",
    "        if isinstance(module, torch.nn.Linear) and name !='output':\n",
    "            torch.nn.utils.prune.l1_unstructured(module = module, name = 'weight', amount= percent)\n",
    "            # torch.nn.utils.prune.remove(module, 'weight')\n",
    "\n",
    "        # this will remove percent connections in output layers\n",
    "        elif isinstance(module, torch.nn.Linear) and name == 'output':\n",
    "            torch.nn.utils.prune.l1_unstructured(module = module, name = 'weight', amount = percent)\n",
    "            # torch.nn.utils.prune.remove(module, 'weight')\n",
    "\n",
    "def prune_by_x_remove(model):\n",
    "    '''\n",
    "        This will prune by percent, Conv2D and Linear layers. and make that permanent\n",
    "    '''\n",
    "    for name, module in model.named_modules():\n",
    "        # this will remove percent connections in linear layers\n",
    "        # print(module, '\\n')\n",
    "        if isinstance(module, torch.nn.Conv2d) and name !='output':\n",
    "            # print('hey')\n",
    "            # torch.nn.utils.prune.l1_unstructured(module = module, name = 'weight', amount= percent)\n",
    "            torch.nn.utils.prune.remove(module, 'weight')\n",
    "\n",
    "\n",
    "        if isinstance(module, torch.nn.Linear) and name !='output':\n",
    "            # torch.nn.utils.prune.l1_unstructured(module = module, name = 'weight', amount= percent)\n",
    "            torch.nn.utils.prune.remove(module, 'weight')\n",
    "\n",
    "        # this will remove percent connections in output layers\n",
    "        elif isinstance(module, torch.nn.Linear) and name == 'output':\n",
    "            # torch.nn.utils.prune.l1_unstructured(module = module, name = 'weight', amount = percent)\n",
    "            torch.nn.utils.prune.remove(module, 'weight')\n",
    "\n",
    "\n",
    "def iterative_pruning(model, train_loader, iterations=10, prune_amount=0.2, retrain=False, accuracy_threshold = 0):\n",
    "    model = model.to(device)\n",
    "    acc_hist = []\n",
    "    \n",
    "    for i in range(iterations):\n",
    "        print(f\"Iteration {i + 1}/{iterations} - Pruning {prune_amount * 100:.0f}% of weights\")\n",
    "        prune_by_x(model, prune_amount)\n",
    "        \n",
    "        # for name, module in model.named_modules():\n",
    "        #     if hasattr(module, 'weight'):\n",
    "        #         print(f\"{name} sparsity: {(module.weight == 0).float().mean().item() * 100:.2f}%\")\n",
    "                \n",
    "        if retrain:\n",
    "            print(f\"Retraining after iteration {i + 1}...\")\n",
    "            prev_model = model\n",
    "            training(model, train_loader, prune_percent=prune_amount, iteration = i, epochs = 5)\n",
    "            \n",
    "            # Ideally should have a validation dataset and not test dataset\n",
    "            acc = evaluate(model, test_loader)\n",
    "            print(f\"Validation Accuracy after {i+1} iteration: {acc}\")\n",
    "            acc_hist.append(acc)\n",
    "            if 100*accuracy_threshold != 0 and acc < accuracy_threshold:\n",
    "                print(f\"Current accuracy {acc}% below threshold Iterative Pruning Stopped at iteration {i+1}\")\n",
    "                break\n",
    "                \n",
    "\n",
    "    # Final pruning and check sparsity\n",
    "    prune_by_x_remove(model)\n",
    "    # path  = \"./models/model\"+ str(prune_amount) +\"_\"+ str(i)\n",
    "    # torch.save(model.state_dict(), path)\n",
    "\n",
    "    return np.array(acc_hist)\n",
    "    # for name, module in model.named_modules():\n",
    "    #     if hasattr(module, 'weight'):\n",
    "    #         print(f\"{name} sparsity: {(module.weight == 0).float().mean().item() * 100:.2f}%\")\n",
    "\n",
    "    # if retrain:\n",
    "    #     print(f\"Retraining final model after pruning...\")\n",
    "    #     training(model, train_loader, prune_percent=prune_amount)\n"
   ]
  },
  {
   "cell_type": "markdown",
   "metadata": {},
   "source": [
    "### Running iterative Pruning with Layer-Wise Pruning"
   ]
  },
  {
   "cell_type": "code",
   "execution_count": null,
   "metadata": {},
   "outputs": [
    {
     "name": "stdout",
     "output_type": "stream",
     "text": [
      "Evaluating before training...\n"
     ]
    },
    {
     "name": "stderr",
     "output_type": "stream",
     "text": [
      " 20%|██        | 16/79 [00:10<00:42,  1.48it/s]\n"
     ]
    },
    {
     "name": "stdout",
     "output_type": "stream",
     "text": [
      "Top1 accuracy for prune amount without iterative pruning 10.0%: 72.75390625%\n",
      "Iteration 1/25 - Pruning 10% of weights\n",
      "Retraining after iteration 1...\n",
      "cuda\n"
     ]
    },
    {
     "name": "stderr",
     "output_type": "stream",
     "text": [
      "100%|██████████| 704/704 [15:17<00:00,  1.30s/it]\n"
     ]
    },
    {
     "name": "stdout",
     "output_type": "stream",
     "text": [
      "Epoch 1/7 - Loss: 1.8935, Accuracy: 56.27%\n"
     ]
    },
    {
     "name": "stderr",
     "output_type": "stream",
     "text": [
      " 20%|██        | 16/79 [00:11<00:45,  1.40it/s]\n"
     ]
    },
    {
     "name": "stdout",
     "output_type": "stream",
     "text": [
      "64.74609375  Evaluate \n"
     ]
    },
    {
     "name": "stderr",
     "output_type": "stream",
     "text": [
      "100%|██████████| 704/704 [15:23<00:00,  1.31s/it]\n"
     ]
    },
    {
     "name": "stdout",
     "output_type": "stream",
     "text": [
      "Epoch 2/7 - Loss: 1.6708, Accuracy: 60.20%\n"
     ]
    },
    {
     "name": "stderr",
     "output_type": "stream",
     "text": [
      " 20%|██        | 16/79 [00:11<00:46,  1.36it/s]\n"
     ]
    },
    {
     "name": "stdout",
     "output_type": "stream",
     "text": [
      "66.6015625  Evaluate \n"
     ]
    },
    {
     "name": "stderr",
     "output_type": "stream",
     "text": [
      "100%|██████████| 704/704 [15:25<00:00,  1.32s/it]\n"
     ]
    },
    {
     "name": "stdout",
     "output_type": "stream",
     "text": [
      "Epoch 3/7 - Loss: 1.5975, Accuracy: 61.52%\n"
     ]
    },
    {
     "name": "stderr",
     "output_type": "stream",
     "text": [
      " 20%|██        | 16/79 [00:12<00:47,  1.32it/s]\n"
     ]
    },
    {
     "name": "stdout",
     "output_type": "stream",
     "text": [
      "67.67578125  Evaluate \n"
     ]
    },
    {
     "name": "stderr",
     "output_type": "stream",
     "text": [
      "100%|██████████| 704/704 [15:30<00:00,  1.32s/it]\n"
     ]
    },
    {
     "name": "stdout",
     "output_type": "stream",
     "text": [
      "Epoch 4/7 - Loss: 1.5541, Accuracy: 62.23%\n"
     ]
    },
    {
     "name": "stderr",
     "output_type": "stream",
     "text": [
      " 20%|██        | 16/79 [00:11<00:45,  1.38it/s]\n"
     ]
    },
    {
     "name": "stdout",
     "output_type": "stream",
     "text": [
      "67.578125  Evaluate \n"
     ]
    },
    {
     "name": "stderr",
     "output_type": "stream",
     "text": [
      "100%|██████████| 704/704 [15:22<00:00,  1.31s/it]\n"
     ]
    },
    {
     "name": "stdout",
     "output_type": "stream",
     "text": [
      "Epoch 5/7 - Loss: 1.5278, Accuracy: 62.92%\n"
     ]
    },
    {
     "name": "stderr",
     "output_type": "stream",
     "text": [
      " 20%|██        | 16/79 [00:11<00:45,  1.39it/s]\n"
     ]
    },
    {
     "name": "stdout",
     "output_type": "stream",
     "text": [
      "67.96875  Evaluate \n"
     ]
    },
    {
     "name": "stderr",
     "output_type": "stream",
     "text": [
      "100%|██████████| 704/704 [15:22<00:00,  1.31s/it]\n"
     ]
    },
    {
     "name": "stdout",
     "output_type": "stream",
     "text": [
      "Epoch 6/7 - Loss: 1.5018, Accuracy: 63.39%\n"
     ]
    },
    {
     "name": "stderr",
     "output_type": "stream",
     "text": [
      " 20%|██        | 16/79 [00:11<00:44,  1.40it/s]\n"
     ]
    },
    {
     "name": "stdout",
     "output_type": "stream",
     "text": [
      "68.1640625  Evaluate \n"
     ]
    },
    {
     "name": "stderr",
     "output_type": "stream",
     "text": [
      "100%|██████████| 704/704 [15:19<00:00,  1.31s/it]\n"
     ]
    },
    {
     "name": "stdout",
     "output_type": "stream",
     "text": [
      "Epoch 7/7 - Loss: 1.4758, Accuracy: 63.92%\n"
     ]
    },
    {
     "name": "stderr",
     "output_type": "stream",
     "text": [
      " 20%|██        | 16/79 [00:11<00:45,  1.38it/s]\n"
     ]
    },
    {
     "name": "stdout",
     "output_type": "stream",
     "text": [
      "68.65234375  Evaluate \n"
     ]
    },
    {
     "name": "stderr",
     "output_type": "stream",
     "text": [
      " 20%|██        | 16/79 [00:11<00:45,  1.38it/s]\n"
     ]
    },
    {
     "name": "stdout",
     "output_type": "stream",
     "text": [
      "Validation Accuracy after 1 iteration: 68.65234375\n",
      "Iteration 2/25 - Pruning 10% of weights\n",
      "Retraining after iteration 2...\n",
      "cuda\n"
     ]
    },
    {
     "name": "stderr",
     "output_type": "stream",
     "text": [
      "100%|██████████| 704/704 [15:15<00:00,  1.30s/it]\n"
     ]
    },
    {
     "name": "stdout",
     "output_type": "stream",
     "text": [
      "Epoch 1/7 - Loss: 2.5305, Accuracy: 44.48%\n"
     ]
    },
    {
     "name": "stderr",
     "output_type": "stream",
     "text": [
      " 20%|██        | 16/79 [00:11<00:44,  1.41it/s]\n"
     ]
    },
    {
     "name": "stdout",
     "output_type": "stream",
     "text": [
      "54.98046875  Evaluate \n"
     ]
    },
    {
     "name": "stderr",
     "output_type": "stream",
     "text": [
      "100%|██████████| 704/704 [15:14<00:00,  1.30s/it]\n"
     ]
    },
    {
     "name": "stdout",
     "output_type": "stream",
     "text": [
      "Epoch 2/7 - Loss: 2.1635, Accuracy: 50.16%\n"
     ]
    },
    {
     "name": "stderr",
     "output_type": "stream",
     "text": [
      " 20%|██        | 16/79 [00:11<00:44,  1.41it/s]\n"
     ]
    },
    {
     "name": "stdout",
     "output_type": "stream",
     "text": [
      "57.421875  Evaluate \n"
     ]
    },
    {
     "name": "stderr",
     "output_type": "stream",
     "text": [
      "100%|██████████| 704/704 [15:13<00:00,  1.30s/it]\n"
     ]
    },
    {
     "name": "stdout",
     "output_type": "stream",
     "text": [
      "Epoch 3/7 - Loss: 2.0455, Accuracy: 52.36%\n"
     ]
    },
    {
     "name": "stderr",
     "output_type": "stream",
     "text": [
      " 20%|██        | 16/79 [00:11<00:44,  1.40it/s]\n"
     ]
    },
    {
     "name": "stdout",
     "output_type": "stream",
     "text": [
      "58.30078125  Evaluate \n"
     ]
    },
    {
     "name": "stderr",
     "output_type": "stream",
     "text": [
      "100%|██████████| 704/704 [15:14<00:00,  1.30s/it]\n"
     ]
    },
    {
     "name": "stdout",
     "output_type": "stream",
     "text": [
      "Epoch 4/7 - Loss: 1.9609, Accuracy: 53.73%\n"
     ]
    },
    {
     "name": "stderr",
     "output_type": "stream",
     "text": [
      " 20%|██        | 16/79 [00:11<00:46,  1.37it/s]\n"
     ]
    },
    {
     "name": "stdout",
     "output_type": "stream",
     "text": [
      "58.69140625  Evaluate \n"
     ]
    },
    {
     "name": "stderr",
     "output_type": "stream",
     "text": [
      "100%|██████████| 704/704 [15:16<00:00,  1.30s/it]\n"
     ]
    },
    {
     "name": "stdout",
     "output_type": "stream",
     "text": [
      "Epoch 5/7 - Loss: 1.9061, Accuracy: 54.91%\n"
     ]
    },
    {
     "name": "stderr",
     "output_type": "stream",
     "text": [
      " 20%|██        | 16/79 [00:11<00:44,  1.40it/s]\n"
     ]
    },
    {
     "name": "stdout",
     "output_type": "stream",
     "text": [
      "59.86328125  Evaluate \n"
     ]
    },
    {
     "name": "stderr",
     "output_type": "stream",
     "text": [
      "100%|██████████| 704/704 [15:15<00:00,  1.30s/it]\n"
     ]
    },
    {
     "name": "stdout",
     "output_type": "stream",
     "text": [
      "Epoch 6/7 - Loss: 1.8564, Accuracy: 55.96%\n"
     ]
    },
    {
     "name": "stderr",
     "output_type": "stream",
     "text": [
      " 20%|██        | 16/79 [00:11<00:44,  1.40it/s]\n"
     ]
    },
    {
     "name": "stdout",
     "output_type": "stream",
     "text": [
      "60.15625  Evaluate \n"
     ]
    },
    {
     "name": "stderr",
     "output_type": "stream",
     "text": [
      "100%|██████████| 704/704 [15:14<00:00,  1.30s/it]\n"
     ]
    },
    {
     "name": "stdout",
     "output_type": "stream",
     "text": [
      "Epoch 7/7 - Loss: 1.8101, Accuracy: 56.79%\n"
     ]
    },
    {
     "name": "stderr",
     "output_type": "stream",
     "text": [
      " 20%|██        | 16/79 [00:11<00:45,  1.39it/s]\n"
     ]
    },
    {
     "name": "stdout",
     "output_type": "stream",
     "text": [
      "61.1328125  Evaluate \n"
     ]
    },
    {
     "name": "stderr",
     "output_type": "stream",
     "text": [
      " 20%|██        | 16/79 [00:11<00:45,  1.38it/s]\n"
     ]
    },
    {
     "name": "stdout",
     "output_type": "stream",
     "text": [
      "Validation Accuracy after 2 iteration: 61.1328125\n",
      "Iteration 3/25 - Pruning 10% of weights\n",
      "Retraining after iteration 3...\n",
      "cuda\n"
     ]
    },
    {
     "name": "stderr",
     "output_type": "stream",
     "text": [
      "100%|██████████| 704/704 [15:06<00:00,  1.29s/it]\n"
     ]
    },
    {
     "name": "stdout",
     "output_type": "stream",
     "text": [
      "Epoch 1/7 - Loss: 3.2188, Accuracy: 32.53%\n"
     ]
    },
    {
     "name": "stderr",
     "output_type": "stream",
     "text": [
      " 20%|██        | 16/79 [00:11<00:44,  1.41it/s]\n"
     ]
    },
    {
     "name": "stdout",
     "output_type": "stream",
     "text": [
      "43.65234375  Evaluate \n"
     ]
    },
    {
     "name": "stderr",
     "output_type": "stream",
     "text": [
      "100%|██████████| 704/704 [15:07<00:00,  1.29s/it]\n"
     ]
    },
    {
     "name": "stdout",
     "output_type": "stream",
     "text": [
      "Epoch 2/7 - Loss: 2.7247, Accuracy: 39.71%\n"
     ]
    },
    {
     "name": "stderr",
     "output_type": "stream",
     "text": [
      " 20%|██        | 16/79 [00:11<00:44,  1.42it/s]\n"
     ]
    },
    {
     "name": "stdout",
     "output_type": "stream",
     "text": [
      "47.265625  Evaluate \n"
     ]
    },
    {
     "name": "stderr",
     "output_type": "stream",
     "text": [
      "100%|██████████| 704/704 [15:08<00:00,  1.29s/it]\n"
     ]
    },
    {
     "name": "stdout",
     "output_type": "stream",
     "text": [
      "Epoch 3/7 - Loss: 2.5442, Accuracy: 42.53%\n"
     ]
    },
    {
     "name": "stderr",
     "output_type": "stream",
     "text": [
      " 20%|██        | 16/79 [00:11<00:45,  1.40it/s]\n"
     ]
    },
    {
     "name": "stdout",
     "output_type": "stream",
     "text": [
      "49.0234375  Evaluate \n"
     ]
    },
    {
     "name": "stderr",
     "output_type": "stream",
     "text": [
      "100%|██████████| 704/704 [15:10<00:00,  1.29s/it]\n"
     ]
    },
    {
     "name": "stdout",
     "output_type": "stream",
     "text": [
      "Epoch 4/7 - Loss: 2.4262, Accuracy: 44.49%\n"
     ]
    },
    {
     "name": "stderr",
     "output_type": "stream",
     "text": [
      " 20%|██        | 16/79 [00:11<00:45,  1.38it/s]\n"
     ]
    },
    {
     "name": "stdout",
     "output_type": "stream",
     "text": [
      "49.8046875  Evaluate \n"
     ]
    },
    {
     "name": "stderr",
     "output_type": "stream",
     "text": [
      "100%|██████████| 704/704 [15:10<00:00,  1.29s/it]\n"
     ]
    },
    {
     "name": "stdout",
     "output_type": "stream",
     "text": [
      "Epoch 5/7 - Loss: 2.3408, Accuracy: 46.16%\n"
     ]
    },
    {
     "name": "stderr",
     "output_type": "stream",
     "text": [
      " 20%|██        | 16/79 [00:11<00:44,  1.40it/s]\n"
     ]
    },
    {
     "name": "stdout",
     "output_type": "stream",
     "text": [
      "52.05078125  Evaluate \n"
     ]
    },
    {
     "name": "stderr",
     "output_type": "stream",
     "text": [
      "100%|██████████| 704/704 [15:09<00:00,  1.29s/it]\n"
     ]
    },
    {
     "name": "stdout",
     "output_type": "stream",
     "text": [
      "Epoch 6/7 - Loss: 2.2704, Accuracy: 47.41%\n"
     ]
    },
    {
     "name": "stderr",
     "output_type": "stream",
     "text": [
      " 20%|██        | 16/79 [00:11<00:44,  1.40it/s]\n"
     ]
    },
    {
     "name": "stdout",
     "output_type": "stream",
     "text": [
      "52.63671875  Evaluate \n"
     ]
    },
    {
     "name": "stderr",
     "output_type": "stream",
     "text": [
      "100%|██████████| 704/704 [15:06<00:00,  1.29s/it]\n"
     ]
    },
    {
     "name": "stdout",
     "output_type": "stream",
     "text": [
      "Epoch 7/7 - Loss: 2.2155, Accuracy: 48.39%\n"
     ]
    },
    {
     "name": "stderr",
     "output_type": "stream",
     "text": [
      " 20%|██        | 16/79 [00:11<00:45,  1.38it/s]\n"
     ]
    },
    {
     "name": "stdout",
     "output_type": "stream",
     "text": [
      "53.515625  Evaluate \n"
     ]
    },
    {
     "name": "stderr",
     "output_type": "stream",
     "text": [
      " 20%|██        | 16/79 [00:11<00:44,  1.42it/s]\n"
     ]
    },
    {
     "name": "stdout",
     "output_type": "stream",
     "text": [
      "Validation Accuracy after 3 iteration: 53.515625\n",
      "Iteration 4/25 - Pruning 10% of weights\n",
      "Retraining after iteration 4...\n",
      "cuda\n"
     ]
    },
    {
     "name": "stderr",
     "output_type": "stream",
     "text": [
      "100%|██████████| 704/704 [15:00<00:00,  1.28s/it]\n"
     ]
    },
    {
     "name": "stdout",
     "output_type": "stream",
     "text": [
      "Epoch 1/7 - Loss: 3.7231, Accuracy: 24.69%\n"
     ]
    },
    {
     "name": "stderr",
     "output_type": "stream",
     "text": [
      " 20%|██        | 16/79 [00:11<00:44,  1.41it/s]\n"
     ]
    },
    {
     "name": "stdout",
     "output_type": "stream",
     "text": [
      "35.83984375  Evaluate \n"
     ]
    },
    {
     "name": "stderr",
     "output_type": "stream",
     "text": [
      "100%|██████████| 704/704 [14:59<00:00,  1.28s/it]\n"
     ]
    },
    {
     "name": "stdout",
     "output_type": "stream",
     "text": [
      "Epoch 2/7 - Loss: 3.2442, Accuracy: 30.39%\n"
     ]
    },
    {
     "name": "stderr",
     "output_type": "stream",
     "text": [
      " 20%|██        | 16/79 [00:11<00:44,  1.43it/s]\n"
     ]
    },
    {
     "name": "stdout",
     "output_type": "stream",
     "text": [
      "38.18359375  Evaluate \n"
     ]
    },
    {
     "name": "stderr",
     "output_type": "stream",
     "text": [
      "100%|██████████| 704/704 [14:59<00:00,  1.28s/it]\n"
     ]
    },
    {
     "name": "stdout",
     "output_type": "stream",
     "text": [
      "Epoch 3/7 - Loss: 3.0427, Accuracy: 33.74%\n"
     ]
    },
    {
     "name": "stderr",
     "output_type": "stream",
     "text": [
      " 20%|██        | 16/79 [00:11<00:43,  1.44it/s]\n"
     ]
    },
    {
     "name": "stdout",
     "output_type": "stream",
     "text": [
      "40.8203125  Evaluate \n"
     ]
    },
    {
     "name": "stderr",
     "output_type": "stream",
     "text": [
      "100%|██████████| 704/704 [15:00<00:00,  1.28s/it]\n"
     ]
    },
    {
     "name": "stdout",
     "output_type": "stream",
     "text": [
      "Epoch 4/7 - Loss: 2.9054, Accuracy: 35.88%\n"
     ]
    },
    {
     "name": "stderr",
     "output_type": "stream",
     "text": [
      " 20%|██        | 16/79 [00:11<00:44,  1.42it/s]\n"
     ]
    },
    {
     "name": "stdout",
     "output_type": "stream",
     "text": [
      "42.48046875  Evaluate \n"
     ]
    },
    {
     "name": "stderr",
     "output_type": "stream",
     "text": [
      "100%|██████████| 704/704 [14:59<00:00,  1.28s/it]\n"
     ]
    },
    {
     "name": "stdout",
     "output_type": "stream",
     "text": [
      "Epoch 5/7 - Loss: 2.8007, Accuracy: 37.53%\n"
     ]
    },
    {
     "name": "stderr",
     "output_type": "stream",
     "text": [
      " 20%|██        | 16/79 [00:11<00:43,  1.44it/s]\n"
     ]
    },
    {
     "name": "stdout",
     "output_type": "stream",
     "text": [
      "43.5546875  Evaluate \n"
     ]
    },
    {
     "name": "stderr",
     "output_type": "stream",
     "text": [
      "100%|██████████| 704/704 [14:59<00:00,  1.28s/it]\n"
     ]
    },
    {
     "name": "stdout",
     "output_type": "stream",
     "text": [
      "Epoch 6/7 - Loss: 2.7287, Accuracy: 38.87%\n"
     ]
    },
    {
     "name": "stderr",
     "output_type": "stream",
     "text": [
      " 20%|██        | 16/79 [00:11<00:44,  1.41it/s]\n"
     ]
    },
    {
     "name": "stdout",
     "output_type": "stream",
     "text": [
      "45.3125  Evaluate \n"
     ]
    },
    {
     "name": "stderr",
     "output_type": "stream",
     "text": [
      "100%|██████████| 704/704 [15:00<00:00,  1.28s/it]\n"
     ]
    },
    {
     "name": "stdout",
     "output_type": "stream",
     "text": [
      "Epoch 7/7 - Loss: 2.6589, Accuracy: 40.02%\n"
     ]
    },
    {
     "name": "stderr",
     "output_type": "stream",
     "text": [
      " 20%|██        | 16/79 [00:11<00:44,  1.43it/s]\n"
     ]
    },
    {
     "name": "stdout",
     "output_type": "stream",
     "text": [
      "45.8984375  Evaluate \n"
     ]
    },
    {
     "name": "stderr",
     "output_type": "stream",
     "text": [
      " 20%|██        | 16/79 [00:11<00:45,  1.39it/s]\n"
     ]
    },
    {
     "name": "stdout",
     "output_type": "stream",
     "text": [
      "Validation Accuracy after 4 iteration: 45.8984375\n",
      "Iteration 5/25 - Pruning 10% of weights\n",
      "Retraining after iteration 5...\n",
      "cuda\n"
     ]
    },
    {
     "name": "stderr",
     "output_type": "stream",
     "text": [
      "100%|██████████| 704/704 [14:55<00:00,  1.27s/it]\n"
     ]
    },
    {
     "name": "stdout",
     "output_type": "stream",
     "text": [
      "Epoch 1/7 - Loss: 4.3777, Accuracy: 16.35%\n"
     ]
    },
    {
     "name": "stderr",
     "output_type": "stream",
     "text": [
      " 20%|██        | 16/79 [00:11<00:43,  1.45it/s]\n"
     ]
    },
    {
     "name": "stdout",
     "output_type": "stream",
     "text": [
      "27.24609375  Evaluate \n"
     ]
    },
    {
     "name": "stderr",
     "output_type": "stream",
     "text": [
      "100%|██████████| 704/704 [14:53<00:00,  1.27s/it]\n"
     ]
    },
    {
     "name": "stdout",
     "output_type": "stream",
     "text": [
      "Epoch 2/7 - Loss: 3.7544, Accuracy: 22.94%\n"
     ]
    },
    {
     "name": "stderr",
     "output_type": "stream",
     "text": [
      " 20%|██        | 16/79 [00:11<00:44,  1.41it/s]\n"
     ]
    },
    {
     "name": "stdout",
     "output_type": "stream",
     "text": [
      "31.15234375  Evaluate \n"
     ]
    },
    {
     "name": "stderr",
     "output_type": "stream",
     "text": [
      "100%|██████████| 704/704 [14:54<00:00,  1.27s/it]\n"
     ]
    },
    {
     "name": "stdout",
     "output_type": "stream",
     "text": [
      "Epoch 3/7 - Loss: 3.5346, Accuracy: 25.55%\n"
     ]
    },
    {
     "name": "stderr",
     "output_type": "stream",
     "text": [
      " 20%|██        | 16/79 [00:11<00:43,  1.44it/s]\n"
     ]
    },
    {
     "name": "stdout",
     "output_type": "stream",
     "text": [
      "33.69140625  Evaluate \n"
     ]
    },
    {
     "name": "stderr",
     "output_type": "stream",
     "text": [
      "100%|██████████| 704/704 [14:54<00:00,  1.27s/it]\n"
     ]
    },
    {
     "name": "stdout",
     "output_type": "stream",
     "text": [
      "Epoch 4/7 - Loss: 3.3769, Accuracy: 27.73%\n"
     ]
    },
    {
     "name": "stderr",
     "output_type": "stream",
     "text": [
      " 20%|██        | 16/79 [00:11<00:43,  1.44it/s]\n"
     ]
    },
    {
     "name": "stdout",
     "output_type": "stream",
     "text": [
      "35.3515625  Evaluate \n"
     ]
    },
    {
     "name": "stderr",
     "output_type": "stream",
     "text": [
      "100%|██████████| 704/704 [14:55<00:00,  1.27s/it]\n"
     ]
    },
    {
     "name": "stdout",
     "output_type": "stream",
     "text": [
      "Epoch 5/7 - Loss: 3.2670, Accuracy: 29.34%\n"
     ]
    },
    {
     "name": "stderr",
     "output_type": "stream",
     "text": [
      " 20%|██        | 16/79 [00:11<00:45,  1.38it/s]\n"
     ]
    },
    {
     "name": "stdout",
     "output_type": "stream",
     "text": [
      "37.20703125  Evaluate \n"
     ]
    },
    {
     "name": "stderr",
     "output_type": "stream",
     "text": [
      "100%|██████████| 704/704 [14:53<00:00,  1.27s/it]\n"
     ]
    },
    {
     "name": "stdout",
     "output_type": "stream",
     "text": [
      "Epoch 6/7 - Loss: 3.1852, Accuracy: 30.71%\n"
     ]
    },
    {
     "name": "stderr",
     "output_type": "stream",
     "text": [
      " 20%|██        | 16/79 [00:11<00:43,  1.45it/s]\n"
     ]
    },
    {
     "name": "stdout",
     "output_type": "stream",
     "text": [
      "37.5  Evaluate \n"
     ]
    },
    {
     "name": "stderr",
     "output_type": "stream",
     "text": [
      "100%|██████████| 704/704 [14:52<00:00,  1.27s/it]\n"
     ]
    },
    {
     "name": "stdout",
     "output_type": "stream",
     "text": [
      "Epoch 7/7 - Loss: 3.1004, Accuracy: 32.12%\n"
     ]
    },
    {
     "name": "stderr",
     "output_type": "stream",
     "text": [
      " 20%|██        | 16/79 [00:11<00:44,  1.41it/s]\n"
     ]
    },
    {
     "name": "stdout",
     "output_type": "stream",
     "text": [
      "39.55078125  Evaluate \n"
     ]
    },
    {
     "name": "stderr",
     "output_type": "stream",
     "text": [
      " 20%|██        | 16/79 [00:11<00:44,  1.42it/s]\n"
     ]
    },
    {
     "name": "stdout",
     "output_type": "stream",
     "text": [
      "Validation Accuracy after 5 iteration: 39.55078125\n",
      "Iteration 6/25 - Pruning 10% of weights\n",
      "Retraining after iteration 6...\n",
      "cuda\n"
     ]
    },
    {
     "name": "stderr",
     "output_type": "stream",
     "text": [
      "100%|██████████| 704/704 [14:50<00:00,  1.27s/it]\n"
     ]
    },
    {
     "name": "stdout",
     "output_type": "stream",
     "text": [
      "Epoch 1/7 - Loss: 4.6336, Accuracy: 12.43%\n"
     ]
    },
    {
     "name": "stderr",
     "output_type": "stream",
     "text": [
      " 20%|██        | 16/79 [00:11<00:43,  1.44it/s]\n"
     ]
    },
    {
     "name": "stdout",
     "output_type": "stream",
     "text": [
      "20.99609375  Evaluate \n"
     ]
    },
    {
     "name": "stderr",
     "output_type": "stream",
     "text": [
      "100%|██████████| 704/704 [14:53<00:00,  1.27s/it]\n"
     ]
    },
    {
     "name": "stdout",
     "output_type": "stream",
     "text": [
      "Epoch 2/7 - Loss: 4.1430, Accuracy: 17.12%\n"
     ]
    },
    {
     "name": "stderr",
     "output_type": "stream",
     "text": [
      " 20%|██        | 16/79 [00:11<00:43,  1.44it/s]\n"
     ]
    },
    {
     "name": "stdout",
     "output_type": "stream",
     "text": [
      "25.68359375  Evaluate \n"
     ]
    },
    {
     "name": "stderr",
     "output_type": "stream",
     "text": [
      "100%|██████████| 704/704 [14:52<00:00,  1.27s/it]\n"
     ]
    },
    {
     "name": "stdout",
     "output_type": "stream",
     "text": [
      "Epoch 3/7 - Loss: 3.9395, Accuracy: 19.43%\n"
     ]
    },
    {
     "name": "stderr",
     "output_type": "stream",
     "text": [
      " 20%|██        | 16/79 [00:11<00:44,  1.40it/s]\n"
     ]
    },
    {
     "name": "stdout",
     "output_type": "stream",
     "text": [
      "27.34375  Evaluate \n"
     ]
    },
    {
     "name": "stderr",
     "output_type": "stream",
     "text": [
      "100%|██████████| 704/704 [14:52<00:00,  1.27s/it]\n"
     ]
    },
    {
     "name": "stdout",
     "output_type": "stream",
     "text": [
      "Epoch 4/7 - Loss: 3.7988, Accuracy: 21.44%\n"
     ]
    },
    {
     "name": "stderr",
     "output_type": "stream",
     "text": [
      " 20%|██        | 16/79 [00:11<00:44,  1.41it/s]\n"
     ]
    },
    {
     "name": "stdout",
     "output_type": "stream",
     "text": [
      "27.83203125  Evaluate \n"
     ]
    },
    {
     "name": "stderr",
     "output_type": "stream",
     "text": [
      "100%|██████████| 704/704 [14:52<00:00,  1.27s/it]\n"
     ]
    },
    {
     "name": "stdout",
     "output_type": "stream",
     "text": [
      "Epoch 5/7 - Loss: 3.6799, Accuracy: 23.05%\n"
     ]
    },
    {
     "name": "stderr",
     "output_type": "stream",
     "text": [
      " 20%|██        | 16/79 [00:11<00:43,  1.44it/s]\n"
     ]
    },
    {
     "name": "stdout",
     "output_type": "stream",
     "text": [
      "30.56640625  Evaluate \n"
     ]
    },
    {
     "name": "stderr",
     "output_type": "stream",
     "text": [
      "100%|██████████| 704/704 [14:51<00:00,  1.27s/it]\n"
     ]
    },
    {
     "name": "stdout",
     "output_type": "stream",
     "text": [
      "Epoch 6/7 - Loss: 3.5874, Accuracy: 24.28%\n"
     ]
    },
    {
     "name": "stderr",
     "output_type": "stream",
     "text": [
      " 20%|██        | 16/79 [00:10<00:43,  1.46it/s]\n"
     ]
    },
    {
     "name": "stdout",
     "output_type": "stream",
     "text": [
      "31.0546875  Evaluate \n"
     ]
    },
    {
     "name": "stderr",
     "output_type": "stream",
     "text": [
      "100%|██████████| 704/704 [14:51<00:00,  1.27s/it]\n"
     ]
    },
    {
     "name": "stdout",
     "output_type": "stream",
     "text": [
      "Epoch 7/7 - Loss: 3.5095, Accuracy: 25.31%\n"
     ]
    },
    {
     "name": "stderr",
     "output_type": "stream",
     "text": [
      " 20%|██        | 16/79 [00:11<00:43,  1.45it/s]\n"
     ]
    },
    {
     "name": "stdout",
     "output_type": "stream",
     "text": [
      "32.51953125  Evaluate \n"
     ]
    },
    {
     "name": "stderr",
     "output_type": "stream",
     "text": [
      " 20%|██        | 16/79 [00:11<00:43,  1.45it/s]\n"
     ]
    },
    {
     "name": "stdout",
     "output_type": "stream",
     "text": [
      "Validation Accuracy after 6 iteration: 32.51953125\n",
      "Desired Sparsity Reached!!!\n"
     ]
    },
    {
     "name": "stderr",
     "output_type": "stream",
     "text": [
      " 20%|██        | 16/79 [00:11<00:43,  1.44it/s]"
     ]
    },
    {
     "name": "stdout",
     "output_type": "stream",
     "text": [
      "Top1 accuracy for prune amount with retraining 10.0%: 32.51953125%\n",
      "-------------------------------------------\n"
     ]
    },
    {
     "name": "stderr",
     "output_type": "stream",
     "text": [
      "\n"
     ]
    }
   ],
   "source": [
    "prune_rate_list = [0.1] # List of prune rate to test from 5-45 inclusive with step of 5\n",
    "layer_pruning = {} # Dictionary to store layer pruning results\n",
    "model_path = \"./models/model0_\"+ str(0.0)\n",
    "\n",
    "for prune_rate in prune_rate_list:\n",
    "\n",
    "    model = models.vgg16(pretrained=True)#TODO: load pretr  ained model\n",
    "    # model.load_state_dict(torch.load(model_path))\n",
    "    # convs_to_prune = () #TODO: Add conv layers to prune\n",
    "\n",
    "    layer_pruning[prune_rate] = {} # Dictionary to store accuracy results and model for each prune rate\n",
    "\n",
    "    # TODO Run validation on the pruned model (without retraining)\n",
    "    print(\"Evaluating before training...\")\n",
    "    top1_acc_notrain = evaluate(model, test_loader)\n",
    "    layer_pruning[prune_rate] = {\n",
    "        'model_notrain': model,\n",
    "        'top1_acc_notrain': top1_acc_notrain,\n",
    "   \n",
    "    }\n",
    "\n",
    "    print(f'Top1 accuracy for prune amount without iterative pruning {prune_rate*100}%: {layer_pruning[prune_rate][\"top1_acc_notrain\"]}%')\n",
    "    # print(f'Top1 accuracy (rel) for prune amount without retraining {prune_rate*100}%: {layer_pruning[prune_rate][\"top1_acc_rel_notrain\"]}%')\n",
    "\n",
    "    # Iterative pruning and training. \n",
    "    # acc_hist will store validation accuracy indexed by the number of iterations. \n",
    "    acc_hist = iterative_pruning(model, train_loader, iterations=25, prune_amount=prune_rate, accuracy_threshold= 60, retrain=True )\n",
    "\n",
    "    \n",
    "    top1_acc_train = evaluate(model, test_loader)\n",
    "    layer_pruning[prune_rate].update({\n",
    "        'model_train': model,\n",
    "        'top1_acc_train': top1_acc_train,\n",
    "        'acc_hist_per_iteration':acc_hist\n",
    "    })\n",
    "\n",
    "    print(f'Top1 accuracy for prune amount with retraining {prune_rate*100}%: {layer_pruning[prune_rate][\"top1_acc_train\"]}%')\n",
    "\n",
    "    print('-------------------------------------------')"
   ]
  },
  {
   "cell_type": "markdown",
   "metadata": {},
   "source": [
    "### Saving Variables for Future Use"
   ]
  },
  {
   "cell_type": "code",
   "execution_count": null,
   "metadata": {},
   "outputs": [],
   "source": [
    "np.save(\"Acc_history\", layer_pruning[0.1]['acc_hist_per_iteration'])\n",
    "np.save(\"baseline_acc_after_training\", baseline_acc_after_training)\n",
    "np.save(\"baseline_acc_before_training\", baseline_acc_before)"
   ]
  },
  {
   "cell_type": "markdown",
   "metadata": {},
   "source": [
    "### Validating only Pruned Network (Not-Retrained)"
   ]
  },
  {
   "cell_type": "code",
   "execution_count": null,
   "metadata": {},
   "outputs": [],
   "source": [
    "def iterative_pruning(model, train_loader, iterations=10, prune_amount=0.2):\n",
    "    model = model.to(device)\n",
    "    acc_hist = []\n",
    "    \n",
    "    for i in range(iterations):\n",
    "        print(f\"Iteration {i + 1}/{iterations} - Pruning {prune_amount * 100:.0f}% of weights\")\n",
    "        prune_by_x(model, prune_amount)\n",
    "        acc_hist.append(evaluate(model, test_loader))\n",
    "        \n",
    "                \n",
    "                \n",
    "\n",
    "    # Final pruning and check sparsity\n",
    "    prune_by_x_remove(model)\n",
    "    # path  = \"./models/model\"+ str(prune_amount) +\"_\"+ str(i)\n",
    "    # torch.save(model.state_dict(), path)\n",
    "\n",
    "    return np.array(acc_hist)\n",
    "    # for name, module in model.named_modules():\n",
    "    #     if hasattr(module, 'weight'):\n",
    "    #         print(f\"{name} sparsity: {(module.weight == 0).float().mean().item() * 100:.2f}%\")\n",
    "\n",
    "    # if retrain:\n",
    "    #     print(f\"Retraining final model after pruning...\")\n",
    "    #     training(model, train_loader, prune_percent=prune_amount)\n"
   ]
  },
  {
   "cell_type": "code",
   "execution_count": null,
   "metadata": {},
   "outputs": [
    {
     "name": "stdout",
     "output_type": "stream",
     "text": [
      "Iteration 1/6 - Pruning 10% of weights\n"
     ]
    },
    {
     "name": "stderr",
     "output_type": "stream",
     "text": [
      " 20%|██        | 16/79 [00:19<01:17,  1.23s/it]\n"
     ]
    },
    {
     "name": "stdout",
     "output_type": "stream",
     "text": [
      "Iteration 2/6 - Pruning 10% of weights\n"
     ]
    },
    {
     "name": "stderr",
     "output_type": "stream",
     "text": [
      " 20%|██        | 16/79 [00:10<00:41,  1.54it/s]\n"
     ]
    },
    {
     "name": "stdout",
     "output_type": "stream",
     "text": [
      "Iteration 3/6 - Pruning 10% of weights\n"
     ]
    },
    {
     "name": "stderr",
     "output_type": "stream",
     "text": [
      " 20%|██        | 16/79 [00:11<00:43,  1.44it/s]\n"
     ]
    },
    {
     "name": "stdout",
     "output_type": "stream",
     "text": [
      "Iteration 4/6 - Pruning 10% of weights\n"
     ]
    },
    {
     "name": "stderr",
     "output_type": "stream",
     "text": [
      " 20%|██        | 16/79 [00:10<00:40,  1.55it/s]\n"
     ]
    },
    {
     "name": "stdout",
     "output_type": "stream",
     "text": [
      "Iteration 5/6 - Pruning 10% of weights\n"
     ]
    },
    {
     "name": "stderr",
     "output_type": "stream",
     "text": [
      " 20%|██        | 16/79 [00:10<00:40,  1.57it/s]\n"
     ]
    },
    {
     "name": "stdout",
     "output_type": "stream",
     "text": [
      "Iteration 6/6 - Pruning 10% of weights\n"
     ]
    },
    {
     "name": "stderr",
     "output_type": "stream",
     "text": [
      " 20%|██        | 16/79 [00:10<00:41,  1.52it/s]\n"
     ]
    }
   ],
   "source": [
    "prune_rate_list = [0.10] # List of prune rate to test from 5-45 inclusive with step of 5\n",
    "layer_pruning = {} # Dictionary to store layer pruning results\n",
    "model_path = \"./models/model0_\"+ str(0.0)\n",
    "device = torch.device('cuda')\n",
    "for prune_rate in prune_rate_list:\n",
    "\n",
    "    model = models.vgg16(pretrained=True)#TODO: load pretr  ained model\n",
    "    # model.load_state_dict(torch.load(model_path))\n",
    "    # convs_to_prune = () #TODO: Add conv layers to prune\n",
    "\n",
    "   \n",
    "\n",
    "   \n",
    "    acc_hist_prune_only = iterative_pruning(model, iterations=6, prune_amount=prune_rate )\n",
    "\n",
    "    \n",
    "np.save(\"Acc_history_only_prune\", acc_hist_prune_only)"
   ]
  },
  {
   "cell_type": "markdown",
   "metadata": {},
   "source": [
    "### Loading the results and Plotting them"
   ]
  },
  {
   "cell_type": "code",
   "execution_count": null,
   "metadata": {},
   "outputs": [],
   "source": [
    "acc_hist = np.load(\"Acc_history.npy\")\n",
    "basline_acc_before = np.load(\"baseline_acc_before_training.npy\")\n",
    "basline_acc_after = np.load(\"baseline_acc_after_training.npy\")\n",
    "acc_hist_no_retrain = np.load('Acc_history_only_prune.npy')\n",
    "\n",
    "# creating x axis\n",
    "x_axis = []\n",
    "weigths = 100\n",
    "for i in range(6):\n",
    "    \n",
    "    x_axis.append(round(100- weigths*(100-10)/100, 2))\n",
    "    weigths = weigths*(100-10)/100\n"
   ]
  },
  {
   "cell_type": "code",
   "execution_count": null,
   "metadata": {},
   "outputs": [
    {
     "data": {
      "image/png": "[encoded data removed]",
      "text/plain": [
       "<Figure size 1000x600 with 1 Axes>"
      ]
     },
     "metadata": {},
     "output_type": "display_data"
    }
   ],
   "source": [
    "plt.figure(figsize = (10, 6))\n",
    "plt.plot(range(6), acc_hist, marker = 'o', color = 'purple', label = \"pruned+retrained\")\n",
    "plt.plot(range(6), acc_hist_prune_only, marker = 'o', color = 'g', label = \"only pruned\")\n",
    "\n",
    "plt.plot(basline_acc_before*np.ones(len(acc_hist)), '--', color = 'r', label = 'baseline', marker = 'o')\n",
    "\n",
    "plt.xticks(range(6), x_axis)\n",
    "plt.grid()\n",
    "plt.xlabel(\"Weights Pruned (%)\")\n",
    "plt.ylabel(\"Validation Accuracy (%)\")\n",
    "plt.legend()\n",
    "plt.savefig(\"Acc VS weights_channel_pruning_10percent\")"
   ]
  },
  {
   "cell_type": "markdown",
   "metadata": {},
   "source": [
    "### Layer Channel Pruning"
   ]
  },
  {
   "cell_type": "code",
   "execution_count": null,
   "metadata": {},
   "outputs": [],
   "source": [
    "def prune_by_x(model, percent):\n",
    "    '''\n",
    "        This will prune by percent, Conv2D and Linear layers. and make that permanent\n",
    "    '''\n",
    "\n",
    "    for layer in model.features:\n",
    "        if isinstance(layer, nn.Conv2d):\n",
    "            prune.ln_structured(layer, name='weight', amount=percent, n=1, dim=0)\n",
    "\n",
    "    for i, layer in enumerate(model.classifier):\n",
    "        if isinstance(layer, nn.Linear) and i < len(model.classifier) - 1:\n",
    "            prune.ln_structured(layer, name='weight', amount=percent , n=1, dim=0)\n",
    "\n",
    "\n",
    "def prune_by_x_remove(model):\n",
    "    '''\n",
    "        This will prune by percent, Conv2D and Linear layers. and make that permanent\n",
    "    '''\n",
    "    for layer in model.features:\n",
    "        if isinstance(layer, nn.Conv2d):\n",
    "            prune.remove(layer, 'weight')\n",
    "    \n",
    "    \n",
    "    for i, layer in enumerate(model.classifier):\n",
    "        if isinstance(layer, nn.Linear) and i < len(model.classifier) - 1:\n",
    "            prune.remove(layer, 'weight')"
   ]
  },
  {
   "cell_type": "code",
   "execution_count": null,
   "metadata": {},
   "outputs": [],
   "source": [
    "def iterative_pruning(model, train_loader, iterations=10, prune_amount=0.2, retrain=False, accuracy_threshold = 0):\n",
    "    model = model.to(device)\n",
    "    acc_hist = []\n",
    "    \n",
    "    for i in range(iterations):\n",
    "        print(f\"Iteration {i + 1}/{iterations} - Pruning {prune_amount * 100:.0f}% of weights\")\n",
    "        prune_by_x(model, prune_amount)\n",
    "        \n",
    "        # for name, module in model.named_modules():\n",
    "        #     if hasattr(module, 'weight'):\n",
    "        #         print(f\"{name} sparsity: {(module.weight == 0).float().mean().item() * 100:.2f}%\")\n",
    "                \n",
    "        if retrain:\n",
    "            print(f\"Retraining after iteration {i + 1}...\")\n",
    "            prev_model = model\n",
    "            training(model, train_loader, prune_percent=prune_amount, iteration = i, epochs = 5)\n",
    "            \n",
    "            # Ideally should have a validation dataset and not test dataset\n",
    "            acc = evaluate(model, test_loader)\n",
    "            print(f\"Validation Accuracy after {i+1} iteration: {acc}\")\n",
    "            acc_hist.append(acc)\n",
    "            np.save(\"acc_hist\", acc_hist)\n",
    "            if 100*accuracy_threshold != 0 and 100-100*(1-0.15)**(i+1) > accuracy_threshold:\n",
    "                print(f'Desired Sparsity Reached!!!')\n",
    "                break\n",
    "                print(f\"Current accuracy {acc}% below threshold Iterative Pruning Stopped at iteration {i+1}\")\n",
    "                break\n",
    "                \n",
    "\n",
    "    # Final pruning and check sparsity\n",
    "    prune_by_x_remove(model)\n",
    "    # path  = \"./models/model\"+ str(prune_amount) +\"_\"+ str(i)\n",
    "    # torch.save(model.state_dict(), path)\n",
    "\n",
    "    return np.array(acc_hist)\n",
    "    # for name, module in model.named_modules():\n",
    "    #     if hasattr(module, 'weight'):\n",
    "    #         print(f\"{name} sparsity: {(module.weight == 0).float().mean().item() * 100:.2f}%\")\n",
    "\n",
    "    # if retrain:\n",
    "    #     print(f\"Retraining final model after pruning...\")\n",
    "    #     training(model, train_loader, prune_percent=prune_amount)\n"
   ]
  },
  {
   "cell_type": "code",
   "execution_count": null,
   "metadata": {},
   "outputs": [
    {
     "name": "stdout",
     "output_type": "stream",
     "text": [
      "Evaluating before training...\n"
     ]
    },
    {
     "name": "stderr",
     "output_type": "stream",
     "text": [
      " 20%|██        | 16/79 [00:11<00:43,  1.45it/s]\n"
     ]
    },
    {
     "name": "stdout",
     "output_type": "stream",
     "text": [
      "Top1 accuracy for prune amount without iterative pruning 15.0%: 72.75390625%\n",
      "Iteration 1/25 - Pruning 15% of weights\n",
      "Retraining after iteration 1...\n",
      "cuda\n"
     ]
    },
    {
     "name": "stderr",
     "output_type": "stream",
     "text": [
      "100%|██████████| 704/704 [15:18<00:00,  1.30s/it]\n"
     ]
    },
    {
     "name": "stdout",
     "output_type": "stream",
     "text": [
      "Epoch 1/5 - Loss: 2.5660, Accuracy: 44.47%\n"
     ]
    },
    {
     "name": "stderr",
     "output_type": "stream",
     "text": [
      " 20%|██        | 16/79 [00:11<00:45,  1.39it/s]\n"
     ]
    },
    {
     "name": "stdout",
     "output_type": "stream",
     "text": [
      "55.6640625  Evaluate \n"
     ]
    },
    {
     "name": "stderr",
     "output_type": "stream",
     "text": [
      "100%|██████████| 704/704 [15:33<00:00,  1.33s/it]\n"
     ]
    },
    {
     "name": "stdout",
     "output_type": "stream",
     "text": [
      "Epoch 2/5 - Loss: 2.0794, Accuracy: 52.30%\n"
     ]
    },
    {
     "name": "stderr",
     "output_type": "stream",
     "text": [
      " 20%|██        | 16/79 [00:11<00:45,  1.40it/s]\n"
     ]
    },
    {
     "name": "stdout",
     "output_type": "stream",
     "text": [
      "59.1796875  Evaluate \n"
     ]
    },
    {
     "name": "stderr",
     "output_type": "stream",
     "text": [
      "100%|██████████| 704/704 [15:34<00:00,  1.33s/it]\n"
     ]
    },
    {
     "name": "stdout",
     "output_type": "stream",
     "text": [
      "Epoch 3/5 - Loss: 1.9364, Accuracy: 54.66%\n"
     ]
    },
    {
     "name": "stderr",
     "output_type": "stream",
     "text": [
      " 20%|██        | 16/79 [00:11<00:45,  1.38it/s]\n"
     ]
    },
    {
     "name": "stdout",
     "output_type": "stream",
     "text": [
      "60.64453125  Evaluate \n"
     ]
    },
    {
     "name": "stderr",
     "output_type": "stream",
     "text": [
      "100%|██████████| 704/704 [15:37<00:00,  1.33s/it]\n"
     ]
    },
    {
     "name": "stdout",
     "output_type": "stream",
     "text": [
      "Epoch 4/5 - Loss: 1.8520, Accuracy: 56.36%\n"
     ]
    },
    {
     "name": "stderr",
     "output_type": "stream",
     "text": [
      " 20%|██        | 16/79 [00:11<00:45,  1.37it/s]\n"
     ]
    },
    {
     "name": "stdout",
     "output_type": "stream",
     "text": [
      "63.37890625  Evaluate \n"
     ]
    },
    {
     "name": "stderr",
     "output_type": "stream",
     "text": [
      "100%|██████████| 704/704 [15:40<00:00,  1.34s/it]\n"
     ]
    },
    {
     "name": "stdout",
     "output_type": "stream",
     "text": [
      "Epoch 5/5 - Loss: 1.7959, Accuracy: 57.52%\n"
     ]
    },
    {
     "name": "stderr",
     "output_type": "stream",
     "text": [
      " 20%|██        | 16/79 [00:11<00:45,  1.38it/s]\n"
     ]
    },
    {
     "name": "stdout",
     "output_type": "stream",
     "text": [
      "63.57421875  Evaluate \n"
     ]
    },
    {
     "name": "stderr",
     "output_type": "stream",
     "text": [
      " 20%|██        | 16/79 [00:11<00:45,  1.38it/s]\n"
     ]
    },
    {
     "name": "stdout",
     "output_type": "stream",
     "text": [
      "Validation Accuracy after 1 iteration: 63.57421875\n",
      "Iteration 2/25 - Pruning 15% of weights\n",
      "Retraining after iteration 2...\n",
      "cuda\n"
     ]
    },
    {
     "name": "stderr",
     "output_type": "stream",
     "text": [
      "100%|██████████| 704/704 [15:25<00:00,  1.31s/it]\n"
     ]
    },
    {
     "name": "stdout",
     "output_type": "stream",
     "text": [
      "Epoch 1/5 - Loss: 4.0006, Accuracy: 22.94%\n"
     ]
    },
    {
     "name": "stderr",
     "output_type": "stream",
     "text": [
      " 20%|██        | 16/79 [00:11<00:45,  1.37it/s]\n"
     ]
    },
    {
     "name": "stdout",
     "output_type": "stream",
     "text": [
      "33.69140625  Evaluate \n"
     ]
    },
    {
     "name": "stderr",
     "output_type": "stream",
     "text": [
      "100%|██████████| 704/704 [15:26<00:00,  1.32s/it]\n"
     ]
    },
    {
     "name": "stdout",
     "output_type": "stream",
     "text": [
      "Epoch 2/5 - Loss: 3.2371, Accuracy: 31.81%\n"
     ]
    },
    {
     "name": "stderr",
     "output_type": "stream",
     "text": [
      " 20%|██        | 16/79 [00:11<00:46,  1.37it/s]\n"
     ]
    },
    {
     "name": "stdout",
     "output_type": "stream",
     "text": [
      "39.55078125  Evaluate \n"
     ]
    },
    {
     "name": "stderr",
     "output_type": "stream",
     "text": [
      "100%|██████████| 704/704 [15:25<00:00,  1.32s/it]\n"
     ]
    },
    {
     "name": "stdout",
     "output_type": "stream",
     "text": [
      "Epoch 3/5 - Loss: 2.9375, Accuracy: 35.93%\n"
     ]
    },
    {
     "name": "stderr",
     "output_type": "stream",
     "text": [
      " 20%|██        | 16/79 [00:11<00:45,  1.40it/s]\n"
     ]
    },
    {
     "name": "stdout",
     "output_type": "stream",
     "text": [
      "43.9453125  Evaluate \n"
     ]
    },
    {
     "name": "stderr",
     "output_type": "stream",
     "text": [
      "100%|██████████| 704/704 [15:25<00:00,  1.31s/it]\n"
     ]
    },
    {
     "name": "stdout",
     "output_type": "stream",
     "text": [
      "Epoch 4/5 - Loss: 2.7598, Accuracy: 39.06%\n"
     ]
    },
    {
     "name": "stderr",
     "output_type": "stream",
     "text": [
      " 20%|██        | 16/79 [00:11<00:44,  1.40it/s]\n"
     ]
    },
    {
     "name": "stdout",
     "output_type": "stream",
     "text": [
      "46.09375  Evaluate \n"
     ]
    },
    {
     "name": "stderr",
     "output_type": "stream",
     "text": [
      "100%|██████████| 704/704 [15:23<00:00,  1.31s/it]\n"
     ]
    },
    {
     "name": "stdout",
     "output_type": "stream",
     "text": [
      "Epoch 5/5 - Loss: 2.6349, Accuracy: 41.25%\n"
     ]
    },
    {
     "name": "stderr",
     "output_type": "stream",
     "text": [
      " 20%|██        | 16/79 [00:11<00:44,  1.40it/s]\n"
     ]
    },
    {
     "name": "stdout",
     "output_type": "stream",
     "text": [
      "47.65625  Evaluate \n"
     ]
    },
    {
     "name": "stderr",
     "output_type": "stream",
     "text": [
      " 20%|██        | 16/79 [00:11<00:45,  1.39it/s]\n"
     ]
    },
    {
     "name": "stdout",
     "output_type": "stream",
     "text": [
      "Validation Accuracy after 2 iteration: 47.65625\n",
      "Iteration 3/25 - Pruning 15% of weights\n",
      "Retraining after iteration 3...\n",
      "cuda\n"
     ]
    },
    {
     "name": "stderr",
     "output_type": "stream",
     "text": [
      "100%|██████████| 704/704 [15:14<00:00,  1.30s/it]\n"
     ]
    },
    {
     "name": "stdout",
     "output_type": "stream",
     "text": [
      "Epoch 1/5 - Loss: 5.0064, Accuracy: 10.63%\n"
     ]
    },
    {
     "name": "stderr",
     "output_type": "stream",
     "text": [
      " 20%|██        | 16/79 [00:11<00:44,  1.40it/s]\n"
     ]
    },
    {
     "name": "stdout",
     "output_type": "stream",
     "text": [
      "19.7265625  Evaluate \n"
     ]
    },
    {
     "name": "stderr",
     "output_type": "stream",
     "text": [
      "100%|██████████| 704/704 [15:13<00:00,  1.30s/it]\n"
     ]
    },
    {
     "name": "stdout",
     "output_type": "stream",
     "text": [
      "Epoch 2/5 - Loss: 4.3166, Accuracy: 16.17%\n"
     ]
    },
    {
     "name": "stderr",
     "output_type": "stream",
     "text": [
      " 20%|██        | 16/79 [00:11<00:43,  1.43it/s]\n"
     ]
    },
    {
     "name": "stdout",
     "output_type": "stream",
     "text": [
      "24.51171875  Evaluate \n"
     ]
    },
    {
     "name": "stderr",
     "output_type": "stream",
     "text": [
      "100%|██████████| 704/704 [15:13<00:00,  1.30s/it]\n"
     ]
    },
    {
     "name": "stdout",
     "output_type": "stream",
     "text": [
      "Epoch 3/5 - Loss: 3.9862, Accuracy: 19.95%\n"
     ]
    },
    {
     "name": "stderr",
     "output_type": "stream",
     "text": [
      " 20%|██        | 16/79 [00:11<00:44,  1.41it/s]\n"
     ]
    },
    {
     "name": "stdout",
     "output_type": "stream",
     "text": [
      "27.05078125  Evaluate \n"
     ]
    },
    {
     "name": "stderr",
     "output_type": "stream",
     "text": [
      "100%|██████████| 704/704 [15:14<00:00,  1.30s/it]\n"
     ]
    },
    {
     "name": "stdout",
     "output_type": "stream",
     "text": [
      "Epoch 4/5 - Loss: 3.7582, Accuracy: 22.75%\n"
     ]
    },
    {
     "name": "stderr",
     "output_type": "stream",
     "text": [
      " 20%|██        | 16/79 [00:11<00:45,  1.39it/s]\n"
     ]
    },
    {
     "name": "stdout",
     "output_type": "stream",
     "text": [
      "29.4921875  Evaluate \n"
     ]
    },
    {
     "name": "stderr",
     "output_type": "stream",
     "text": [
      "100%|██████████| 704/704 [15:14<00:00,  1.30s/it]\n"
     ]
    },
    {
     "name": "stdout",
     "output_type": "stream",
     "text": [
      "Epoch 5/5 - Loss: 3.5997, Accuracy: 24.82%\n"
     ]
    },
    {
     "name": "stderr",
     "output_type": "stream",
     "text": [
      " 20%|██        | 16/79 [00:11<00:44,  1.42it/s]\n"
     ]
    },
    {
     "name": "stdout",
     "output_type": "stream",
     "text": [
      "32.421875  Evaluate \n"
     ]
    },
    {
     "name": "stderr",
     "output_type": "stream",
     "text": [
      " 20%|██        | 16/79 [00:11<00:44,  1.41it/s]\n"
     ]
    },
    {
     "name": "stdout",
     "output_type": "stream",
     "text": [
      "Validation Accuracy after 3 iteration: 32.421875\n",
      "Iteration 4/25 - Pruning 15% of weights\n",
      "Retraining after iteration 4...\n",
      "cuda\n"
     ]
    },
    {
     "name": "stderr",
     "output_type": "stream",
     "text": [
      "100%|██████████| 704/704 [15:01<00:00,  1.28s/it]\n"
     ]
    },
    {
     "name": "stdout",
     "output_type": "stream",
     "text": [
      "Epoch 1/5 - Loss: 5.7607, Accuracy: 4.09%\n"
     ]
    },
    {
     "name": "stderr",
     "output_type": "stream",
     "text": [
      " 20%|██        | 16/79 [00:11<00:43,  1.44it/s]\n"
     ]
    },
    {
     "name": "stdout",
     "output_type": "stream",
     "text": [
      "8.0078125  Evaluate \n"
     ]
    },
    {
     "name": "stderr",
     "output_type": "stream",
     "text": [
      "100%|██████████| 704/704 [15:05<00:00,  1.29s/it]\n"
     ]
    },
    {
     "name": "stdout",
     "output_type": "stream",
     "text": [
      "Epoch 2/5 - Loss: 5.2004, Accuracy: 7.03%\n"
     ]
    },
    {
     "name": "stderr",
     "output_type": "stream",
     "text": [
      " 20%|██        | 16/79 [00:11<00:43,  1.43it/s]\n"
     ]
    },
    {
     "name": "stdout",
     "output_type": "stream",
     "text": [
      "12.5  Evaluate \n"
     ]
    },
    {
     "name": "stderr",
     "output_type": "stream",
     "text": [
      "100%|██████████| 704/704 [15:05<00:00,  1.29s/it]\n"
     ]
    },
    {
     "name": "stdout",
     "output_type": "stream",
     "text": [
      "Epoch 3/5 - Loss: 4.8976, Accuracy: 9.19%\n"
     ]
    },
    {
     "name": "stderr",
     "output_type": "stream",
     "text": [
      " 20%|██        | 16/79 [00:11<00:43,  1.44it/s]\n"
     ]
    },
    {
     "name": "stdout",
     "output_type": "stream",
     "text": [
      "14.6484375  Evaluate \n"
     ]
    },
    {
     "name": "stderr",
     "output_type": "stream",
     "text": [
      "100%|██████████| 704/704 [15:06<00:00,  1.29s/it]\n"
     ]
    },
    {
     "name": "stdout",
     "output_type": "stream",
     "text": [
      "Epoch 4/5 - Loss: 4.6747, Accuracy: 10.82%\n"
     ]
    },
    {
     "name": "stderr",
     "output_type": "stream",
     "text": [
      " 20%|██        | 16/79 [00:11<00:44,  1.43it/s]\n"
     ]
    },
    {
     "name": "stdout",
     "output_type": "stream",
     "text": [
      "16.6015625  Evaluate \n"
     ]
    },
    {
     "name": "stderr",
     "output_type": "stream",
     "text": [
      "100%|██████████| 704/704 [15:05<00:00,  1.29s/it]\n"
     ]
    },
    {
     "name": "stdout",
     "output_type": "stream",
     "text": [
      "Epoch 5/5 - Loss: 4.4958, Accuracy: 12.81%\n"
     ]
    },
    {
     "name": "stderr",
     "output_type": "stream",
     "text": [
      " 20%|██        | 16/79 [00:11<00:44,  1.43it/s]\n"
     ]
    },
    {
     "name": "stdout",
     "output_type": "stream",
     "text": [
      "20.3125  Evaluate \n"
     ]
    },
    {
     "name": "stderr",
     "output_type": "stream",
     "text": [
      " 20%|██        | 16/79 [00:11<00:43,  1.44it/s]\n"
     ]
    },
    {
     "name": "stdout",
     "output_type": "stream",
     "text": [
      "Validation Accuracy after 4 iteration: 20.3125\n",
      "Iteration 5/25 - Pruning 15% of weights\n",
      "Retraining after iteration 5...\n",
      "cuda\n"
     ]
    },
    {
     "name": "stderr",
     "output_type": "stream",
     "text": [
      "100%|██████████| 704/704 [14:52<00:00,  1.27s/it]\n"
     ]
    },
    {
     "name": "stdout",
     "output_type": "stream",
     "text": [
      "Epoch 1/5 - Loss: 6.3657, Accuracy: 1.12%\n"
     ]
    },
    {
     "name": "stderr",
     "output_type": "stream",
     "text": [
      " 20%|██        | 16/79 [00:11<00:43,  1.45it/s]\n"
     ]
    },
    {
     "name": "stdout",
     "output_type": "stream",
     "text": [
      "2.734375  Evaluate \n"
     ]
    },
    {
     "name": "stderr",
     "output_type": "stream",
     "text": [
      "100%|██████████| 704/704 [14:53<00:00,  1.27s/it]\n"
     ]
    },
    {
     "name": "stdout",
     "output_type": "stream",
     "text": [
      "Epoch 2/5 - Loss: 5.9669, Accuracy: 2.27%\n"
     ]
    },
    {
     "name": "stderr",
     "output_type": "stream",
     "text": [
      " 20%|██        | 16/79 [00:11<00:43,  1.44it/s]\n"
     ]
    },
    {
     "name": "stdout",
     "output_type": "stream",
     "text": [
      "5.078125  Evaluate \n"
     ]
    },
    {
     "name": "stderr",
     "output_type": "stream",
     "text": [
      "100%|██████████| 704/704 [14:52<00:00,  1.27s/it]\n"
     ]
    },
    {
     "name": "stdout",
     "output_type": "stream",
     "text": [
      "Epoch 3/5 - Loss: 5.7284, Accuracy: 3.01%\n"
     ]
    },
    {
     "name": "stderr",
     "output_type": "stream",
     "text": [
      " 20%|██        | 16/79 [00:10<00:43,  1.46it/s]\n"
     ]
    },
    {
     "name": "stdout",
     "output_type": "stream",
     "text": [
      "6.93359375  Evaluate \n"
     ]
    },
    {
     "name": "stderr",
     "output_type": "stream",
     "text": [
      "100%|██████████| 704/704 [14:53<00:00,  1.27s/it]\n"
     ]
    },
    {
     "name": "stdout",
     "output_type": "stream",
     "text": [
      "Epoch 4/5 - Loss: 5.5429, Accuracy: 3.86%\n"
     ]
    },
    {
     "name": "stderr",
     "output_type": "stream",
     "text": [
      " 20%|██        | 16/79 [00:11<00:43,  1.45it/s]\n"
     ]
    },
    {
     "name": "stdout",
     "output_type": "stream",
     "text": [
      "7.12890625  Evaluate \n"
     ]
    },
    {
     "name": "stderr",
     "output_type": "stream",
     "text": [
      "100%|██████████| 704/704 [14:53<00:00,  1.27s/it]\n"
     ]
    },
    {
     "name": "stdout",
     "output_type": "stream",
     "text": [
      "Epoch 5/5 - Loss: 5.3885, Accuracy: 4.71%\n"
     ]
    },
    {
     "name": "stderr",
     "output_type": "stream",
     "text": [
      " 20%|██        | 16/79 [00:11<00:43,  1.44it/s]\n"
     ]
    },
    {
     "name": "stdout",
     "output_type": "stream",
     "text": [
      "9.27734375  Evaluate \n"
     ]
    },
    {
     "name": "stderr",
     "output_type": "stream",
     "text": [
      " 20%|██        | 16/79 [00:11<00:43,  1.44it/s]\n"
     ]
    },
    {
     "name": "stdout",
     "output_type": "stream",
     "text": [
      "Validation Accuracy after 5 iteration: 9.27734375\n",
      "Iteration 6/25 - Pruning 15% of weights\n",
      "Retraining after iteration 6...\n",
      "cuda\n"
     ]
    },
    {
     "name": "stderr",
     "output_type": "stream",
     "text": [
      "100%|██████████| 704/704 [14:45<00:00,  1.26s/it]\n"
     ]
    },
    {
     "name": "stdout",
     "output_type": "stream",
     "text": [
      "Epoch 1/5 - Loss: 6.7622, Accuracy: 0.38%\n"
     ]
    },
    {
     "name": "stderr",
     "output_type": "stream",
     "text": [
      " 20%|██        | 16/79 [00:11<00:43,  1.43it/s]\n"
     ]
    },
    {
     "name": "stdout",
     "output_type": "stream",
     "text": [
      "1.07421875  Evaluate \n"
     ]
    },
    {
     "name": "stderr",
     "output_type": "stream",
     "text": [
      "100%|██████████| 704/704 [14:46<00:00,  1.26s/it]\n"
     ]
    },
    {
     "name": "stdout",
     "output_type": "stream",
     "text": [
      "Epoch 2/5 - Loss: 6.4806, Accuracy: 0.74%\n"
     ]
    },
    {
     "name": "stderr",
     "output_type": "stream",
     "text": [
      " 20%|██        | 16/79 [00:10<00:43,  1.46it/s]\n"
     ]
    },
    {
     "name": "stdout",
     "output_type": "stream",
     "text": [
      "1.7578125  Evaluate \n"
     ]
    },
    {
     "name": "stderr",
     "output_type": "stream",
     "text": [
      "100%|██████████| 704/704 [14:46<00:00,  1.26s/it]\n"
     ]
    },
    {
     "name": "stdout",
     "output_type": "stream",
     "text": [
      "Epoch 3/5 - Loss: 6.2886, Accuracy: 1.10%\n"
     ]
    },
    {
     "name": "stderr",
     "output_type": "stream",
     "text": [
      " 20%|██        | 16/79 [00:11<00:43,  1.45it/s]\n"
     ]
    },
    {
     "name": "stdout",
     "output_type": "stream",
     "text": [
      "1.66015625  Evaluate \n"
     ]
    },
    {
     "name": "stderr",
     "output_type": "stream",
     "text": [
      "100%|██████████| 704/704 [14:46<00:00,  1.26s/it]\n"
     ]
    },
    {
     "name": "stdout",
     "output_type": "stream",
     "text": [
      "Epoch 4/5 - Loss: 6.1400, Accuracy: 1.29%\n"
     ]
    },
    {
     "name": "stderr",
     "output_type": "stream",
     "text": [
      " 20%|██        | 16/79 [00:11<00:43,  1.44it/s]\n"
     ]
    },
    {
     "name": "stdout",
     "output_type": "stream",
     "text": [
      "2.63671875  Evaluate \n"
     ]
    },
    {
     "name": "stderr",
     "output_type": "stream",
     "text": [
      "100%|██████████| 704/704 [14:46<00:00,  1.26s/it]\n"
     ]
    },
    {
     "name": "stdout",
     "output_type": "stream",
     "text": [
      "Epoch 5/5 - Loss: 6.0376, Accuracy: 1.58%\n"
     ]
    },
    {
     "name": "stderr",
     "output_type": "stream",
     "text": [
      " 20%|██        | 16/79 [00:10<00:43,  1.46it/s]\n"
     ]
    },
    {
     "name": "stdout",
     "output_type": "stream",
     "text": [
      "2.9296875  Evaluate \n"
     ]
    },
    {
     "name": "stderr",
     "output_type": "stream",
     "text": [
      " 20%|██        | 16/79 [00:11<00:43,  1.43it/s]\n"
     ]
    },
    {
     "name": "stdout",
     "output_type": "stream",
     "text": [
      "Validation Accuracy after 6 iteration: 2.9296875\n",
      "Desired Sparsity Reached!!!\n"
     ]
    },
    {
     "name": "stderr",
     "output_type": "stream",
     "text": [
      " 20%|██        | 16/79 [00:11<00:43,  1.44it/s]"
     ]
    },
    {
     "name": "stdout",
     "output_type": "stream",
     "text": [
      "Top1 accuracy for prune amount with retraining 15.0%: 2.9296875%\n",
      "-------------------------------------------\n"
     ]
    },
    {
     "name": "stderr",
     "output_type": "stream",
     "text": [
      "\n"
     ]
    }
   ],
   "source": [
    "prune_rate_list = [0.15] # List of prune rate to test from 5-45 inclusive with step of 5\n",
    "layer_pruning = {} # Dictionary to store layer pruning results\n",
    "model_path = \"./models/model0_\"+ str(0.0)\n",
    "\n",
    "for prune_rate in prune_rate_list:\n",
    "\n",
    "    model = models.vgg16(pretrained=True)#TODO: load pretr  ained model\n",
    "    # model.load_state_dict(torch.load(model_path))\n",
    "    # convs_to_prune = () #TODO: Add conv layers to prune\n",
    "\n",
    "    layer_pruning[prune_rate] = {} # Dictionary to store accuracy results and model for each prune rate\n",
    "\n",
    "    # TODO Run validation on the pruned model (without retraining)\n",
    "    print(\"Evaluating before training...\")\n",
    "    top1_acc_notrain = evaluate(model, test_loader)\n",
    "    layer_pruning[prune_rate] = {\n",
    "        'model_notrain': model,\n",
    "        'top1_acc_notrain': top1_acc_notrain,\n",
    "   \n",
    "    }\n",
    "\n",
    "    print(f'Top1 accuracy for prune amount without iterative pruning {prune_rate*100}%: {layer_pruning[prune_rate][\"top1_acc_notrain\"]}%')\n",
    "    # print(f'Top1 accuracy (rel) for prune amount without retraining {prune_rate*100}%: {layer_pruning[prune_rate][\"top1_acc_rel_notrain\"]}%')\n",
    "\n",
    "    # Iterative pruning and training. \n",
    "    # acc_hist will store validation accuracy indexed by the number of iterations. \n",
    "    acc_hist = iterative_pruning(model, train_loader, iterations=25, prune_amount=prune_rate, accuracy_threshold= 60, retrain=True )\n",
    "\n",
    "    \n",
    "    top1_acc_train = evaluate(model, test_loader)\n",
    "    layer_pruning[prune_rate].update({\n",
    "        'model_train': model,\n",
    "        'top1_acc_train': top1_acc_train,\n",
    "        'acc_hist_per_iteration':acc_hist\n",
    "    })\n",
    "\n",
    "    print(f'Top1 accuracy for prune amount with retraining {prune_rate*100}%: {layer_pruning[prune_rate][\"top1_acc_train\"]}%')\n",
    "\n",
    "    print('-------------------------------------------')"
   ]
  },
  {
   "cell_type": "markdown",
   "metadata": {},
   "source": [
    "### Just Pruning and not Retraining"
   ]
  },
  {
   "cell_type": "code",
   "execution_count": null,
   "metadata": {},
   "outputs": [],
   "source": [
    "def prune_by_x(model, percent):\n",
    "    '''\n",
    "        This will prune by percent, Conv2D and Linear layers. and make that permanent\n",
    "    '''\n",
    "\n",
    "    for layer in model.features:\n",
    "        if isinstance(layer, nn.Conv2d):\n",
    "            prune.ln_structured(layer, name='weight', amount=percent, n=1, dim=0)\n",
    "\n",
    "    for i, layer in enumerate(model.classifier):\n",
    "        if isinstance(layer, nn.Linear) and i < len(model.classifier) - 1:\n",
    "            prune.ln_structured(layer, name='weight', amount=percent , n=1, dim=0)\n",
    "\n",
    "\n",
    "def prune_by_x_remove(model):\n",
    "    '''\n",
    "        This will prune by percent, Conv2D and Linear layers. and make that permanent\n",
    "    '''\n",
    "    for layer in model.features:\n",
    "        if isinstance(layer, nn.Conv2d):\n",
    "            prune.remove(layer, 'weight')\n",
    "    \n",
    "    \n",
    "    for i, layer in enumerate(model.classifier):\n",
    "        if isinstance(layer, nn.Linear) and i < len(model.classifier) - 1:\n",
    "            prune.remove(layer, 'weight')"
   ]
  },
  {
   "cell_type": "code",
   "execution_count": null,
   "metadata": {},
   "outputs": [],
   "source": [
    "def iterative_pruning(model, iterations=10, prune_amount=0.2):\n",
    "    model = model.to(device)\n",
    "    acc_hist = []\n",
    "    \n",
    "    for i in range(iterations):\n",
    "        print(f\"Iteration {i + 1}/{iterations} - Pruning {prune_amount * 100:.0f}% of weights\")\n",
    "        prune_by_x(model, prune_amount)\n",
    "        acc_hist.append(evaluate(model, test_loader))\n",
    "        \n",
    "                \n",
    "                \n",
    "\n",
    "    # Final pruning and check sparsity\n",
    "    prune_by_x_remove(model)\n",
    "    # path  = \"./models/model\"+ str(prune_amount) +\"_\"+ str(i)\n",
    "    # torch.save(model.state_dict(), path)\n",
    "\n",
    "    return np.array(acc_hist)\n",
    "    # for name, module in model.named_modules():\n",
    "    #     if hasattr(module, 'weight'):\n",
    "    #         print(f\"{name} sparsity: {(module.weight == 0).float().mean().item() * 100:.2f}%\")\n",
    "\n",
    "    # if retrain:\n",
    "    #     print(f\"Retraining final model after pruning...\")\n",
    "    #     training(model, train_loader, prune_percent=prune_amount)\n"
   ]
  },
  {
   "cell_type": "code",
   "execution_count": null,
   "metadata": {},
   "outputs": [
    {
     "name": "stdout",
     "output_type": "stream",
     "text": [
      "Iteration 1/6 - Pruning 15% of weights\n"
     ]
    },
    {
     "name": "stderr",
     "output_type": "stream",
     "text": [
      " 20%|██        | 16/79 [00:24<01:36,  1.53s/it]\n"
     ]
    },
    {
     "name": "stdout",
     "output_type": "stream",
     "text": [
      "Iteration 2/6 - Pruning 15% of weights\n"
     ]
    },
    {
     "name": "stderr",
     "output_type": "stream",
     "text": [
      " 20%|██        | 16/79 [00:11<00:46,  1.36it/s]\n"
     ]
    },
    {
     "name": "stdout",
     "output_type": "stream",
     "text": [
      "Iteration 3/6 - Pruning 15% of weights\n"
     ]
    },
    {
     "name": "stderr",
     "output_type": "stream",
     "text": [
      " 20%|██        | 16/79 [00:14<00:57,  1.09it/s]\n"
     ]
    },
    {
     "name": "stdout",
     "output_type": "stream",
     "text": [
      "Iteration 4/6 - Pruning 15% of weights\n"
     ]
    },
    {
     "name": "stderr",
     "output_type": "stream",
     "text": [
      " 20%|██        | 16/79 [00:14<00:55,  1.13it/s]\n"
     ]
    },
    {
     "name": "stdout",
     "output_type": "stream",
     "text": [
      "Iteration 5/6 - Pruning 15% of weights\n"
     ]
    },
    {
     "name": "stderr",
     "output_type": "stream",
     "text": [
      " 20%|██        | 16/79 [00:12<00:48,  1.29it/s]\n"
     ]
    },
    {
     "name": "stdout",
     "output_type": "stream",
     "text": [
      "Iteration 6/6 - Pruning 15% of weights\n"
     ]
    },
    {
     "name": "stderr",
     "output_type": "stream",
     "text": [
      " 20%|██        | 16/79 [00:13<00:51,  1.21it/s]\n"
     ]
    }
   ],
   "source": [
    "prune_rate_list = [0.15] # List of prune rate to test from 5-45 inclusive with step of 5\n",
    "layer_pruning = {} # Dictionary to store layer pruning results\n",
    "model_path = \"./models/model0_\"+ str(0.0)\n",
    "\n",
    "for prune_rate in prune_rate_list:\n",
    "\n",
    "    model = models.vgg16(pretrained=True)#TODO: load pretr  ained model\n",
    "    # model.load_state_dict(torch.load(model_path))\n",
    "    # convs_to_prune = () #TODO: Add conv layers to prune\n",
    "\n",
    "   \n",
    "\n",
    "   \n",
    "    acc_hist_prune_only = iterative_pruning(model, iterations=6, prune_amount=prune_rate )\n",
    "\n",
    "    \n",
    " "
   ]
  },
  {
   "cell_type": "code",
   "execution_count": null,
   "metadata": {},
   "outputs": [],
   "source": [
    "acc_hist = np.load(\"acc_hist.npy\")\n",
    "basline_acc_before = 72.75\n",
    "# basline_acc_before = np.load(\"baseline_acc_before_training.npy\")\n",
    "# basline_acc_after = np.load(\"baseline_acc_after_training.npy\")"
   ]
  },
  {
   "cell_type": "code",
   "execution_count": null,
   "metadata": {},
   "outputs": [],
   "source": [
    "x_axis = []\n",
    "weigths = 100\n",
    "for i in range(6):\n",
    "    \n",
    "    x_axis.append(round(100- weigths*(100-15)/100, 2))\n",
    "    weigths = weigths*(100-15)/100\n"
   ]
  },
  {
   "cell_type": "code",
   "execution_count": null,
   "metadata": {},
   "outputs": [
    {
     "data": {
      "image/png": "[encoded data removed]",
      "text/plain": [
       "<Figure size 640x480 with 1 Axes>"
      ]
     },
     "metadata": {},
     "output_type": "display_data"
    }
   ],
   "source": [
    "plt.plot(range(6), acc_hist, marker = 'o', color = 'purple', label = \"pruned+retrained\")\n",
    "plt.plot(range(6), acc_hist_prune_only, marker = 'o', color = 'g', label = \"only pruned\")\n",
    "\n",
    "plt.plot(basline_acc_before*np.ones(len(acc_hist)), '--', color = 'r', label = 'baseline', marker = 'o')\n",
    "\n",
    "plt.xticks(range(6), x_axis)\n",
    "plt.grid()\n",
    "plt.xlabel(\"Weights Pruned (%)\")\n",
    "plt.ylabel(\"Validation Accuracy (%)\")\n",
    "plt.legend()\n",
    "plt.savefig(\"Acc VS weights_channel_pruning\")"
   ]
  },
  {
   "cell_type": "markdown",
   "metadata": {},
   "source": [
    "## Extension - Transfer Learning"
   ]
  },
  {
   "cell_type": "code",
   "execution_count": null,
   "metadata": {},
   "outputs": [],
   "source": [
    "def prune_by_x(model, percent):\n",
    "    '''\n",
    "        This will prune by percent, Conv2D and Linear layers. and make that permanent\n",
    "    '''\n",
    "\n",
    "    for layer in model.features:\n",
    "        if isinstance(layer, nn.Conv2d):\n",
    "            prune.ln_structured(layer, name='weight', amount=percent, n=1, dim=0)\n",
    "\n",
    "    for i, layer in enumerate(model.classifier):\n",
    "        if isinstance(layer, nn.Linear) and i < len(model.classifier) - 1:\n",
    "            prune.ln_structured(layer, name='weight', amount=percent , n=1, dim=0)\n",
    "\n",
    "\n",
    "def prune_by_x_remove(model):\n",
    "    '''\n",
    "        This will prune by percent, Conv2D and Linear layers. and make that permanent\n",
    "    '''\n",
    "    for layer in model.features:\n",
    "        if isinstance(layer, nn.Conv2d):\n",
    "            prune.remove(layer, 'weight')\n",
    "    \n",
    "    \n",
    "    for i, layer in enumerate(model.classifier):\n",
    "        if isinstance(layer, nn.Linear) and i < len(model.classifier) - 1:\n",
    "            prune.remove(layer, 'weight')"
   ]
  },
  {
   "cell_type": "markdown",
   "metadata": {},
   "source": [
    "### Creating Dataloaders"
   ]
  },
  {
   "cell_type": "code",
   "execution_count": null,
   "metadata": {},
   "outputs": [
    {
     "name": "stdout",
     "output_type": "stream",
     "text": [
      "Batch size: 32\n",
      "Found 9605 validated image filenames belonging to 2 classes.\n",
      "Found 1000 validated image filenames belonging to 2 classes.\n"
     ]
    }
   ],
   "source": [
    "root = \"./melanoma/\"\n",
    "train = \"melanoma_cancer_dataset/train\"\n",
    "test = \"melanoma_cancer_dataset/test\"\n",
    "\n",
    "target_size = (32, 32)\n",
    "batch_size = 32\n",
    "num_classes = 2\n",
    "\n",
    "train_transforms = transforms.Compose([\n",
    "transforms.ToTensor(),\n",
    "transforms.Resize(target_size, antialias = True),\n",
    "transforms.ColorJitter(brightness = (0.85, 1.15)),\n",
    "transforms.RandomAffine(degrees = 0, translate = (0.002, 0.002)),\n",
    "transforms.RandomRotation(degrees = 10),\n",
    "transforms.Normalize(mean = [0.485, 0.456, 0.406], std = [0.229, 0.224, 0.225])\n",
    "])\n",
    "\n",
    "test_transforms = transforms.Compose([\n",
    "    transforms.ToTensor(),\n",
    "    transforms.Resize(target_size, antialias = True),\n",
    "    transforms.Normalize(mean = [0.485, 0.456, 0.406], std = [0.229, 0.224, 0.225]),\n",
    "])\n",
    "\n",
    "\n",
    "train_data = ImageFolder(os.path.join(root, train), transform = train_transforms)\n",
    "train_loader = DataLoader(train_data, batch_size = batch_size, shuffle = True)\n",
    "\n",
    "test_data = ImageFolder(os.path.join(root, test), transform = test_transforms)\n",
    "test_loader = DataLoader(test_data, batch_size = batch_size, shuffle = False)\n",
    "\n",
    "print(f'Batch size: {batch_size}')\n",
    "print(f'Found {len(train_data)} validated image filenames belonging to {num_classes} classes.')\n",
    "print(f'Found {len(test_data)} validated image filenames belonging to {num_classes} classes.')"
   ]
  },
  {
   "cell_type": "markdown",
   "metadata": {},
   "source": [
    "### Helper Functions\n",
    "- _freeze_model()_: Make the layers of the model non-trainable.\n",
    "- _add_last_layer()_: Add a Fully Connected Layer at the end of the model. "
   ]
  },
  {
   "cell_type": "code",
   "execution_count": null,
   "metadata": {},
   "outputs": [],
   "source": [
    "def freeze_model(model):\n",
    "    \n",
    "    for param in model.parameters():\n",
    "        param.requires_grad = False\n",
    "        \n",
    "def add_last_layer(model, num_classes):\n",
    "   \n",
    "   model.classifier[-1] = nn.Linear(model.classifier[-1].in_features, num_classes)\n",
    "\n",
    "\n",
    "# VALIDATE MODEL\n",
    "\n",
    "def validate_model(model, dataloader, device=\"cpu\", n=1024):\n",
    "    model.eval()\n",
    "    running_corrects = 0\n",
    "    total = 0\n",
    "\n",
    "    # Move model to device (CPU or GPU)\n",
    "    # One time to amortize data movement\n",
    "    dev = torch.device(device)\n",
    "    model.to(dev)\n",
    "\n",
    "    trials = 1\n",
    "    total_accuracy = 0\n",
    "    \n",
    "    for trial  in range(trials):\n",
    "        total =  0\n",
    "        \n",
    "        for i, (inputs, labels) in enumerate(tqdm(dataloader)):\n",
    "            if (n is not None and total >= n):\n",
    "                break\n",
    "            # Send inputs to device\n",
    "            inputs = inputs.to(dev)\n",
    "            labels = labels.to(dev)\n",
    "        \n",
    "            # Forward pass\n",
    "            outputs = model(inputs)\n",
    "            _, predicted = torch.max(outputs, 1)\n",
    "            \n",
    "\n",
    "            # Gather statistics\n",
    "            running_corrects += torch.sum(predicted == labels.data)\n",
    "            total += inputs.size()[0]       # get batch size\n",
    "\n",
    "        epoch_acc = 100 * running_corrects.cpu()/ total\n",
    "\n",
    "       \n",
    "        total_accuracy += epoch_acc\n",
    "    print(\"Validation Accuracy: \", total_accuracy.item(), \"%\")\n",
    "    return total_accuracy/trials"
   ]
  },
  {
   "cell_type": "markdown",
   "metadata": {},
   "source": [
    "##### Train the last layer of the baseline model and store this. This new trained model will be the baseline model for pruning. "
   ]
  },
  {
   "cell_type": "markdown",
   "metadata": {},
   "source": [
    "BASELINE"
   ]
  },
  {
   "cell_type": "code",
   "execution_count": null,
   "metadata": {},
   "outputs": [],
   "source": [
    "baseline_model = models.vgg16(pretrained = True)"
   ]
  },
  {
   "cell_type": "code",
   "execution_count": null,
   "metadata": {},
   "outputs": [],
   "source": [
    "freeze_model(baseline_model)\n",
    "add_last_layer(baseline_model, 2)"
   ]
  },
  {
   "cell_type": "code",
   "execution_count": null,
   "metadata": {},
   "outputs": [
    {
     "data": {
      "application/vnd.jupyter.widget-view+json": {
       "model_id": "8fac27cc8e4d43b997b0061a28b49227",
       "version_major": 2,
       "version_minor": 0
      },
      "text/plain": [
       "  0%|          | 0/16 [00:00<?, ?it/s]"
      ]
     },
     "metadata": {},
     "output_type": "display_data"
    },
    {
     "name": "stderr",
     "output_type": "stream",
     "text": [
      "/opt/anaconda3/lib/python3.11/site-packages/torch/nn/modules/module.py:1553: UserWarning: Implicit dimension choice for softmax has been deprecated. Change the call to include dim=X as an argument.\n",
      "  return self._call_impl(*args, **kwargs)\n"
     ]
    },
    {
     "name": "stdout",
     "output_type": "stream",
     "text": [
      "Validation Accuracy:  50.099998474121094 %\n"
     ]
    }
   ],
   "source": [
    "base_line_acc_no_retrain = validate_model(baseline_model, test_loader, device = 'mps')"
   ]
  },
  {
   "cell_type": "markdown",
   "metadata": {},
   "source": [
    "### Running the Iterative Pruning "
   ]
  },
  {
   "cell_type": "code",
   "execution_count": null,
   "metadata": {},
   "outputs": [
    {
     "name": "stderr",
     "output_type": "stream",
     "text": [
      "/var/folders/m7/jw62_vqn3rl5q_ltzp02d0fr0000gn/T/ipykernel_9321/2809645364.py:10: FutureWarning: You are using `torch.load` with `weights_only=False` (the current default value), which uses the default pickle module implicitly. It is possible to construct malicious pickle data which will execute arbitrary code during unpickling (See https://github.com/pytorch/pytorch/blob/main/SECURITY.md#untrusted-models for more details). In a future release, the default value for `weights_only` will be flipped to `True`. This limits the functions that could be executed during unpickling. Arbitrary objects will no longer be allowed to be loaded via this mode unless they are explicitly allowlisted by the user via `torch.serialization.add_safe_globals`. We recommend you start setting `weights_only=True` for any use case where you don't have full control of the loaded file. Please open an issue on GitHub for any issues related to this experimental feature.\n",
      "  model.load_state_dict(torch.load(model_path))\n"
     ]
    },
    {
     "name": "stdout",
     "output_type": "stream",
     "text": [
      "Evaluating before training...\n"
     ]
    },
    {
     "data": {
      "application/vnd.jupyter.widget-view+json": {
       "model_id": "1a3e49293df94e1694534c994369e3e0",
       "version_major": 2,
       "version_minor": 0
      },
      "text/plain": [
       "  0%|          | 0/16 [00:00<?, ?it/s]"
      ]
     },
     "metadata": {},
     "output_type": "display_data"
    },
    {
     "name": "stdout",
     "output_type": "stream",
     "text": [
      "Validation Accuracy:  83.19999694824219 %\n",
      "Top1 accuracy for prune amount without iterative pruning 10.0%: 83.19999694824219%\n",
      "Iteration 1/25 - Pruning 10% of weights\n",
      "Retraining after iteration 1...\n"
     ]
    },
    {
     "data": {
      "application/vnd.jupyter.widget-view+json": {
       "model_id": "2c14589b363b49cfa6e12de62fcc78bf",
       "version_major": 2,
       "version_minor": 0
      },
      "text/plain": [
       "  0%|          | 0/151 [00:00<?, ?it/s]"
      ]
     },
     "metadata": {},
     "output_type": "display_data"
    },
    {
     "name": "stdout",
     "output_type": "stream",
     "text": [
      "Epoch 1/5 - Loss: 0.5187, Accuracy: 79.88%\n"
     ]
    },
    {
     "data": {
      "application/vnd.jupyter.widget-view+json": {
       "model_id": "51df7869672947dfb64aeaf47be99c0b",
       "version_major": 2,
       "version_minor": 0
      },
      "text/plain": [
       "  0%|          | 0/151 [00:00<?, ?it/s]"
      ]
     },
     "metadata": {},
     "output_type": "display_data"
    },
    {
     "name": "stdout",
     "output_type": "stream",
     "text": [
      "Epoch 2/5 - Loss: 0.5171, Accuracy: 79.69%\n"
     ]
    },
    {
     "data": {
      "application/vnd.jupyter.widget-view+json": {
       "model_id": "323982598fe14a05a518a4e7107a6bcb",
       "version_major": 2,
       "version_minor": 0
      },
      "text/plain": [
       "  0%|          | 0/151 [00:00<?, ?it/s]"
      ]
     },
     "metadata": {},
     "output_type": "display_data"
    },
    {
     "name": "stdout",
     "output_type": "stream",
     "text": [
      "Epoch 3/5 - Loss: 0.5118, Accuracy: 80.41%\n"
     ]
    },
    {
     "data": {
      "application/vnd.jupyter.widget-view+json": {
       "model_id": "515126ea8d6b4c4abb70799587044cd2",
       "version_major": 2,
       "version_minor": 0
      },
      "text/plain": [
       "  0%|          | 0/151 [00:00<?, ?it/s]"
      ]
     },
     "metadata": {},
     "output_type": "display_data"
    },
    {
     "name": "stdout",
     "output_type": "stream",
     "text": [
      "Epoch 4/5 - Loss: 0.5071, Accuracy: 80.85%\n"
     ]
    },
    {
     "data": {
      "application/vnd.jupyter.widget-view+json": {
       "model_id": "870f89e4473c418d96f419ae3d5f8f76",
       "version_major": 2,
       "version_minor": 0
      },
      "text/plain": [
       "  0%|          | 0/151 [00:00<?, ?it/s]"
      ]
     },
     "metadata": {},
     "output_type": "display_data"
    },
    {
     "name": "stdout",
     "output_type": "stream",
     "text": [
      "Epoch 5/5 - Loss: 0.5077, Accuracy: 80.47%\n"
     ]
    },
    {
     "data": {
      "application/vnd.jupyter.widget-view+json": {
       "model_id": "23816d0f78da46198be6caf5533b65dc",
       "version_major": 2,
       "version_minor": 0
      },
      "text/plain": [
       "  0%|          | 0/16 [00:00<?, ?it/s]"
      ]
     },
     "metadata": {},
     "output_type": "display_data"
    },
    {
     "name": "stdout",
     "output_type": "stream",
     "text": [
      "Validation Accuracy:  83.9000015258789 %\n",
      "Validation Accuracy after 1 iteration: 83.9000015258789\n",
      "Iteration 2/25 - Pruning 10% of weights\n",
      "Retraining after iteration 2...\n"
     ]
    },
    {
     "data": {
      "application/vnd.jupyter.widget-view+json": {
       "model_id": "fb1c32cc552b4588b26286f584eb1aa3",
       "version_major": 2,
       "version_minor": 0
      },
      "text/plain": [
       "  0%|          | 0/151 [00:00<?, ?it/s]"
      ]
     },
     "metadata": {},
     "output_type": "display_data"
    },
    {
     "name": "stdout",
     "output_type": "stream",
     "text": [
      "Epoch 1/5 - Loss: 0.5054, Accuracy: 80.47%\n"
     ]
    },
    {
     "data": {
      "application/vnd.jupyter.widget-view+json": {
       "model_id": "97e4f1e0689e46bb8c582fe06ea0fdee",
       "version_major": 2,
       "version_minor": 0
      },
      "text/plain": [
       "  0%|          | 0/151 [00:00<?, ?it/s]"
      ]
     },
     "metadata": {},
     "output_type": "display_data"
    },
    {
     "name": "stdout",
     "output_type": "stream",
     "text": [
      "Epoch 2/5 - Loss: 0.5024, Accuracy: 81.23%\n"
     ]
    },
    {
     "data": {
      "application/vnd.jupyter.widget-view+json": {
       "model_id": "71f4a397d129441ab372da69787112a9",
       "version_major": 2,
       "version_minor": 0
      },
      "text/plain": [
       "  0%|          | 0/151 [00:00<?, ?it/s]"
      ]
     },
     "metadata": {},
     "output_type": "display_data"
    },
    {
     "name": "stdout",
     "output_type": "stream",
     "text": [
      "Epoch 3/5 - Loss: 0.4999, Accuracy: 81.27%\n"
     ]
    },
    {
     "data": {
      "application/vnd.jupyter.widget-view+json": {
       "model_id": "85ab3aab04244fd09043ba5d7ff93e5a",
       "version_major": 2,
       "version_minor": 0
      },
      "text/plain": [
       "  0%|          | 0/151 [00:00<?, ?it/s]"
      ]
     },
     "metadata": {},
     "output_type": "display_data"
    },
    {
     "name": "stdout",
     "output_type": "stream",
     "text": [
      "Epoch 4/5 - Loss: 0.5001, Accuracy: 81.27%\n"
     ]
    },
    {
     "data": {
      "application/vnd.jupyter.widget-view+json": {
       "model_id": "fb875f5030a44085a56e7f64225f2fc3",
       "version_major": 2,
       "version_minor": 0
      },
      "text/plain": [
       "  0%|          | 0/151 [00:00<?, ?it/s]"
      ]
     },
     "metadata": {},
     "output_type": "display_data"
    },
    {
     "name": "stdout",
     "output_type": "stream",
     "text": [
      "Epoch 5/5 - Loss: 0.5000, Accuracy: 81.05%\n"
     ]
    },
    {
     "data": {
      "application/vnd.jupyter.widget-view+json": {
       "model_id": "375f565b834a4da9b2d9e3f7d13fb8ce",
       "version_major": 2,
       "version_minor": 0
      },
      "text/plain": [
       "  0%|          | 0/16 [00:00<?, ?it/s]"
      ]
     },
     "metadata": {},
     "output_type": "display_data"
    },
    {
     "name": "stdout",
     "output_type": "stream",
     "text": [
      "Validation Accuracy:  84.5 %\n",
      "Validation Accuracy after 2 iteration: 84.5\n",
      "Iteration 3/25 - Pruning 10% of weights\n",
      "Retraining after iteration 3...\n"
     ]
    },
    {
     "data": {
      "application/vnd.jupyter.widget-view+json": {
       "model_id": "586f1073cd514b2ab5516c1bc8e77f94",
       "version_major": 2,
       "version_minor": 0
      },
      "text/plain": [
       "  0%|          | 0/151 [00:00<?, ?it/s]"
      ]
     },
     "metadata": {},
     "output_type": "display_data"
    },
    {
     "name": "stdout",
     "output_type": "stream",
     "text": [
      "Epoch 1/5 - Loss: 0.4953, Accuracy: 82.40%\n"
     ]
    },
    {
     "data": {
      "application/vnd.jupyter.widget-view+json": {
       "model_id": "32a95e6673e6499891460011a30388a1",
       "version_major": 2,
       "version_minor": 0
      },
      "text/plain": [
       "  0%|          | 0/151 [00:00<?, ?it/s]"
      ]
     },
     "metadata": {},
     "output_type": "display_data"
    },
    {
     "name": "stdout",
     "output_type": "stream",
     "text": [
      "Epoch 2/5 - Loss: 0.4946, Accuracy: 81.66%\n"
     ]
    },
    {
     "data": {
      "application/vnd.jupyter.widget-view+json": {
       "model_id": "5d24ca64fb394b5dab1708d9d1ed529f",
       "version_major": 2,
       "version_minor": 0
      },
      "text/plain": [
       "  0%|          | 0/151 [00:00<?, ?it/s]"
      ]
     },
     "metadata": {},
     "output_type": "display_data"
    },
    {
     "name": "stdout",
     "output_type": "stream",
     "text": [
      "Epoch 3/5 - Loss: 0.4905, Accuracy: 81.89%\n"
     ]
    },
    {
     "data": {
      "application/vnd.jupyter.widget-view+json": {
       "model_id": "b9490a107ea3426f89dbb3f59e05c406",
       "version_major": 2,
       "version_minor": 0
      },
      "text/plain": [
       "  0%|          | 0/151 [00:00<?, ?it/s]"
      ]
     },
     "metadata": {},
     "output_type": "display_data"
    },
    {
     "name": "stdout",
     "output_type": "stream",
     "text": [
      "Epoch 4/5 - Loss: 0.4898, Accuracy: 82.27%\n"
     ]
    },
    {
     "data": {
      "application/vnd.jupyter.widget-view+json": {
       "model_id": "304ed3691cad4082890a46c85b9c6b79",
       "version_major": 2,
       "version_minor": 0
      },
      "text/plain": [
       "  0%|          | 0/151 [00:00<?, ?it/s]"
      ]
     },
     "metadata": {},
     "output_type": "display_data"
    },
    {
     "name": "stdout",
     "output_type": "stream",
     "text": [
      "Epoch 5/5 - Loss: 0.4903, Accuracy: 81.72%\n"
     ]
    },
    {
     "data": {
      "application/vnd.jupyter.widget-view+json": {
       "model_id": "8456d065a0804a42a73e524bacd76281",
       "version_major": 2,
       "version_minor": 0
      },
      "text/plain": [
       "  0%|          | 0/16 [00:00<?, ?it/s]"
      ]
     },
     "metadata": {},
     "output_type": "display_data"
    },
    {
     "name": "stdout",
     "output_type": "stream",
     "text": [
      "Validation Accuracy:  85.4000015258789 %\n",
      "Validation Accuracy after 3 iteration: 85.4000015258789\n",
      "Iteration 4/25 - Pruning 10% of weights\n",
      "Retraining after iteration 4...\n"
     ]
    },
    {
     "data": {
      "application/vnd.jupyter.widget-view+json": {
       "model_id": "b2ff14031f0d403691e5eae88bc7f2a5",
       "version_major": 2,
       "version_minor": 0
      },
      "text/plain": [
       "  0%|          | 0/151 [00:00<?, ?it/s]"
      ]
     },
     "metadata": {},
     "output_type": "display_data"
    },
    {
     "name": "stdout",
     "output_type": "stream",
     "text": [
      "Epoch 1/5 - Loss: 0.4868, Accuracy: 82.30%\n"
     ]
    },
    {
     "data": {
      "application/vnd.jupyter.widget-view+json": {
       "model_id": "d71c49156079443d98774ab20a4cd93f",
       "version_major": 2,
       "version_minor": 0
      },
      "text/plain": [
       "  0%|          | 0/151 [00:00<?, ?it/s]"
      ]
     },
     "metadata": {},
     "output_type": "display_data"
    },
    {
     "name": "stdout",
     "output_type": "stream",
     "text": [
      "Epoch 2/5 - Loss: 0.4872, Accuracy: 82.67%\n"
     ]
    },
    {
     "data": {
      "application/vnd.jupyter.widget-view+json": {
       "model_id": "0448b8354c474b2299a96b48ab89f87e",
       "version_major": 2,
       "version_minor": 0
      },
      "text/plain": [
       "  0%|          | 0/151 [00:00<?, ?it/s]"
      ]
     },
     "metadata": {},
     "output_type": "display_data"
    },
    {
     "name": "stdout",
     "output_type": "stream",
     "text": [
      "Epoch 3/5 - Loss: 0.4854, Accuracy: 82.74%\n"
     ]
    },
    {
     "data": {
      "application/vnd.jupyter.widget-view+json": {
       "model_id": "a70996e826da48dca5f97553cc6490df",
       "version_major": 2,
       "version_minor": 0
      },
      "text/plain": [
       "  0%|          | 0/151 [00:00<?, ?it/s]"
      ]
     },
     "metadata": {},
     "output_type": "display_data"
    },
    {
     "name": "stdout",
     "output_type": "stream",
     "text": [
      "Epoch 4/5 - Loss: 0.4872, Accuracy: 82.45%\n"
     ]
    },
    {
     "data": {
      "application/vnd.jupyter.widget-view+json": {
       "model_id": "2d742dbc2b044d3b9c64dd11dbea2e34",
       "version_major": 2,
       "version_minor": 0
      },
      "text/plain": [
       "  0%|          | 0/151 [00:00<?, ?it/s]"
      ]
     },
     "metadata": {},
     "output_type": "display_data"
    },
    {
     "name": "stdout",
     "output_type": "stream",
     "text": [
      "Epoch 5/5 - Loss: 0.4834, Accuracy: 82.63%\n"
     ]
    },
    {
     "data": {
      "application/vnd.jupyter.widget-view+json": {
       "model_id": "8a423e8d216a44528f6ee09818e85b7e",
       "version_major": 2,
       "version_minor": 0
      },
      "text/plain": [
       "  0%|          | 0/16 [00:00<?, ?it/s]"
      ]
     },
     "metadata": {},
     "output_type": "display_data"
    },
    {
     "name": "stdout",
     "output_type": "stream",
     "text": [
      "Validation Accuracy:  86.4000015258789 %\n",
      "Validation Accuracy after 4 iteration: 86.4000015258789\n",
      "Iteration 5/25 - Pruning 10% of weights\n",
      "Retraining after iteration 5...\n"
     ]
    },
    {
     "data": {
      "application/vnd.jupyter.widget-view+json": {
       "model_id": "c8023257f4d1482abc441fcfc4285d62",
       "version_major": 2,
       "version_minor": 0
      },
      "text/plain": [
       "  0%|          | 0/151 [00:00<?, ?it/s]"
      ]
     },
     "metadata": {},
     "output_type": "display_data"
    },
    {
     "name": "stdout",
     "output_type": "stream",
     "text": [
      "Epoch 1/5 - Loss: 0.4872, Accuracy: 82.52%\n"
     ]
    },
    {
     "data": {
      "application/vnd.jupyter.widget-view+json": {
       "model_id": "98b09e43a2aa44aaa883938d5b14d9c8",
       "version_major": 2,
       "version_minor": 0
      },
      "text/plain": [
       "  0%|          | 0/151 [00:00<?, ?it/s]"
      ]
     },
     "metadata": {},
     "output_type": "display_data"
    },
    {
     "name": "stdout",
     "output_type": "stream",
     "text": [
      "Epoch 2/5 - Loss: 0.4869, Accuracy: 82.54%\n"
     ]
    },
    {
     "data": {
      "application/vnd.jupyter.widget-view+json": {
       "model_id": "215a4e1168864c4eb32325ed1d15389b",
       "version_major": 2,
       "version_minor": 0
      },
      "text/plain": [
       "  0%|          | 0/151 [00:00<?, ?it/s]"
      ]
     },
     "metadata": {},
     "output_type": "display_data"
    },
    {
     "name": "stdout",
     "output_type": "stream",
     "text": [
      "Epoch 3/5 - Loss: 0.4836, Accuracy: 82.81%\n"
     ]
    },
    {
     "data": {
      "application/vnd.jupyter.widget-view+json": {
       "model_id": "ae38fdb6f49540e8997d98a711bf7efd",
       "version_major": 2,
       "version_minor": 0
      },
      "text/plain": [
       "  0%|          | 0/151 [00:00<?, ?it/s]"
      ]
     },
     "metadata": {},
     "output_type": "display_data"
    },
    {
     "name": "stdout",
     "output_type": "stream",
     "text": [
      "Epoch 4/5 - Loss: 0.4814, Accuracy: 82.98%\n"
     ]
    },
    {
     "data": {
      "application/vnd.jupyter.widget-view+json": {
       "model_id": "db52236261f048b884cb3cdafdb96acd",
       "version_major": 2,
       "version_minor": 0
      },
      "text/plain": [
       "  0%|          | 0/151 [00:00<?, ?it/s]"
      ]
     },
     "metadata": {},
     "output_type": "display_data"
    },
    {
     "name": "stdout",
     "output_type": "stream",
     "text": [
      "Epoch 5/5 - Loss: 0.4814, Accuracy: 82.84%\n"
     ]
    },
    {
     "data": {
      "application/vnd.jupyter.widget-view+json": {
       "model_id": "49b9b08dc420472d8712b8d6789ac64f",
       "version_major": 2,
       "version_minor": 0
      },
      "text/plain": [
       "  0%|          | 0/16 [00:00<?, ?it/s]"
      ]
     },
     "metadata": {},
     "output_type": "display_data"
    },
    {
     "name": "stdout",
     "output_type": "stream",
     "text": [
      "Validation Accuracy:  85.9000015258789 %\n",
      "Validation Accuracy after 5 iteration: 85.9000015258789\n",
      "Iteration 6/25 - Pruning 10% of weights\n",
      "Retraining after iteration 6...\n"
     ]
    },
    {
     "data": {
      "application/vnd.jupyter.widget-view+json": {
       "model_id": "0ad5012637d54c06ace3a74d19671f10",
       "version_major": 2,
       "version_minor": 0
      },
      "text/plain": [
       "  0%|          | 0/151 [00:00<?, ?it/s]"
      ]
     },
     "metadata": {},
     "output_type": "display_data"
    },
    {
     "name": "stdout",
     "output_type": "stream",
     "text": [
      "Epoch 1/5 - Loss: 0.4888, Accuracy: 82.18%\n"
     ]
    },
    {
     "data": {
      "application/vnd.jupyter.widget-view+json": {
       "model_id": "f112566e77f94d2b8b239041b16e236f",
       "version_major": 2,
       "version_minor": 0
      },
      "text/plain": [
       "  0%|          | 0/151 [00:00<?, ?it/s]"
      ]
     },
     "metadata": {},
     "output_type": "display_data"
    },
    {
     "name": "stdout",
     "output_type": "stream",
     "text": [
      "Epoch 2/5 - Loss: 0.4872, Accuracy: 82.35%\n"
     ]
    },
    {
     "data": {
      "application/vnd.jupyter.widget-view+json": {
       "model_id": "0c68d8ea996c4dd4be3791221fda6f3e",
       "version_major": 2,
       "version_minor": 0
      },
      "text/plain": [
       "  0%|          | 0/151 [00:00<?, ?it/s]"
      ]
     },
     "metadata": {},
     "output_type": "display_data"
    },
    {
     "name": "stdout",
     "output_type": "stream",
     "text": [
      "Epoch 3/5 - Loss: 0.4846, Accuracy: 82.37%\n"
     ]
    },
    {
     "data": {
      "application/vnd.jupyter.widget-view+json": {
       "model_id": "2c5d0d8c2f8a44d1bd73ea5c53715f31",
       "version_major": 2,
       "version_minor": 0
      },
      "text/plain": [
       "  0%|          | 0/151 [00:00<?, ?it/s]"
      ]
     },
     "metadata": {},
     "output_type": "display_data"
    },
    {
     "name": "stdout",
     "output_type": "stream",
     "text": [
      "Epoch 4/5 - Loss: 0.4834, Accuracy: 82.77%\n"
     ]
    },
    {
     "data": {
      "application/vnd.jupyter.widget-view+json": {
       "model_id": "91d6f08f43ed4d3180856381b40bfda6",
       "version_major": 2,
       "version_minor": 0
      },
      "text/plain": [
       "  0%|          | 0/151 [00:00<?, ?it/s]"
      ]
     },
     "metadata": {},
     "output_type": "display_data"
    },
    {
     "name": "stdout",
     "output_type": "stream",
     "text": [
      "Epoch 5/5 - Loss: 0.4820, Accuracy: 82.89%\n"
     ]
    },
    {
     "data": {
      "application/vnd.jupyter.widget-view+json": {
       "model_id": "7016e9eb7e72435f901bc38f6f4693fb",
       "version_major": 2,
       "version_minor": 0
      },
      "text/plain": [
       "  0%|          | 0/16 [00:00<?, ?it/s]"
      ]
     },
     "metadata": {},
     "output_type": "display_data"
    },
    {
     "name": "stdout",
     "output_type": "stream",
     "text": [
      "Validation Accuracy:  86.4000015258789 %\n",
      "Validation Accuracy after 6 iteration: 86.4000015258789\n",
      "Iteration 7/25 - Pruning 10% of weights\n",
      "Retraining after iteration 7...\n"
     ]
    },
    {
     "data": {
      "application/vnd.jupyter.widget-view+json": {
       "model_id": "c3595efd5ae14deb9624e5b86262c63e",
       "version_major": 2,
       "version_minor": 0
      },
      "text/plain": [
       "  0%|          | 0/151 [00:00<?, ?it/s]"
      ]
     },
     "metadata": {},
     "output_type": "display_data"
    },
    {
     "name": "stdout",
     "output_type": "stream",
     "text": [
      "Epoch 1/5 - Loss: 0.4912, Accuracy: 81.70%\n"
     ]
    },
    {
     "data": {
      "application/vnd.jupyter.widget-view+json": {
       "model_id": "b676f24437a64aafb9f40e9bfb1a3c27",
       "version_major": 2,
       "version_minor": 0
      },
      "text/plain": [
       "  0%|          | 0/151 [00:00<?, ?it/s]"
      ]
     },
     "metadata": {},
     "output_type": "display_data"
    },
    {
     "name": "stdout",
     "output_type": "stream",
     "text": [
      "Epoch 2/5 - Loss: 0.4881, Accuracy: 82.09%\n"
     ]
    },
    {
     "data": {
      "application/vnd.jupyter.widget-view+json": {
       "model_id": "33d98e3733264c8192624b13754348c6",
       "version_major": 2,
       "version_minor": 0
      },
      "text/plain": [
       "  0%|          | 0/151 [00:00<?, ?it/s]"
      ]
     },
     "metadata": {},
     "output_type": "display_data"
    },
    {
     "name": "stdout",
     "output_type": "stream",
     "text": [
      "Epoch 3/5 - Loss: 0.4856, Accuracy: 82.29%\n"
     ]
    },
    {
     "data": {
      "application/vnd.jupyter.widget-view+json": {
       "model_id": "b5657aca852d4884bc5fa6d6d76c4e3b",
       "version_major": 2,
       "version_minor": 0
      },
      "text/plain": [
       "  0%|          | 0/151 [00:00<?, ?it/s]"
      ]
     },
     "metadata": {},
     "output_type": "display_data"
    },
    {
     "name": "stdout",
     "output_type": "stream",
     "text": [
      "Epoch 4/5 - Loss: 0.4876, Accuracy: 82.10%\n"
     ]
    },
    {
     "data": {
      "application/vnd.jupyter.widget-view+json": {
       "model_id": "e9fac73bf40b466fa2679f34b023dafb",
       "version_major": 2,
       "version_minor": 0
      },
      "text/plain": [
       "  0%|          | 0/151 [00:00<?, ?it/s]"
      ]
     },
     "metadata": {},
     "output_type": "display_data"
    },
    {
     "name": "stdout",
     "output_type": "stream",
     "text": [
      "Epoch 5/5 - Loss: 0.4832, Accuracy: 82.51%\n"
     ]
    },
    {
     "data": {
      "application/vnd.jupyter.widget-view+json": {
       "model_id": "879333fd96054e25b5dfa95b73b2625f",
       "version_major": 2,
       "version_minor": 0
      },
      "text/plain": [
       "  0%|          | 0/16 [00:00<?, ?it/s]"
      ]
     },
     "metadata": {},
     "output_type": "display_data"
    },
    {
     "name": "stdout",
     "output_type": "stream",
     "text": [
      "Validation Accuracy:  85.80000305175781 %\n",
      "Validation Accuracy after 7 iteration: 85.80000305175781\n",
      "Iteration 8/25 - Pruning 10% of weights\n",
      "Retraining after iteration 8...\n"
     ]
    },
    {
     "data": {
      "application/vnd.jupyter.widget-view+json": {
       "model_id": "ccb34a40323046088c570950937f64c0",
       "version_major": 2,
       "version_minor": 0
      },
      "text/plain": [
       "  0%|          | 0/151 [00:00<?, ?it/s]"
      ]
     },
     "metadata": {},
     "output_type": "display_data"
    },
    {
     "name": "stdout",
     "output_type": "stream",
     "text": [
      "Epoch 1/5 - Loss: 0.4926, Accuracy: 81.41%\n"
     ]
    },
    {
     "data": {
      "application/vnd.jupyter.widget-view+json": {
       "model_id": "3ec02563ac2243c3b02cc24fd6d3b88d",
       "version_major": 2,
       "version_minor": 0
      },
      "text/plain": [
       "  0%|          | 0/151 [00:00<?, ?it/s]"
      ]
     },
     "metadata": {},
     "output_type": "display_data"
    },
    {
     "name": "stdout",
     "output_type": "stream",
     "text": [
      "Epoch 2/5 - Loss: 0.4952, Accuracy: 81.37%\n"
     ]
    },
    {
     "data": {
      "application/vnd.jupyter.widget-view+json": {
       "model_id": "665e47f18eb44578b557353fca4a2723",
       "version_major": 2,
       "version_minor": 0
      },
      "text/plain": [
       "  0%|          | 0/151 [00:00<?, ?it/s]"
      ]
     },
     "metadata": {},
     "output_type": "display_data"
    },
    {
     "name": "stdout",
     "output_type": "stream",
     "text": [
      "Epoch 3/5 - Loss: 0.4948, Accuracy: 81.05%\n"
     ]
    },
    {
     "data": {
      "application/vnd.jupyter.widget-view+json": {
       "model_id": "9360fa31c8254cf690f9c04d57c64e01",
       "version_major": 2,
       "version_minor": 0
      },
      "text/plain": [
       "  0%|          | 0/151 [00:00<?, ?it/s]"
      ]
     },
     "metadata": {},
     "output_type": "display_data"
    },
    {
     "name": "stdout",
     "output_type": "stream",
     "text": [
      "Epoch 4/5 - Loss: 0.4893, Accuracy: 82.04%\n"
     ]
    },
    {
     "data": {
      "application/vnd.jupyter.widget-view+json": {
       "model_id": "1de6f767e82a4014a01d78af0bd383e4",
       "version_major": 2,
       "version_minor": 0
      },
      "text/plain": [
       "  0%|          | 0/151 [00:00<?, ?it/s]"
      ]
     },
     "metadata": {},
     "output_type": "display_data"
    },
    {
     "name": "stdout",
     "output_type": "stream",
     "text": [
      "Epoch 5/5 - Loss: 0.4920, Accuracy: 81.78%\n"
     ]
    },
    {
     "data": {
      "application/vnd.jupyter.widget-view+json": {
       "model_id": "c8498a3596c648208d32b5a8b69c98e2",
       "version_major": 2,
       "version_minor": 0
      },
      "text/plain": [
       "  0%|          | 0/16 [00:00<?, ?it/s]"
      ]
     },
     "metadata": {},
     "output_type": "display_data"
    },
    {
     "name": "stdout",
     "output_type": "stream",
     "text": [
      "Validation Accuracy:  86.0999984741211 %\n",
      "Validation Accuracy after 8 iteration: 86.0999984741211\n",
      "Iteration 9/25 - Pruning 10% of weights\n",
      "Retraining after iteration 9...\n"
     ]
    },
    {
     "data": {
      "application/vnd.jupyter.widget-view+json": {
       "model_id": "949252961d2c41e0a8339e5f2d3185f8",
       "version_major": 2,
       "version_minor": 0
      },
      "text/plain": [
       "  0%|          | 0/151 [00:00<?, ?it/s]"
      ]
     },
     "metadata": {},
     "output_type": "display_data"
    },
    {
     "name": "stdout",
     "output_type": "stream",
     "text": [
      "Epoch 1/5 - Loss: 0.4983, Accuracy: 80.87%\n"
     ]
    },
    {
     "data": {
      "application/vnd.jupyter.widget-view+json": {
       "model_id": "1f52bf71816745a3aea74297b85b2cf1",
       "version_major": 2,
       "version_minor": 0
      },
      "text/plain": [
       "  0%|          | 0/151 [00:00<?, ?it/s]"
      ]
     },
     "metadata": {},
     "output_type": "display_data"
    },
    {
     "name": "stdout",
     "output_type": "stream",
     "text": [
      "Epoch 2/5 - Loss: 0.4963, Accuracy: 81.04%\n"
     ]
    },
    {
     "data": {
      "application/vnd.jupyter.widget-view+json": {
       "model_id": "9cca3cbe8d654a93bd75d1d0cf66d09d",
       "version_major": 2,
       "version_minor": 0
      },
      "text/plain": [
       "  0%|          | 0/151 [00:00<?, ?it/s]"
      ]
     },
     "metadata": {},
     "output_type": "display_data"
    },
    {
     "name": "stdout",
     "output_type": "stream",
     "text": [
      "Epoch 3/5 - Loss: 0.4973, Accuracy: 80.83%\n"
     ]
    },
    {
     "data": {
      "application/vnd.jupyter.widget-view+json": {
       "model_id": "ce3306775d984a7db921dafea0cd2637",
       "version_major": 2,
       "version_minor": 0
      },
      "text/plain": [
       "  0%|          | 0/151 [00:00<?, ?it/s]"
      ]
     },
     "metadata": {},
     "output_type": "display_data"
    },
    {
     "name": "stdout",
     "output_type": "stream",
     "text": [
      "Epoch 4/5 - Loss: 0.4958, Accuracy: 81.22%\n"
     ]
    },
    {
     "data": {
      "application/vnd.jupyter.widget-view+json": {
       "model_id": "bc5377b475b14222a70b10c0c8636f58",
       "version_major": 2,
       "version_minor": 0
      },
      "text/plain": [
       "  0%|          | 0/151 [00:00<?, ?it/s]"
      ]
     },
     "metadata": {},
     "output_type": "display_data"
    },
    {
     "name": "stdout",
     "output_type": "stream",
     "text": [
      "Epoch 5/5 - Loss: 0.4955, Accuracy: 81.16%\n"
     ]
    },
    {
     "data": {
      "application/vnd.jupyter.widget-view+json": {
       "model_id": "c7e421e143904bbb8e10666a42cf4384",
       "version_major": 2,
       "version_minor": 0
      },
      "text/plain": [
       "  0%|          | 0/16 [00:00<?, ?it/s]"
      ]
     },
     "metadata": {},
     "output_type": "display_data"
    },
    {
     "name": "stdout",
     "output_type": "stream",
     "text": [
      "Validation Accuracy:  85.69999694824219 %\n",
      "Validation Accuracy after 9 iteration: 85.69999694824219\n",
      "Iteration 10/25 - Pruning 10% of weights\n",
      "Retraining after iteration 10...\n"
     ]
    },
    {
     "data": {
      "application/vnd.jupyter.widget-view+json": {
       "model_id": "4ab52b34872e454893228479a4569dbc",
       "version_major": 2,
       "version_minor": 0
      },
      "text/plain": [
       "  0%|          | 0/151 [00:00<?, ?it/s]"
      ]
     },
     "metadata": {},
     "output_type": "display_data"
    },
    {
     "name": "stdout",
     "output_type": "stream",
     "text": [
      "Epoch 1/5 - Loss: 0.4998, Accuracy: 80.88%\n"
     ]
    },
    {
     "data": {
      "application/vnd.jupyter.widget-view+json": {
       "model_id": "1f33bd87b66d40ddabbcbf78fcae5227",
       "version_major": 2,
       "version_minor": 0
      },
      "text/plain": [
       "  0%|          | 0/151 [00:00<?, ?it/s]"
      ]
     },
     "metadata": {},
     "output_type": "display_data"
    },
    {
     "name": "stdout",
     "output_type": "stream",
     "text": [
      "Epoch 2/5 - Loss: 0.4961, Accuracy: 81.19%\n"
     ]
    },
    {
     "data": {
      "application/vnd.jupyter.widget-view+json": {
       "model_id": "dbe1097a40894ee2a13d779fc72c2305",
       "version_major": 2,
       "version_minor": 0
      },
      "text/plain": [
       "  0%|          | 0/151 [00:00<?, ?it/s]"
      ]
     },
     "metadata": {},
     "output_type": "display_data"
    },
    {
     "name": "stdout",
     "output_type": "stream",
     "text": [
      "Epoch 3/5 - Loss: 0.4967, Accuracy: 81.22%\n"
     ]
    },
    {
     "data": {
      "application/vnd.jupyter.widget-view+json": {
       "model_id": "2b40d75c06204e249f3c4d2ec6a2ed3f",
       "version_major": 2,
       "version_minor": 0
      },
      "text/plain": [
       "  0%|          | 0/151 [00:00<?, ?it/s]"
      ]
     },
     "metadata": {},
     "output_type": "display_data"
    },
    {
     "name": "stdout",
     "output_type": "stream",
     "text": [
      "Epoch 4/5 - Loss: 0.4981, Accuracy: 81.01%\n"
     ]
    },
    {
     "data": {
      "application/vnd.jupyter.widget-view+json": {
       "model_id": "0f3514640d804e2795780d308cbcea79",
       "version_major": 2,
       "version_minor": 0
      },
      "text/plain": [
       "  0%|          | 0/151 [00:00<?, ?it/s]"
      ]
     },
     "metadata": {},
     "output_type": "display_data"
    },
    {
     "name": "stdout",
     "output_type": "stream",
     "text": [
      "Epoch 5/5 - Loss: 0.4966, Accuracy: 80.91%\n"
     ]
    },
    {
     "data": {
      "application/vnd.jupyter.widget-view+json": {
       "model_id": "42e6eac85f534249989e13faf957f3e4",
       "version_major": 2,
       "version_minor": 0
      },
      "text/plain": [
       "  0%|          | 0/16 [00:00<?, ?it/s]"
      ]
     },
     "metadata": {},
     "output_type": "display_data"
    },
    {
     "name": "stdout",
     "output_type": "stream",
     "text": [
      "Validation Accuracy:  86.5 %\n",
      "Validation Accuracy after 10 iteration: 86.5\n",
      "Iteration 11/25 - Pruning 10% of weights\n"
     ]
    },
    {
     "name": "stderr",
     "output_type": "stream",
     "text": [
      "2024-11-26 09:47:33.100 python[9321:421688] Error creating directory \n",
      " The volume ‚ÄúMacintosh HD‚Äù is out of space. You can‚Äôt save the file ‚Äúmpsgraph-9321-2024-11-26_09_47_33-1534275444‚Äù because the volume ‚ÄúMacintosh HD‚Äù is out of space.\n",
      "2024-11-26 09:47:33.122 python[9321:421688] Error creating directory \n",
      " The volume ‚ÄúMacintosh HD‚Äù is out of space. You can‚Äôt save the file ‚Äúmpsgraph-9321-2024-11-26_09_47_33-949347194‚Äù because the volume ‚ÄúMacintosh HD‚Äù is out of space.\n",
      "2024-11-26 09:47:33.138 python[9321:421688] Error creating directory \n",
      " The volume ‚ÄúMacintosh HD‚Äù is out of space. You can‚Äôt save the file ‚Äúmpsgraph-9321-2024-11-26_09_47_33-967088825‚Äù because the volume ‚ÄúMacintosh HD‚Äù is out of space.\n",
      "2024-11-26 09:47:33.142 python[9321:421688] Error creating directory \n",
      " The volume ‚ÄúMacintosh HD‚Äù is out of space. You can‚Äôt save the file ‚Äúmpsgraph-9321-2024-11-26_09_47_33-1212482335‚Äù because the volume ‚ÄúMacintosh HD‚Äù is out of space.\n",
      "2024-11-26 09:47:33.155 python[9321:421688] Error creating directory \n",
      " The volume ‚ÄúMacintosh HD‚Äù is out of space. You can‚Äôt save the file ‚Äúmpsgraph-9321-2024-11-26_09_47_33-586312037‚Äù because the volume ‚ÄúMacintosh HD‚Äù is out of space.\n",
      "2024-11-26 09:47:33.160 python[9321:421688] Error creating directory \n",
      " The volume ‚ÄúMacintosh HD‚Äù is out of space. You can‚Äôt save the file ‚Äúmpsgraph-9321-2024-11-26_09_47_33-4003053287‚Äù because the volume ‚ÄúMacintosh HD‚Äù is out of space.\n",
      "2024-11-26 09:47:33.172 python[9321:421688] Error creating directory \n",
      " The volume ‚ÄúMacintosh HD‚Äù is out of space. You can‚Äôt save the file ‚Äúmpsgraph-9321-2024-11-26_09_47_33-3717925177‚Äù because the volume ‚ÄúMacintosh HD‚Äù is out of space.\n",
      "2024-11-26 09:47:33.176 python[9321:421688] Error creating directory \n",
      " The volume ‚ÄúMacintosh HD‚Äù is out of space. You can‚Äôt save the file ‚Äúmpsgraph-9321-2024-11-26_09_47_33-2818010473‚Äù because the volume ‚ÄúMacintosh HD‚Äù is out of space.\n",
      "2024-11-26 09:47:33.186 python[9321:421688] Error creating directory \n",
      " The volume ‚ÄúMacintosh HD‚Äù is out of space. You can‚Äôt save the file ‚Äúmpsgraph-9321-2024-11-26_09_47_33-794413416‚Äù because the volume ‚ÄúMacintosh HD‚Äù is out of space.\n",
      "2024-11-26 09:47:33.189 python[9321:421688] Error creating directory \n",
      " The volume ‚ÄúMacintosh HD‚Äù is out of space. You can‚Äôt save the file ‚Äúmpsgraph-9321-2024-11-26_09_47_33-3780376629‚Äù because the volume ‚ÄúMacintosh HD‚Äù is out of space.\n",
      "2024-11-26 09:47:33.201 python[9321:421688] Error creating directory \n",
      " The volume ‚ÄúMacintosh HD‚Äù is out of space. You can‚Äôt save the file ‚Äúmpsgraph-9321-2024-11-26_09_47_33-2198709672‚Äù because the volume ‚ÄúMacintosh HD‚Äù is out of space.\n",
      "2024-11-26 09:47:33.204 python[9321:421688] Error creating directory \n",
      " The volume ‚ÄúMacintosh HD‚Äù is out of space. You can‚Äôt save the file ‚Äúmpsgraph-9321-2024-11-26_09_47_33-1785299669‚Äù because the volume ‚ÄúMacintosh HD‚Äù is out of space.\n",
      "2024-11-26 09:47:33.225 python[9321:421688] Error creating directory \n",
      " The volume ‚ÄúMacintosh HD‚Äù is out of space. You can‚Äôt save the file ‚Äúmpsgraph-9321-2024-11-26_09_47_33-2619140173‚Äù because the volume ‚ÄúMacintosh HD‚Äù is out of space.\n",
      "2024-11-26 09:47:33.229 python[9321:421688] Error creating directory \n",
      " The volume ‚ÄúMacintosh HD‚Äù is out of space. You can‚Äôt save the file ‚Äúmpsgraph-9321-2024-11-26_09_47_33-184376272‚Äù because the volume ‚ÄúMacintosh HD‚Äù is out of space.\n",
      "2024-11-26 09:47:33.246 python[9321:421688] Error creating directory \n",
      " The volume ‚ÄúMacintosh HD‚Äù is out of space. You can‚Äôt save the file ‚Äúmpsgraph-9321-2024-11-26_09_47_33-3287757741‚Äù because the volume ‚ÄúMacintosh HD‚Äù is out of space.\n",
      "2024-11-26 09:47:33.251 python[9321:421688] Error creating directory \n",
      " The volume ‚ÄúMacintosh HD‚Äù is out of space. You can‚Äôt save the file ‚Äúmpsgraph-9321-2024-11-26_09_47_33-1390696224‚Äù because the volume ‚ÄúMacintosh HD‚Äù is out of space.\n",
      "2024-11-26 09:47:34.205 python[9321:421688] Error creating directory \n",
      " The volume ‚ÄúMacintosh HD‚Äù is out of space. You can‚Äôt save the file ‚Äúmpsgraph-9321-2024-11-26_09_47_34-1857364543‚Äù because the volume ‚ÄúMacintosh HD‚Äù is out of space.\n",
      "2024-11-26 09:47:34.210 python[9321:421688] Error creating directory \n",
      " The volume ‚ÄúMacintosh HD‚Äù is out of space. You can‚Äôt save the file ‚Äúmpsgraph-9321-2024-11-26_09_47_34-311340456‚Äù because the volume ‚ÄúMacintosh HD‚Äù is out of space.\n",
      "2024-11-26 09:47:34.914 python[9321:421688] Error creating directory \n",
      " The volume ‚ÄúMacintosh HD‚Äù is out of space. You can‚Äôt save the file ‚Äúmpsgraph-9321-2024-11-26_09_47_34-1480948906‚Äù because the volume ‚ÄúMacintosh HD‚Äù is out of space.\n",
      "2024-11-26 09:47:34.919 python[9321:421688] Error creating directory \n",
      " The volume ‚ÄúMacintosh HD‚Äù is out of space. You can‚Äôt save the file ‚Äúmpsgraph-9321-2024-11-26_09_47_34-151514736‚Äù because the volume ‚ÄúMacintosh HD‚Äù is out of space.\n",
      "2024-11-26 09:47:35.022 python[9321:421688] Error creating directory \n",
      " The volume ‚ÄúMacintosh HD‚Äù is out of space. You can‚Äôt save the file ‚Äúmpsgraph-9321-2024-11-26_09_47_35-1871362257‚Äù because the volume ‚ÄúMacintosh HD‚Äù is out of space.\n",
      "2024-11-26 09:47:35.027 python[9321:421688] Error creating directory \n",
      " The volume ‚ÄúMacintosh HD‚Äù is out of space. You can‚Äôt save the file ‚Äúmpsgraph-9321-2024-11-26_09_47_35-1152127153‚Äù because the volume ‚ÄúMacintosh HD‚Äù is out of space.\n"
     ]
    },
    {
     "name": "stdout",
     "output_type": "stream",
     "text": [
      "Retraining after iteration 11...\n"
     ]
    },
    {
     "data": {
      "application/vnd.jupyter.widget-view+json": {
       "model_id": "e4442a62e5ba4abfb3e7e48b7a44d4b6",
       "version_major": 2,
       "version_minor": 0
      },
      "text/plain": [
       "  0%|          | 0/151 [00:00<?, ?it/s]"
      ]
     },
     "metadata": {},
     "output_type": "display_data"
    },
    {
     "name": "stdout",
     "output_type": "stream",
     "text": [
      "Epoch 1/5 - Loss: 0.5113, Accuracy: 79.89%\n"
     ]
    },
    {
     "data": {
      "application/vnd.jupyter.widget-view+json": {
       "model_id": "5a8e69643d084a89a97e5ad63680f113",
       "version_major": 2,
       "version_minor": 0
      },
      "text/plain": [
       "  0%|          | 0/151 [00:00<?, ?it/s]"
      ]
     },
     "metadata": {},
     "output_type": "display_data"
    },
    {
     "name": "stdout",
     "output_type": "stream",
     "text": [
      "Epoch 2/5 - Loss: 0.5121, Accuracy: 79.63%\n"
     ]
    },
    {
     "data": {
      "application/vnd.jupyter.widget-view+json": {
       "model_id": "425138f5e75441ed91bbb996c0f91bf8",
       "version_major": 2,
       "version_minor": 0
      },
      "text/plain": [
       "  0%|          | 0/151 [00:00<?, ?it/s]"
      ]
     },
     "metadata": {},
     "output_type": "display_data"
    },
    {
     "name": "stdout",
     "output_type": "stream",
     "text": [
      "Epoch 3/5 - Loss: 0.5046, Accuracy: 80.43%\n"
     ]
    },
    {
     "data": {
      "application/vnd.jupyter.widget-view+json": {
       "model_id": "79dffcd73058497c9c6def1e47403562",
       "version_major": 2,
       "version_minor": 0
      },
      "text/plain": [
       "  0%|          | 0/151 [00:00<?, ?it/s]"
      ]
     },
     "metadata": {},
     "output_type": "display_data"
    },
    {
     "name": "stdout",
     "output_type": "stream",
     "text": [
      "Epoch 4/5 - Loss: 0.5052, Accuracy: 80.34%\n"
     ]
    },
    {
     "data": {
      "application/vnd.jupyter.widget-view+json": {
       "model_id": "d33569c98026423fa7980bc935e4b7a2",
       "version_major": 2,
       "version_minor": 0
      },
      "text/plain": [
       "  0%|          | 0/151 [00:00<?, ?it/s]"
      ]
     },
     "metadata": {},
     "output_type": "display_data"
    },
    {
     "name": "stdout",
     "output_type": "stream",
     "text": [
      "Epoch 5/5 - Loss: 0.5088, Accuracy: 79.67%\n"
     ]
    },
    {
     "data": {
      "application/vnd.jupyter.widget-view+json": {
       "model_id": "b57e26df6b3244178554bdb4909cabd1",
       "version_major": 2,
       "version_minor": 0
      },
      "text/plain": [
       "  0%|          | 0/16 [00:00<?, ?it/s]"
      ]
     },
     "metadata": {},
     "output_type": "display_data"
    },
    {
     "name": "stdout",
     "output_type": "stream",
     "text": [
      "Validation Accuracy:  86.30000305175781 %\n",
      "Validation Accuracy after 11 iteration: 86.30000305175781\n",
      "Iteration 12/25 - Pruning 10% of weights\n"
     ]
    },
    {
     "name": "stderr",
     "output_type": "stream",
     "text": [
      "2024-11-26 09:52:19.116 python[9321:421688] Error creating directory \n",
      " The volume ‚ÄúMacintosh HD‚Äù is out of space. You can‚Äôt save the file ‚Äúmpsgraph-9321-2024-11-26_09_52_19-1635302677‚Äù because the volume ‚ÄúMacintosh HD‚Äù is out of space.\n",
      "2024-11-26 09:52:19.120 python[9321:421688] Error creating directory \n",
      " The volume ‚ÄúMacintosh HD‚Äù is out of space. You can‚Äôt save the file ‚Äúmpsgraph-9321-2024-11-26_09_52_19-1989519853‚Äù because the volume ‚ÄúMacintosh HD‚Äù is out of space.\n",
      "2024-11-26 09:52:19.130 python[9321:421688] Error creating directory \n",
      " The volume ‚ÄúMacintosh HD‚Äù is out of space. You can‚Äôt save the file ‚Äúmpsgraph-9321-2024-11-26_09_52_19-9225953‚Äù because the volume ‚ÄúMacintosh HD‚Äù is out of space.\n",
      "2024-11-26 09:52:19.134 python[9321:421688] Error creating directory \n",
      " The volume ‚ÄúMacintosh HD‚Äù is out of space. You can‚Äôt save the file ‚Äúmpsgraph-9321-2024-11-26_09_52_19-2732232889‚Äù because the volume ‚ÄúMacintosh HD‚Äù is out of space.\n",
      "2024-11-26 09:52:19.142 python[9321:421688] Error creating directory \n",
      " The volume ‚ÄúMacintosh HD‚Äù is out of space. You can‚Äôt save the file ‚Äúmpsgraph-9321-2024-11-26_09_52_19-2879633946‚Äù because the volume ‚ÄúMacintosh HD‚Äù is out of space.\n",
      "2024-11-26 09:52:19.145 python[9321:421688] Error creating directory \n",
      " The volume ‚ÄúMacintosh HD‚Äù is out of space. You can‚Äôt save the file ‚Äúmpsgraph-9321-2024-11-26_09_52_19-196125752‚Äù because the volume ‚ÄúMacintosh HD‚Äù is out of space.\n",
      "2024-11-26 09:52:19.154 python[9321:421688] Error creating directory \n",
      " The volume ‚ÄúMacintosh HD‚Äù is out of space. You can‚Äôt save the file ‚Äúmpsgraph-9321-2024-11-26_09_52_19-2054741259‚Äù because the volume ‚ÄúMacintosh HD‚Äù is out of space.\n",
      "2024-11-26 09:52:19.158 python[9321:421688] Error creating directory \n",
      " The volume ‚ÄúMacintosh HD‚Äù is out of space. You can‚Äôt save the file ‚Äúmpsgraph-9321-2024-11-26_09_52_19-460008242‚Äù because the volume ‚ÄúMacintosh HD‚Äù is out of space.\n",
      "2024-11-26 09:52:19.167 python[9321:421688] Error creating directory \n",
      " The volume ‚ÄúMacintosh HD‚Äù is out of space. You can‚Äôt save the file ‚Äúmpsgraph-9321-2024-11-26_09_52_19-884746076‚Äù because the volume ‚ÄúMacintosh HD‚Äù is out of space.\n",
      "2024-11-26 09:52:19.171 python[9321:421688] Error creating directory \n",
      " The volume ‚ÄúMacintosh HD‚Äù is out of space. You can‚Äôt save the file ‚Äúmpsgraph-9321-2024-11-26_09_52_19-926101423‚Äù because the volume ‚ÄúMacintosh HD‚Äù is out of space.\n",
      "2024-11-26 09:52:19.180 python[9321:421688] Error creating directory \n",
      " The volume ‚ÄúMacintosh HD‚Äù is out of space. You can‚Äôt save the file ‚Äúmpsgraph-9321-2024-11-26_09_52_19-692178820‚Äù because the volume ‚ÄúMacintosh HD‚Äù is out of space.\n",
      "2024-11-26 09:52:19.184 python[9321:421688] Error creating directory \n",
      " The volume ‚ÄúMacintosh HD‚Äù is out of space. You can‚Äôt save the file ‚Äúmpsgraph-9321-2024-11-26_09_52_19-3706844853‚Äù because the volume ‚ÄúMacintosh HD‚Äù is out of space.\n",
      "2024-11-26 09:52:19.202 python[9321:421688] Error creating directory \n",
      " The volume ‚ÄúMacintosh HD‚Äù is out of space. You can‚Äôt save the file ‚Äúmpsgraph-9321-2024-11-26_09_52_19-696367623‚Äù because the volume ‚ÄúMacintosh HD‚Äù is out of space.\n",
      "2024-11-26 09:52:19.205 python[9321:421688] Error creating directory \n",
      " The volume ‚ÄúMacintosh HD‚Äù is out of space. You can‚Äôt save the file ‚Äúmpsgraph-9321-2024-11-26_09_52_19-3786246010‚Äù because the volume ‚ÄúMacintosh HD‚Äù is out of space.\n",
      "2024-11-26 09:52:19.221 python[9321:421688] Error creating directory \n",
      " The volume ‚ÄúMacintosh HD‚Äù is out of space. You can‚Äôt save the file ‚Äúmpsgraph-9321-2024-11-26_09_52_19-245684879‚Äù because the volume ‚ÄúMacintosh HD‚Äù is out of space.\n",
      "2024-11-26 09:52:19.225 python[9321:421688] Error creating directory \n",
      " The volume ‚ÄúMacintosh HD‚Äù is out of space. You can‚Äôt save the file ‚Äúmpsgraph-9321-2024-11-26_09_52_19-186089918‚Äù because the volume ‚ÄúMacintosh HD‚Äù is out of space.\n",
      "2024-11-26 09:52:20.175 python[9321:421688] Error creating directory \n",
      " The volume ‚ÄúMacintosh HD‚Äù is out of space. You can‚Äôt save the file ‚Äúmpsgraph-9321-2024-11-26_09_52_20-2124937102‚Äù because the volume ‚ÄúMacintosh HD‚Äù is out of space.\n",
      "2024-11-26 09:52:20.185 python[9321:421688] Error creating directory \n",
      " The volume ‚ÄúMacintosh HD‚Äù is out of space. You can‚Äôt save the file ‚Äúmpsgraph-9321-2024-11-26_09_52_20-287133923‚Äù because the volume ‚ÄúMacintosh HD‚Äù is out of space.\n",
      "2024-11-26 09:52:20.920 python[9321:421688] Error creating directory \n",
      " The volume ‚ÄúMacintosh HD‚Äù is out of space. You can‚Äôt save the file ‚Äúmpsgraph-9321-2024-11-26_09_52_20-2119860661‚Äù because the volume ‚ÄúMacintosh HD‚Äù is out of space.\n",
      "2024-11-26 09:52:20.924 python[9321:421688] Error creating directory \n",
      " The volume ‚ÄúMacintosh HD‚Äù is out of space. You can‚Äôt save the file ‚Äúmpsgraph-9321-2024-11-26_09_52_20-4104105397‚Äù because the volume ‚ÄúMacintosh HD‚Äù is out of space.\n",
      "2024-11-26 09:52:21.028 python[9321:421688] Error creating directory \n",
      " The volume ‚ÄúMacintosh HD‚Äù is out of space. You can‚Äôt save the file ‚Äúmpsgraph-9321-2024-11-26_09_52_21-685840029‚Äù because the volume ‚ÄúMacintosh HD‚Äù is out of space.\n",
      "2024-11-26 09:52:21.035 python[9321:421688] Error creating directory \n",
      " The volume ‚ÄúMacintosh HD‚Äù is out of space. You can‚Äôt save the file ‚Äúmpsgraph-9321-2024-11-26_09_52_21-506698398‚Äù because the volume ‚ÄúMacintosh HD‚Äù is out of space.\n"
     ]
    },
    {
     "name": "stdout",
     "output_type": "stream",
     "text": [
      "Retraining after iteration 12...\n"
     ]
    },
    {
     "data": {
      "application/vnd.jupyter.widget-view+json": {
       "model_id": "fd7bf3cb144440a38172dbb332d2efab",
       "version_major": 2,
       "version_minor": 0
      },
      "text/plain": [
       "  0%|          | 0/151 [00:00<?, ?it/s]"
      ]
     },
     "metadata": {},
     "output_type": "display_data"
    },
    {
     "name": "stdout",
     "output_type": "stream",
     "text": [
      "Epoch 1/5 - Loss: 0.5164, Accuracy: 79.19%\n"
     ]
    },
    {
     "data": {
      "application/vnd.jupyter.widget-view+json": {
       "model_id": "e6af0ca999db463e8d71e53784d022f2",
       "version_major": 2,
       "version_minor": 0
      },
      "text/plain": [
       "  0%|          | 0/151 [00:00<?, ?it/s]"
      ]
     },
     "metadata": {},
     "output_type": "display_data"
    },
    {
     "name": "stdout",
     "output_type": "stream",
     "text": [
      "Epoch 2/5 - Loss: 0.5157, Accuracy: 79.45%\n"
     ]
    },
    {
     "data": {
      "application/vnd.jupyter.widget-view+json": {
       "model_id": "690cc067ebdc4233aeeb9fc488258530",
       "version_major": 2,
       "version_minor": 0
      },
      "text/plain": [
       "  0%|          | 0/151 [00:00<?, ?it/s]"
      ]
     },
     "metadata": {},
     "output_type": "display_data"
    },
    {
     "name": "stdout",
     "output_type": "stream",
     "text": [
      "Epoch 3/5 - Loss: 0.5126, Accuracy: 79.48%\n"
     ]
    },
    {
     "data": {
      "application/vnd.jupyter.widget-view+json": {
       "model_id": "0700ba3deefb48d0a58264a625270c13",
       "version_major": 2,
       "version_minor": 0
      },
      "text/plain": [
       "  0%|          | 0/151 [00:00<?, ?it/s]"
      ]
     },
     "metadata": {},
     "output_type": "display_data"
    },
    {
     "name": "stdout",
     "output_type": "stream",
     "text": [
      "Epoch 4/5 - Loss: 0.5115, Accuracy: 79.68%\n"
     ]
    },
    {
     "data": {
      "application/vnd.jupyter.widget-view+json": {
       "model_id": "07c36786f2fa47d5bddc55b44306583b",
       "version_major": 2,
       "version_minor": 0
      },
      "text/plain": [
       "  0%|          | 0/151 [00:00<?, ?it/s]"
      ]
     },
     "metadata": {},
     "output_type": "display_data"
    },
    {
     "name": "stdout",
     "output_type": "stream",
     "text": [
      "Epoch 5/5 - Loss: 0.5121, Accuracy: 79.36%\n"
     ]
    },
    {
     "data": {
      "application/vnd.jupyter.widget-view+json": {
       "model_id": "48c96db513d741cfa262f1302f111814",
       "version_major": 2,
       "version_minor": 0
      },
      "text/plain": [
       "  0%|          | 0/16 [00:00<?, ?it/s]"
      ]
     },
     "metadata": {},
     "output_type": "display_data"
    },
    {
     "name": "stdout",
     "output_type": "stream",
     "text": [
      "Validation Accuracy:  84.0 %\n",
      "Validation Accuracy after 12 iteration: 84.0\n",
      "Iteration 13/25 - Pruning 10% of weights\n"
     ]
    },
    {
     "name": "stderr",
     "output_type": "stream",
     "text": [
      "2024-11-26 09:57:06.997 python[9321:421688] Error creating directory \n",
      " The volume ‚ÄúMacintosh HD‚Äù is out of space. You can‚Äôt save the file ‚Äúmpsgraph-9321-2024-11-26_09_57_06-2200164010‚Äù because the volume ‚ÄúMacintosh HD‚Äù is out of space.\n",
      "2024-11-26 09:57:07.001 python[9321:421688] Error creating directory \n",
      " The volume ‚ÄúMacintosh HD‚Äù is out of space. You can‚Äôt save the file ‚Äúmpsgraph-9321-2024-11-26_09_57_07-715590990‚Äù because the volume ‚ÄúMacintosh HD‚Äù is out of space.\n",
      "2024-11-26 09:57:07.011 python[9321:421688] Error creating directory \n",
      " The volume ‚ÄúMacintosh HD‚Äù is out of space. You can‚Äôt save the file ‚Äúmpsgraph-9321-2024-11-26_09_57_07-1010701623‚Äù because the volume ‚ÄúMacintosh HD‚Äù is out of space.\n",
      "2024-11-26 09:57:07.015 python[9321:421688] Error creating directory \n",
      " The volume ‚ÄúMacintosh HD‚Äù is out of space. You can‚Äôt save the file ‚Äúmpsgraph-9321-2024-11-26_09_57_07-3862227280‚Äù because the volume ‚ÄúMacintosh HD‚Äù is out of space.\n",
      "2024-11-26 09:57:07.023 python[9321:421688] Error creating directory \n",
      " The volume ‚ÄúMacintosh HD‚Äù is out of space. You can‚Äôt save the file ‚Äúmpsgraph-9321-2024-11-26_09_57_07-3358854805‚Äù because the volume ‚ÄúMacintosh HD‚Äù is out of space.\n",
      "2024-11-26 09:57:07.027 python[9321:421688] Error creating directory \n",
      " The volume ‚ÄúMacintosh HD‚Äù is out of space. You can‚Äôt save the file ‚Äúmpsgraph-9321-2024-11-26_09_57_07-584752355‚Äù because the volume ‚ÄúMacintosh HD‚Äù is out of space.\n",
      "2024-11-26 09:57:07.036 python[9321:421688] Error creating directory \n",
      " The volume ‚ÄúMacintosh HD‚Äù is out of space. You can‚Äôt save the file ‚Äúmpsgraph-9321-2024-11-26_09_57_07-2722175301‚Äù because the volume ‚ÄúMacintosh HD‚Äù is out of space.\n",
      "2024-11-26 09:57:07.040 python[9321:421688] Error creating directory \n",
      " The volume ‚ÄúMacintosh HD‚Äù is out of space. You can‚Äôt save the file ‚Äúmpsgraph-9321-2024-11-26_09_57_07-1085845966‚Äù because the volume ‚ÄúMacintosh HD‚Äù is out of space.\n",
      "2024-11-26 09:57:07.048 python[9321:421688] Error creating directory \n",
      " The volume ‚ÄúMacintosh HD‚Äù is out of space. You can‚Äôt save the file ‚Äúmpsgraph-9321-2024-11-26_09_57_07-2242434251‚Äù because the volume ‚ÄúMacintosh HD‚Äù is out of space.\n",
      "2024-11-26 09:57:07.052 python[9321:421688] Error creating directory \n",
      " The volume ‚ÄúMacintosh HD‚Äù is out of space. You can‚Äôt save the file ‚Äúmpsgraph-9321-2024-11-26_09_57_07-3752029830‚Äù because the volume ‚ÄúMacintosh HD‚Äù is out of space.\n",
      "2024-11-26 09:57:07.062 python[9321:421688] Error creating directory \n",
      " The volume ‚ÄúMacintosh HD‚Äù is out of space. You can‚Äôt save the file ‚Äúmpsgraph-9321-2024-11-26_09_57_07-3562044775‚Äù because the volume ‚ÄúMacintosh HD‚Äù is out of space.\n",
      "2024-11-26 09:57:07.066 python[9321:421688] Error creating directory \n",
      " The volume ‚ÄúMacintosh HD‚Äù is out of space. You can‚Äôt save the file ‚Äúmpsgraph-9321-2024-11-26_09_57_07-2616244872‚Äù because the volume ‚ÄúMacintosh HD‚Äù is out of space.\n",
      "2024-11-26 09:57:07.083 python[9321:421688] Error creating directory \n",
      " The volume ‚ÄúMacintosh HD‚Äù is out of space. You can‚Äôt save the file ‚Äúmpsgraph-9321-2024-11-26_09_57_07-1264491491‚Äù because the volume ‚ÄúMacintosh HD‚Äù is out of space.\n",
      "2024-11-26 09:57:07.087 python[9321:421688] Error creating directory \n",
      " The volume ‚ÄúMacintosh HD‚Äù is out of space. You can‚Äôt save the file ‚Äúmpsgraph-9321-2024-11-26_09_57_07-2877973107‚Äù because the volume ‚ÄúMacintosh HD‚Äù is out of space.\n",
      "2024-11-26 09:57:07.103 python[9321:421688] Error creating directory \n",
      " The volume ‚ÄúMacintosh HD‚Äù is out of space. You can‚Äôt save the file ‚Äúmpsgraph-9321-2024-11-26_09_57_07-1302071615‚Äù because the volume ‚ÄúMacintosh HD‚Äù is out of space.\n",
      "2024-11-26 09:57:07.106 python[9321:421688] Error creating directory \n",
      " The volume ‚ÄúMacintosh HD‚Äù is out of space. You can‚Äôt save the file ‚Äúmpsgraph-9321-2024-11-26_09_57_07-3813478428‚Äù because the volume ‚ÄúMacintosh HD‚Äù is out of space.\n",
      "2024-11-26 09:57:07.981 python[9321:421688] Error creating directory \n",
      " The volume ‚ÄúMacintosh HD‚Äù is out of space. You can‚Äôt save the file ‚Äúmpsgraph-9321-2024-11-26_09_57_07-2263273261‚Äù because the volume ‚ÄúMacintosh HD‚Äù is out of space.\n",
      "2024-11-26 09:57:07.989 python[9321:421688] Error creating directory \n",
      " The volume ‚ÄúMacintosh HD‚Äù is out of space. You can‚Äôt save the file ‚Äúmpsgraph-9321-2024-11-26_09_57_07-3028342117‚Äù because the volume ‚ÄúMacintosh HD‚Äù is out of space.\n",
      "2024-11-26 09:57:08.258 python[9321:421688] Error creating directory \n",
      " The volume ‚ÄúMacintosh HD‚Äù is out of space. You can‚Äôt save the file ‚Äúmpsgraph-9321-2024-11-26_09_57_08-2224435987‚Äù because the volume ‚ÄúMacintosh HD‚Äù is out of space.\n",
      "2024-11-26 09:57:08.267 python[9321:421688] Error creating directory \n",
      " The volume ‚ÄúMacintosh HD‚Äù is out of space. You can‚Äôt save the file ‚Äúmpsgraph-9321-2024-11-26_09_57_08-3226074471‚Äù because the volume ‚ÄúMacintosh HD‚Äù is out of space.\n",
      "2024-11-26 09:57:08.367 python[9321:421688] Error creating directory \n",
      " The volume ‚ÄúMacintosh HD‚Äù is out of space. You can‚Äôt save the file ‚Äúmpsgraph-9321-2024-11-26_09_57_08-4042464457‚Äù because the volume ‚ÄúMacintosh HD‚Äù is out of space.\n",
      "2024-11-26 09:57:08.374 python[9321:421688] Error creating directory \n",
      " The volume ‚ÄúMacintosh HD‚Äù is out of space. You can‚Äôt save the file ‚Äúmpsgraph-9321-2024-11-26_09_57_08-3671653379‚Äù because the volume ‚ÄúMacintosh HD‚Äù is out of space.\n"
     ]
    },
    {
     "name": "stdout",
     "output_type": "stream",
     "text": [
      "Retraining after iteration 13...\n"
     ]
    },
    {
     "data": {
      "application/vnd.jupyter.widget-view+json": {
       "model_id": "44a88dd1f9ce41c98d8123d6abd0c8ae",
       "version_major": 2,
       "version_minor": 0
      },
      "text/plain": [
       "  0%|          | 0/151 [00:00<?, ?it/s]"
      ]
     },
     "metadata": {},
     "output_type": "display_data"
    },
    {
     "name": "stdout",
     "output_type": "stream",
     "text": [
      "Epoch 1/5 - Loss: 0.5235, Accuracy: 78.27%\n"
     ]
    },
    {
     "data": {
      "application/vnd.jupyter.widget-view+json": {
       "model_id": "18c4f681333341158d0be74444072b0e",
       "version_major": 2,
       "version_minor": 0
      },
      "text/plain": [
       "  0%|          | 0/151 [00:00<?, ?it/s]"
      ]
     },
     "metadata": {},
     "output_type": "display_data"
    },
    {
     "name": "stdout",
     "output_type": "stream",
     "text": [
      "Epoch 2/5 - Loss: 0.5164, Accuracy: 79.15%\n"
     ]
    },
    {
     "data": {
      "application/vnd.jupyter.widget-view+json": {
       "model_id": "075a9df7a557405bb3bfbfa1f6c8f90b",
       "version_major": 2,
       "version_minor": 0
      },
      "text/plain": [
       "  0%|          | 0/151 [00:00<?, ?it/s]"
      ]
     },
     "metadata": {},
     "output_type": "display_data"
    },
    {
     "name": "stdout",
     "output_type": "stream",
     "text": [
      "Epoch 3/5 - Loss: 0.5219, Accuracy: 78.75%\n"
     ]
    },
    {
     "data": {
      "application/vnd.jupyter.widget-view+json": {
       "model_id": "0d8ddb0a5a574df8bac926f87611a36c",
       "version_major": 2,
       "version_minor": 0
      },
      "text/plain": [
       "  0%|          | 0/151 [00:00<?, ?it/s]"
      ]
     },
     "metadata": {},
     "output_type": "display_data"
    },
    {
     "name": "stdout",
     "output_type": "stream",
     "text": [
      "Epoch 4/5 - Loss: 0.5173, Accuracy: 78.96%\n"
     ]
    },
    {
     "data": {
      "application/vnd.jupyter.widget-view+json": {
       "model_id": "7bcf59b94c194e2095590ca49e3a5360",
       "version_major": 2,
       "version_minor": 0
      },
      "text/plain": [
       "  0%|          | 0/151 [00:00<?, ?it/s]"
      ]
     },
     "metadata": {},
     "output_type": "display_data"
    },
    {
     "name": "stdout",
     "output_type": "stream",
     "text": [
      "Epoch 5/5 - Loss: 0.5165, Accuracy: 78.80%\n"
     ]
    },
    {
     "data": {
      "application/vnd.jupyter.widget-view+json": {
       "model_id": "e5b2a48f3e1a46daac9a9b628712bc06",
       "version_major": 2,
       "version_minor": 0
      },
      "text/plain": [
       "  0%|          | 0/16 [00:00<?, ?it/s]"
      ]
     },
     "metadata": {},
     "output_type": "display_data"
    },
    {
     "name": "stdout",
     "output_type": "stream",
     "text": [
      "Validation Accuracy:  84.30000305175781 %\n",
      "Validation Accuracy after 13 iteration: 84.30000305175781\n",
      "Iteration 14/25 - Pruning 10% of weights\n"
     ]
    },
    {
     "name": "stderr",
     "output_type": "stream",
     "text": [
      "2024-11-26 10:01:55.167 python[9321:421688] Error creating directory \n",
      " The volume ‚ÄúMacintosh HD‚Äù is out of space. You can‚Äôt save the file ‚Äúmpsgraph-9321-2024-11-26_10_01_55-2547531024‚Äù because the volume ‚ÄúMacintosh HD‚Äù is out of space.\n",
      "2024-11-26 10:01:55.174 python[9321:421688] Error creating directory \n",
      " The volume ‚ÄúMacintosh HD‚Äù is out of space. You can‚Äôt save the file ‚Äúmpsgraph-9321-2024-11-26_10_01_55-4028755914‚Äù because the volume ‚ÄúMacintosh HD‚Äù is out of space.\n",
      "2024-11-26 10:01:55.186 python[9321:421688] Error creating directory \n",
      " The volume ‚ÄúMacintosh HD‚Äù is out of space. You can‚Äôt save the file ‚Äúmpsgraph-9321-2024-11-26_10_01_55-1829489969‚Äù because the volume ‚ÄúMacintosh HD‚Äù is out of space.\n",
      "2024-11-26 10:01:55.190 python[9321:421688] Error creating directory \n",
      " The volume ‚ÄúMacintosh HD‚Äù is out of space. You can‚Äôt save the file ‚Äúmpsgraph-9321-2024-11-26_10_01_55-1059997820‚Äù because the volume ‚ÄúMacintosh HD‚Äù is out of space.\n",
      "2024-11-26 10:01:55.199 python[9321:421688] Error creating directory \n",
      " The volume ‚ÄúMacintosh HD‚Äù is out of space. You can‚Äôt save the file ‚Äúmpsgraph-9321-2024-11-26_10_01_55-649795843‚Äù because the volume ‚ÄúMacintosh HD‚Äù is out of space.\n",
      "2024-11-26 10:01:55.203 python[9321:421688] Error creating directory \n",
      " The volume ‚ÄúMacintosh HD‚Äù is out of space. You can‚Äôt save the file ‚Äúmpsgraph-9321-2024-11-26_10_01_55-4151789010‚Äù because the volume ‚ÄúMacintosh HD‚Äù is out of space.\n",
      "2024-11-26 10:01:55.212 python[9321:421688] Error creating directory \n",
      " The volume ‚ÄúMacintosh HD‚Äù is out of space. You can‚Äôt save the file ‚Äúmpsgraph-9321-2024-11-26_10_01_55-2674487373‚Äù because the volume ‚ÄúMacintosh HD‚Äù is out of space.\n",
      "2024-11-26 10:01:55.216 python[9321:421688] Error creating directory \n",
      " The volume ‚ÄúMacintosh HD‚Äù is out of space. You can‚Äôt save the file ‚Äúmpsgraph-9321-2024-11-26_10_01_55-1141236690‚Äù because the volume ‚ÄúMacintosh HD‚Äù is out of space.\n",
      "2024-11-26 10:01:55.225 python[9321:421688] Error creating directory \n",
      " The volume ‚ÄúMacintosh HD‚Äù is out of space. You can‚Äôt save the file ‚Äúmpsgraph-9321-2024-11-26_10_01_55-877337272‚Äù because the volume ‚ÄúMacintosh HD‚Äù is out of space.\n",
      "2024-11-26 10:01:55.229 python[9321:421688] Error creating directory \n",
      " The volume ‚ÄúMacintosh HD‚Äù is out of space. You can‚Äôt save the file ‚Äúmpsgraph-9321-2024-11-26_10_01_55-2073977251‚Äù because the volume ‚ÄúMacintosh HD‚Äù is out of space.\n",
      "2024-11-26 10:01:55.239 python[9321:421688] Error creating directory \n",
      " The volume ‚ÄúMacintosh HD‚Äù is out of space. You can‚Äôt save the file ‚Äúmpsgraph-9321-2024-11-26_10_01_55-1704854627‚Äù because the volume ‚ÄúMacintosh HD‚Äù is out of space.\n",
      "2024-11-26 10:01:55.242 python[9321:421688] Error creating directory \n",
      " The volume ‚ÄúMacintosh HD‚Äù is out of space. You can‚Äôt save the file ‚Äúmpsgraph-9321-2024-11-26_10_01_55-999273680‚Äù because the volume ‚ÄúMacintosh HD‚Äù is out of space.\n",
      "2024-11-26 10:01:55.260 python[9321:421688] Error creating directory \n",
      " The volume ‚ÄúMacintosh HD‚Äù is out of space. You can‚Äôt save the file ‚Äúmpsgraph-9321-2024-11-26_10_01_55-730511211‚Äù because the volume ‚ÄúMacintosh HD‚Äù is out of space.\n",
      "2024-11-26 10:01:55.264 python[9321:421688] Error creating directory \n",
      " The volume ‚ÄúMacintosh HD‚Äù is out of space. You can‚Äôt save the file ‚Äúmpsgraph-9321-2024-11-26_10_01_55-400106714‚Äù because the volume ‚ÄúMacintosh HD‚Äù is out of space.\n",
      "2024-11-26 10:01:55.279 python[9321:421688] Error creating directory \n",
      " The volume ‚ÄúMacintosh HD‚Äù is out of space. You can‚Äôt save the file ‚Äúmpsgraph-9321-2024-11-26_10_01_55-2572365706‚Äù because the volume ‚ÄúMacintosh HD‚Äù is out of space.\n",
      "2024-11-26 10:01:55.282 python[9321:421688] Error creating directory \n",
      " The volume ‚ÄúMacintosh HD‚Äù is out of space. You can‚Äôt save the file ‚Äúmpsgraph-9321-2024-11-26_10_01_55-3411590261‚Äù because the volume ‚ÄúMacintosh HD‚Äù is out of space.\n",
      "2024-11-26 10:01:56.060 python[9321:421688] Error creating directory \n",
      " The volume ‚ÄúMacintosh HD‚Äù is out of space. You can‚Äôt save the file ‚Äúmpsgraph-9321-2024-11-26_10_01_56-2086145976‚Äù because the volume ‚ÄúMacintosh HD‚Äù is out of space.\n",
      "2024-11-26 10:01:56.068 python[9321:421688] Error creating directory \n",
      " The volume ‚ÄúMacintosh HD‚Äù is out of space. You can‚Äôt save the file ‚Äúmpsgraph-9321-2024-11-26_10_01_56-1317620936‚Äù because the volume ‚ÄúMacintosh HD‚Äù is out of space.\n",
      "2024-11-26 10:01:56.667 python[9321:421688] Error creating directory \n",
      " The volume ‚ÄúMacintosh HD‚Äù is out of space. You can‚Äôt save the file ‚Äúmpsgraph-9321-2024-11-26_10_01_56-1953779410‚Äù because the volume ‚ÄúMacintosh HD‚Äù is out of space.\n",
      "2024-11-26 10:01:56.673 python[9321:421688] Error creating directory \n",
      " The volume ‚ÄúMacintosh HD‚Äù is out of space. You can‚Äôt save the file ‚Äúmpsgraph-9321-2024-11-26_10_01_56-2482178407‚Äù because the volume ‚ÄúMacintosh HD‚Äù is out of space.\n",
      "2024-11-26 10:01:56.759 python[9321:421688] Error creating directory \n",
      " The volume ‚ÄúMacintosh HD‚Äù is out of space. You can‚Äôt save the file ‚Äúmpsgraph-9321-2024-11-26_10_01_56-3387245723‚Äù because the volume ‚ÄúMacintosh HD‚Äù is out of space.\n",
      "2024-11-26 10:01:56.765 python[9321:421688] Error creating directory \n",
      " The volume ‚ÄúMacintosh HD‚Äù is out of space. You can‚Äôt save the file ‚Äúmpsgraph-9321-2024-11-26_10_01_56-3035337885‚Äù because the volume ‚ÄúMacintosh HD‚Äù is out of space.\n"
     ]
    },
    {
     "name": "stdout",
     "output_type": "stream",
     "text": [
      "Retraining after iteration 14...\n"
     ]
    },
    {
     "data": {
      "application/vnd.jupyter.widget-view+json": {
       "model_id": "02d2615838c44faf817c9ba70cb096b6",
       "version_major": 2,
       "version_minor": 0
      },
      "text/plain": [
       "  0%|          | 0/151 [00:00<?, ?it/s]"
      ]
     },
     "metadata": {},
     "output_type": "display_data"
    },
    {
     "name": "stdout",
     "output_type": "stream",
     "text": [
      "Epoch 1/5 - Loss: 0.5345, Accuracy: 77.32%\n"
     ]
    },
    {
     "data": {
      "application/vnd.jupyter.widget-view+json": {
       "model_id": "7b423c437b734a789ae15a59d3ecc817",
       "version_major": 2,
       "version_minor": 0
      },
      "text/plain": [
       "  0%|          | 0/151 [00:00<?, ?it/s]"
      ]
     },
     "metadata": {},
     "output_type": "display_data"
    },
    {
     "name": "stdout",
     "output_type": "stream",
     "text": [
      "Epoch 2/5 - Loss: 0.5303, Accuracy: 77.66%\n"
     ]
    },
    {
     "data": {
      "application/vnd.jupyter.widget-view+json": {
       "model_id": "7dd52af0af824e189e3f72fb5de42c11",
       "version_major": 2,
       "version_minor": 0
      },
      "text/plain": [
       "  0%|          | 0/151 [00:00<?, ?it/s]"
      ]
     },
     "metadata": {},
     "output_type": "display_data"
    },
    {
     "name": "stdout",
     "output_type": "stream",
     "text": [
      "Epoch 3/5 - Loss: 0.5309, Accuracy: 77.70%\n"
     ]
    },
    {
     "data": {
      "application/vnd.jupyter.widget-view+json": {
       "model_id": "4b350d4a8a2c4ed092706c4ad5399945",
       "version_major": 2,
       "version_minor": 0
      },
      "text/plain": [
       "  0%|          | 0/151 [00:00<?, ?it/s]"
      ]
     },
     "metadata": {},
     "output_type": "display_data"
    },
    {
     "name": "stdout",
     "output_type": "stream",
     "text": [
      "Epoch 4/5 - Loss: 0.5323, Accuracy: 77.77%\n"
     ]
    },
    {
     "data": {
      "application/vnd.jupyter.widget-view+json": {
       "model_id": "ac659eb9f72f41e1b038f4ca9ddee6bb",
       "version_major": 2,
       "version_minor": 0
      },
      "text/plain": [
       "  0%|          | 0/151 [00:00<?, ?it/s]"
      ]
     },
     "metadata": {},
     "output_type": "display_data"
    },
    {
     "name": "stdout",
     "output_type": "stream",
     "text": [
      "Epoch 5/5 - Loss: 0.5303, Accuracy: 77.71%\n"
     ]
    },
    {
     "data": {
      "application/vnd.jupyter.widget-view+json": {
       "model_id": "d701cf42c30a404fac4a36cf4f6f782f",
       "version_major": 2,
       "version_minor": 0
      },
      "text/plain": [
       "  0%|          | 0/16 [00:00<?, ?it/s]"
      ]
     },
     "metadata": {},
     "output_type": "display_data"
    },
    {
     "name": "stdout",
     "output_type": "stream",
     "text": [
      "Validation Accuracy:  84.19999694824219 %\n",
      "Validation Accuracy after 14 iteration: 84.19999694824219\n",
      "Iteration 15/25 - Pruning 10% of weights\n"
     ]
    },
    {
     "name": "stderr",
     "output_type": "stream",
     "text": [
      "2024-11-26 10:06:41.629 python[9321:421688] Error creating directory \n",
      " The volume ‚ÄúMacintosh HD‚Äù is out of space. You can‚Äôt save the file ‚Äúmpsgraph-9321-2024-11-26_10_06_41-1725094794‚Äù because the volume ‚ÄúMacintosh HD‚Äù is out of space.\n",
      "2024-11-26 10:06:41.634 python[9321:421688] Error creating directory \n",
      " The volume ‚ÄúMacintosh HD‚Äù is out of space. You can‚Äôt save the file ‚Äúmpsgraph-9321-2024-11-26_10_06_41-3026875205‚Äù because the volume ‚ÄúMacintosh HD‚Äù is out of space.\n",
      "2024-11-26 10:06:41.645 python[9321:421688] Error creating directory \n",
      " The volume ‚ÄúMacintosh HD‚Äù is out of space. You can‚Äôt save the file ‚Äúmpsgraph-9321-2024-11-26_10_06_41-1744670959‚Äù because the volume ‚ÄúMacintosh HD‚Äù is out of space.\n",
      "2024-11-26 10:06:41.649 python[9321:421688] Error creating directory \n",
      " The volume ‚ÄúMacintosh HD‚Äù is out of space. You can‚Äôt save the file ‚Äúmpsgraph-9321-2024-11-26_10_06_41-2888552398‚Äù because the volume ‚ÄúMacintosh HD‚Äù is out of space.\n",
      "2024-11-26 10:06:41.657 python[9321:421688] Error creating directory \n",
      " The volume ‚ÄúMacintosh HD‚Äù is out of space. You can‚Äôt save the file ‚Äúmpsgraph-9321-2024-11-26_10_06_41-1575908991‚Äù because the volume ‚ÄúMacintosh HD‚Äù is out of space.\n",
      "2024-11-26 10:06:41.661 python[9321:421688] Error creating directory \n",
      " The volume ‚ÄúMacintosh HD‚Äù is out of space. You can‚Äôt save the file ‚Äúmpsgraph-9321-2024-11-26_10_06_41-1759795245‚Äù because the volume ‚ÄúMacintosh HD‚Äù is out of space.\n",
      "2024-11-26 10:06:41.670 python[9321:421688] Error creating directory \n",
      " The volume ‚ÄúMacintosh HD‚Äù is out of space. You can‚Äôt save the file ‚Äúmpsgraph-9321-2024-11-26_10_06_41-469779852‚Äù because the volume ‚ÄúMacintosh HD‚Äù is out of space.\n",
      "2024-11-26 10:06:41.673 python[9321:421688] Error creating directory \n",
      " The volume ‚ÄúMacintosh HD‚Äù is out of space. You can‚Äôt save the file ‚Äúmpsgraph-9321-2024-11-26_10_06_41-1914546944‚Äù because the volume ‚ÄúMacintosh HD‚Äù is out of space.\n",
      "2024-11-26 10:06:41.682 python[9321:421688] Error creating directory \n",
      " The volume ‚ÄúMacintosh HD‚Äù is out of space. You can‚Äôt save the file ‚Äúmpsgraph-9321-2024-11-26_10_06_41-2749853825‚Äù because the volume ‚ÄúMacintosh HD‚Äù is out of space.\n",
      "2024-11-26 10:06:41.686 python[9321:421688] Error creating directory \n",
      " The volume ‚ÄúMacintosh HD‚Äù is out of space. You can‚Äôt save the file ‚Äúmpsgraph-9321-2024-11-26_10_06_41-3829978394‚Äù because the volume ‚ÄúMacintosh HD‚Äù is out of space.\n",
      "2024-11-26 10:06:41.696 python[9321:421688] Error creating directory \n",
      " The volume ‚ÄúMacintosh HD‚Äù is out of space. You can‚Äôt save the file ‚Äúmpsgraph-9321-2024-11-26_10_06_41-443403228‚Äù because the volume ‚ÄúMacintosh HD‚Äù is out of space.\n",
      "2024-11-26 10:06:41.700 python[9321:421688] Error creating directory \n",
      " The volume ‚ÄúMacintosh HD‚Äù is out of space. You can‚Äôt save the file ‚Äúmpsgraph-9321-2024-11-26_10_06_41-631040695‚Äù because the volume ‚ÄúMacintosh HD‚Äù is out of space.\n",
      "2024-11-26 10:06:41.716 python[9321:421688] Error creating directory \n",
      " The volume ‚ÄúMacintosh HD‚Äù is out of space. You can‚Äôt save the file ‚Äúmpsgraph-9321-2024-11-26_10_06_41-1396418076‚Äù because the volume ‚ÄúMacintosh HD‚Äù is out of space.\n",
      "2024-11-26 10:06:41.720 python[9321:421688] Error creating directory \n",
      " The volume ‚ÄúMacintosh HD‚Äù is out of space. You can‚Äôt save the file ‚Äúmpsgraph-9321-2024-11-26_10_06_41-1401366349‚Äù because the volume ‚ÄúMacintosh HD‚Äù is out of space.\n",
      "2024-11-26 10:06:41.735 python[9321:421688] Error creating directory \n",
      " The volume ‚ÄúMacintosh HD‚Äù is out of space. You can‚Äôt save the file ‚Äúmpsgraph-9321-2024-11-26_10_06_41-441606192‚Äù because the volume ‚ÄúMacintosh HD‚Äù is out of space.\n",
      "2024-11-26 10:06:41.741 python[9321:421688] Error creating directory \n",
      " The volume ‚ÄúMacintosh HD‚Äù is out of space. You can‚Äôt save the file ‚Äúmpsgraph-9321-2024-11-26_10_06_41-1283510648‚Äù because the volume ‚ÄúMacintosh HD‚Äù is out of space.\n",
      "2024-11-26 10:06:42.472 python[9321:421688] Error creating directory \n",
      " The volume ‚ÄúMacintosh HD‚Äù is out of space. You can‚Äôt save the file ‚Äúmpsgraph-9321-2024-11-26_10_06_42-2837461606‚Äù because the volume ‚ÄúMacintosh HD‚Äù is out of space.\n",
      "2024-11-26 10:06:42.478 python[9321:421688] Error creating directory \n",
      " The volume ‚ÄúMacintosh HD‚Äù is out of space. You can‚Äôt save the file ‚Äúmpsgraph-9321-2024-11-26_10_06_42-876574298‚Äù because the volume ‚ÄúMacintosh HD‚Äù is out of space.\n",
      "2024-11-26 10:06:43.108 python[9321:421688] Error creating directory \n",
      " The volume ‚ÄúMacintosh HD‚Äù is out of space. You can‚Äôt save the file ‚Äúmpsgraph-9321-2024-11-26_10_06_43-3711863425‚Äù because the volume ‚ÄúMacintosh HD‚Äù is out of space.\n",
      "2024-11-26 10:06:43.117 python[9321:421688] Error creating directory \n",
      " The volume ‚ÄúMacintosh HD‚Äù is out of space. You can‚Äôt save the file ‚Äúmpsgraph-9321-2024-11-26_10_06_43-1565427597‚Äù because the volume ‚ÄúMacintosh HD‚Äù is out of space.\n",
      "2024-11-26 10:06:43.206 python[9321:421688] Error creating directory \n",
      " The volume ‚ÄúMacintosh HD‚Äù is out of space. You can‚Äôt save the file ‚Äúmpsgraph-9321-2024-11-26_10_06_43-2852795779‚Äù because the volume ‚ÄúMacintosh HD‚Äù is out of space.\n",
      "2024-11-26 10:06:43.216 python[9321:421688] Error creating directory \n",
      " The volume ‚ÄúMacintosh HD‚Äù is out of space. You can‚Äôt save the file ‚Äúmpsgraph-9321-2024-11-26_10_06_43-33589449‚Äù because the volume ‚ÄúMacintosh HD‚Äù is out of space.\n"
     ]
    },
    {
     "name": "stdout",
     "output_type": "stream",
     "text": [
      "Retraining after iteration 15...\n"
     ]
    },
    {
     "data": {
      "application/vnd.jupyter.widget-view+json": {
       "model_id": "31f0ca72340b4080b7514a2838e3150d",
       "version_major": 2,
       "version_minor": 0
      },
      "text/plain": [
       "  0%|          | 0/151 [00:00<?, ?it/s]"
      ]
     },
     "metadata": {},
     "output_type": "display_data"
    },
    {
     "name": "stdout",
     "output_type": "stream",
     "text": [
      "Epoch 1/5 - Loss: 0.5553, Accuracy: 74.93%\n"
     ]
    },
    {
     "data": {
      "application/vnd.jupyter.widget-view+json": {
       "model_id": "8cbaf7d001cb419fbccfdb8997e353c1",
       "version_major": 2,
       "version_minor": 0
      },
      "text/plain": [
       "  0%|          | 0/151 [00:00<?, ?it/s]"
      ]
     },
     "metadata": {},
     "output_type": "display_data"
    },
    {
     "name": "stdout",
     "output_type": "stream",
     "text": [
      "Epoch 2/5 - Loss: 0.5559, Accuracy: 74.47%\n"
     ]
    },
    {
     "data": {
      "application/vnd.jupyter.widget-view+json": {
       "model_id": "17cce15a296a4e67851c862b711a556a",
       "version_major": 2,
       "version_minor": 0
      },
      "text/plain": [
       "  0%|          | 0/151 [00:00<?, ?it/s]"
      ]
     },
     "metadata": {},
     "output_type": "display_data"
    },
    {
     "name": "stdout",
     "output_type": "stream",
     "text": [
      "Epoch 3/5 - Loss: 0.5521, Accuracy: 74.98%\n"
     ]
    },
    {
     "data": {
      "application/vnd.jupyter.widget-view+json": {
       "model_id": "878246aa23464e45ba7ef10fb347fbde",
       "version_major": 2,
       "version_minor": 0
      },
      "text/plain": [
       "  0%|          | 0/151 [00:00<?, ?it/s]"
      ]
     },
     "metadata": {},
     "output_type": "display_data"
    },
    {
     "name": "stdout",
     "output_type": "stream",
     "text": [
      "Epoch 4/5 - Loss: 0.5511, Accuracy: 75.16%\n"
     ]
    },
    {
     "data": {
      "application/vnd.jupyter.widget-view+json": {
       "model_id": "29daf862c6284b2792c176dac6b21e1f",
       "version_major": 2,
       "version_minor": 0
      },
      "text/plain": [
       "  0%|          | 0/151 [00:00<?, ?it/s]"
      ]
     },
     "metadata": {},
     "output_type": "display_data"
    },
    {
     "name": "stdout",
     "output_type": "stream",
     "text": [
      "Epoch 5/5 - Loss: 0.5543, Accuracy: 74.60%\n"
     ]
    },
    {
     "data": {
      "application/vnd.jupyter.widget-view+json": {
       "model_id": "71a54563201b497892d13cf58b81456a",
       "version_major": 2,
       "version_minor": 0
      },
      "text/plain": [
       "  0%|          | 0/16 [00:00<?, ?it/s]"
      ]
     },
     "metadata": {},
     "output_type": "display_data"
    },
    {
     "name": "stdout",
     "output_type": "stream",
     "text": [
      "Validation Accuracy:  83.80000305175781 %\n",
      "Validation Accuracy after 15 iteration: 83.80000305175781\n",
      "Iteration 16/25 - Pruning 10% of weights\n",
      "Retraining after iteration 16...\n"
     ]
    },
    {
     "data": {
      "application/vnd.jupyter.widget-view+json": {
       "model_id": "52fc727b2ffd40bda59a2418552edde4",
       "version_major": 2,
       "version_minor": 0
      },
      "text/plain": [
       "  0%|          | 0/151 [00:00<?, ?it/s]"
      ]
     },
     "metadata": {},
     "output_type": "display_data"
    },
    {
     "name": "stdout",
     "output_type": "stream",
     "text": [
      "Epoch 1/5 - Loss: 0.5794, Accuracy: 71.51%\n"
     ]
    },
    {
     "data": {
      "application/vnd.jupyter.widget-view+json": {
       "model_id": "fea89ec8bf754ceda82a93cb2c2d2c90",
       "version_major": 2,
       "version_minor": 0
      },
      "text/plain": [
       "  0%|          | 0/151 [00:00<?, ?it/s]"
      ]
     },
     "metadata": {},
     "output_type": "display_data"
    },
    {
     "name": "stdout",
     "output_type": "stream",
     "text": [
      "Epoch 2/5 - Loss: 0.5787, Accuracy: 71.89%\n"
     ]
    },
    {
     "data": {
      "application/vnd.jupyter.widget-view+json": {
       "model_id": "1b0c9ce0fba141e79d9c62d1f824ec88",
       "version_major": 2,
       "version_minor": 0
      },
      "text/plain": [
       "  0%|          | 0/151 [00:00<?, ?it/s]"
      ]
     },
     "metadata": {},
     "output_type": "display_data"
    },
    {
     "name": "stdout",
     "output_type": "stream",
     "text": [
      "Epoch 3/5 - Loss: 0.5771, Accuracy: 72.33%\n"
     ]
    },
    {
     "data": {
      "application/vnd.jupyter.widget-view+json": {
       "model_id": "4846b8d2939549ff8aa440c61015a23b",
       "version_major": 2,
       "version_minor": 0
      },
      "text/plain": [
       "  0%|          | 0/151 [00:00<?, ?it/s]"
      ]
     },
     "metadata": {},
     "output_type": "display_data"
    },
    {
     "name": "stdout",
     "output_type": "stream",
     "text": [
      "Epoch 4/5 - Loss: 0.5817, Accuracy: 71.43%\n"
     ]
    },
    {
     "data": {
      "application/vnd.jupyter.widget-view+json": {
       "model_id": "7939c004aafc49a495875fe35af48ff6",
       "version_major": 2,
       "version_minor": 0
      },
      "text/plain": [
       "  0%|          | 0/151 [00:00<?, ?it/s]"
      ]
     },
     "metadata": {},
     "output_type": "display_data"
    },
    {
     "name": "stdout",
     "output_type": "stream",
     "text": [
      "Epoch 5/5 - Loss: 0.5775, Accuracy: 72.11%\n"
     ]
    },
    {
     "data": {
      "application/vnd.jupyter.widget-view+json": {
       "model_id": "fb7fb2ac8f6347ee8e8ce24d58cc9101",
       "version_major": 2,
       "version_minor": 0
      },
      "text/plain": [
       "  0%|          | 0/16 [00:00<?, ?it/s]"
      ]
     },
     "metadata": {},
     "output_type": "display_data"
    },
    {
     "name": "stdout",
     "output_type": "stream",
     "text": [
      "Validation Accuracy:  76.4000015258789 %\n",
      "Validation Accuracy after 16 iteration: 76.4000015258789\n",
      "Current accuracy 76.4000015258789% below threshold Iterative Pruning Stopped at iteration 16\n"
     ]
    },
    {
     "data": {
      "application/vnd.jupyter.widget-view+json": {
       "model_id": "54d5e3d01ea34bb7a8d41d0ee909f9f6",
       "version_major": 2,
       "version_minor": 0
      },
      "text/plain": [
       "  0%|          | 0/16 [00:00<?, ?it/s]"
      ]
     },
     "metadata": {},
     "output_type": "display_data"
    },
    {
     "name": "stdout",
     "output_type": "stream",
     "text": [
      "Validation Accuracy:  76.4000015258789 %\n"
     ]
    }
   ],
   "source": [
    "prune_rate_list = [0.10] # List of prune rate to test from 5-45 inclusive with step of 5\n",
    "layer_pruning = {} # Dictionary to store layer pruning results\n",
    "model_path = \"./models/model0_\"+ str(0.0)\n",
    "\n",
    "for prune_rate in prune_rate_list:\n",
    "\n",
    "    model = models.vgg16(pretrained=True)#TODO: load pretr  ained model\n",
    "    freeze_model(model)\n",
    "    add_last_layer(model, 2)\n",
    "    model.load_state_dict(torch.load(model_path))\n",
    "    \n",
    "    # convs_to_prune = () #TODO: Add conv layers to prune\n",
    "\n",
    "    layer_pruning[prune_rate] = {} # Dictionary to store accuracy results and model for each prune rate\n",
    "\n",
    "    # TODO Run validation on the pruned model (without retraining)\n",
    "    print(\"Evaluating before training...\")\n",
    "    top1_acc_notrain = validate_model(model, test_loader, device = 'mps')\n",
    "    layer_pruning[prune_rate] = {\n",
    "        'model_notrain': model,\n",
    "        'top1_acc_notrain': top1_acc_notrain,\n",
    "   \n",
    "    }\n",
    "\n",
    "    print(f'Top1 accuracy for prune amount without iterative pruning {prune_rate*100}%: {layer_pruning[prune_rate][\"top1_acc_notrain\"]}%')\n",
    "    # print(f'Top1 accuracy (rel) for prune amount without retraining {prune_rate*100}%: {layer_pruning[prune_rate][\"top1_acc_rel_notrain\"]}%')\n",
    "\n",
    "    # Iterative pruning and training. \n",
    "    # acc_hist will store validation accuracy indexed by the number of iterations. \n",
    "    acc_hist = iterative_pruning(model, train_loader, iterations=25, prune_amount=prune_rate, accuracy_threshold= top1_acc_notrain-5, retrain=True )\n",
    "\n",
    "    \n",
    "    top1_acc_train = validate_model(model, test_loader, device = 'mps')\n",
    "    layer_pruning[prune_rate].update({\n",
    "        'model_train': model,\n",
    "        'top1_acc_train': top1_acc_train,\n",
    "        'acc_hist_per_iteration':acc_hist\n",
    "    })\n"
   ]
  },
  {
   "cell_type": "code",
   "execution_count": null,
   "metadata": {},
   "outputs": [
    {
     "name": "stdout",
     "output_type": "stream",
     "text": [
      "Top1 accuracy for prune amount with retraining 10.0%: 76.4000015258789%\n",
      "-------------------------------------------\n"
     ]
    }
   ],
   "source": [
    "np.save(\"Acc_history\", layer_pruning[0.1]['acc_hist_per_iteration'])\n",
    "np.save(\"baseline_acc_after_training\", baseline_acc_after_training)\n",
    "np.save(\"baseline_acc_before_training\", base_line_acc_no_retrain)\n",
    "print(f'Top1 accuracy for prune amount with retraining {prune_rate*100}%: {layer_pruning[prune_rate][\"top1_acc_train\"]}%')\n",
    "\n",
    "print('-------------------------------------------')"
   ]
  },
  {
   "cell_type": "markdown",
   "metadata": {},
   "source": [
    "### Only Pruned and not Retrained Model"
   ]
  },
  {
   "cell_type": "code",
   "execution_count": null,
   "metadata": {},
   "outputs": [],
   "source": [
    "def iterative_pruning(model, train_loader, iterations=20, prune_amount=0.2):\n",
    "    model = model.to(torch.device('mps'))\n",
    "    acc_hist = []\n",
    "    \n",
    "    for i in range(iterations):\n",
    "        print(f\"Iteration {i + 1}/{iterations} - Pruning {prune_amount * 100:.0f}% of weights\")\n",
    "        prune_by_x(model, prune_amount)\n",
    "        acc_hist.append(validate_model(model, test_loader, device = 'mps'))\n",
    "        \n",
    "        # for name, module in model.named_modules():\n",
    "        #     if hasattr(module, 'weight'):\n",
    "        #         print(f\"{name} sparsity: {(module.weight == 0).float().mean().item() * 100:.2f}%\")\n",
    "                \n",
    "               \n",
    "\n",
    "    # Final pruning and check sparsity\n",
    "    prune_by_x_remove(model)\n",
    "    # path  = \"./models/model\"+ str(prune_amount) +\"_\"+ str(i)\n",
    "    # torch.save(model.state_dict(), path)\n",
    "\n",
    "    return acc_hist\n",
    "    # for name, module in model.named_modules():\n",
    "    #     if hasattr(module, 'weight'):\n",
    "    #         print(f\"{name} sparsity: {(module.weight == 0).float().mean().item() * 100:.2f}%\")\n",
    "\n",
    "    # if retrain:\n",
    "    #     print(f\"Retraining final model after pruning...\")\n",
    "    #     training(model, train_loader, prune_percent=prune_amount)\n"
   ]
  },
  {
   "cell_type": "code",
   "execution_count": null,
   "metadata": {},
   "outputs": [
    {
     "name": "stderr",
     "output_type": "stream",
     "text": [
      "/opt/anaconda3/lib/python3.11/site-packages/torchvision/models/_utils.py:208: UserWarning: The parameter 'pretrained' is deprecated since 0.13 and may be removed in the future, please use 'weights' instead.\n",
      "  warnings.warn(\n",
      "/opt/anaconda3/lib/python3.11/site-packages/torchvision/models/_utils.py:223: UserWarning: Arguments other than a weight enum or `None` for 'weights' are deprecated since 0.13 and may be removed in the future. The current behavior is equivalent to passing `weights=VGG16_Weights.IMAGENET1K_V1`. You can also use `weights=VGG16_Weights.DEFAULT` to get the most up-to-date weights.\n",
      "  warnings.warn(msg)\n",
      "/var/folders/m7/jw62_vqn3rl5q_ltzp02d0fr0000gn/T/ipykernel_22390/1032654821.py:10: FutureWarning: You are using `torch.load` with `weights_only=False` (the current default value), which uses the default pickle module implicitly. It is possible to construct malicious pickle data which will execute arbitrary code during unpickling (See https://github.com/pytorch/pytorch/blob/main/SECURITY.md#untrusted-models for more details). In a future release, the default value for `weights_only` will be flipped to `True`. This limits the functions that could be executed during unpickling. Arbitrary objects will no longer be allowed to be loaded via this mode unless they are explicitly allowlisted by the user via `torch.serialization.add_safe_globals`. We recommend you start setting `weights_only=True` for any use case where you don't have full control of the loaded file. Please open an issue on GitHub for any issues related to this experimental feature.\n",
      "  model.load_state_dict(torch.load(model_path))\n"
     ]
    },
    {
     "name": "stdout",
     "output_type": "stream",
     "text": [
      "Iteration 1/16 - Pruning 10% of weights\n"
     ]
    },
    {
     "data": {
      "application/vnd.jupyter.widget-view+json": {
       "model_id": "f57f6a8b3a4e452f996f8b6358d59c2e",
       "version_major": 2,
       "version_minor": 0
      },
      "text/plain": [
       "  0%|          | 0/16 [00:00<?, ?it/s]"
      ]
     },
     "metadata": {},
     "output_type": "display_data"
    },
    {
     "name": "stderr",
     "output_type": "stream",
     "text": [
      "/opt/anaconda3/lib/python3.11/site-packages/torch/nn/modules/module.py:1553: UserWarning: Implicit dimension choice for softmax has been deprecated. Change the call to include dim=X as an argument.\n",
      "  return self._call_impl(*args, **kwargs)\n"
     ]
    },
    {
     "name": "stdout",
     "output_type": "stream",
     "text": [
      "Validation Accuracy:  83.5 %\n",
      "Iteration 2/16 - Pruning 10% of weights\n"
     ]
    },
    {
     "data": {
      "application/vnd.jupyter.widget-view+json": {
       "model_id": "fe91205f1e094791acacaa375cc8fb64",
       "version_major": 2,
       "version_minor": 0
      },
      "text/plain": [
       "  0%|          | 0/16 [00:00<?, ?it/s]"
      ]
     },
     "metadata": {},
     "output_type": "display_data"
    },
    {
     "name": "stdout",
     "output_type": "stream",
     "text": [
      "Validation Accuracy:  83.5 %\n",
      "Iteration 3/16 - Pruning 10% of weights\n"
     ]
    },
    {
     "data": {
      "application/vnd.jupyter.widget-view+json": {
       "model_id": "6333d09924e7474287cea560061d6d47",
       "version_major": 2,
       "version_minor": 0
      },
      "text/plain": [
       "  0%|          | 0/16 [00:00<?, ?it/s]"
      ]
     },
     "metadata": {},
     "output_type": "display_data"
    },
    {
     "name": "stdout",
     "output_type": "stream",
     "text": [
      "Validation Accuracy:  84.0999984741211 %\n",
      "Iteration 4/16 - Pruning 10% of weights\n"
     ]
    },
    {
     "data": {
      "application/vnd.jupyter.widget-view+json": {
       "model_id": "b19febeb33e84710ad310c1cb966c1ec",
       "version_major": 2,
       "version_minor": 0
      },
      "text/plain": [
       "  0%|          | 0/16 [00:00<?, ?it/s]"
      ]
     },
     "metadata": {},
     "output_type": "display_data"
    },
    {
     "name": "stdout",
     "output_type": "stream",
     "text": [
      "Validation Accuracy:  84.5999984741211 %\n",
      "Iteration 5/16 - Pruning 10% of weights\n"
     ]
    },
    {
     "data": {
      "application/vnd.jupyter.widget-view+json": {
       "model_id": "63b41d6d712d48c68e44282c771710de",
       "version_major": 2,
       "version_minor": 0
      },
      "text/plain": [
       "  0%|          | 0/16 [00:00<?, ?it/s]"
      ]
     },
     "metadata": {},
     "output_type": "display_data"
    },
    {
     "name": "stdout",
     "output_type": "stream",
     "text": [
      "Validation Accuracy:  84.5 %\n",
      "Iteration 6/16 - Pruning 10% of weights\n"
     ]
    },
    {
     "data": {
      "application/vnd.jupyter.widget-view+json": {
       "model_id": "4258cd1749a749548c047d005b435068",
       "version_major": 2,
       "version_minor": 0
      },
      "text/plain": [
       "  0%|          | 0/16 [00:00<?, ?it/s]"
      ]
     },
     "metadata": {},
     "output_type": "display_data"
    },
    {
     "name": "stdout",
     "output_type": "stream",
     "text": [
      "Validation Accuracy:  83.69999694824219 %\n",
      "Iteration 7/16 - Pruning 10% of weights\n"
     ]
    },
    {
     "data": {
      "application/vnd.jupyter.widget-view+json": {
       "model_id": "842d28ed847044efa4e97e94c0852936",
       "version_major": 2,
       "version_minor": 0
      },
      "text/plain": [
       "  0%|          | 0/16 [00:00<?, ?it/s]"
      ]
     },
     "metadata": {},
     "output_type": "display_data"
    },
    {
     "name": "stdout",
     "output_type": "stream",
     "text": [
      "Validation Accuracy:  83.0 %\n",
      "Iteration 8/16 - Pruning 10% of weights\n"
     ]
    },
    {
     "data": {
      "application/vnd.jupyter.widget-view+json": {
       "model_id": "8eb6e0f6cfc746949dabb1c46ffd59c3",
       "version_major": 2,
       "version_minor": 0
      },
      "text/plain": [
       "  0%|          | 0/16 [00:00<?, ?it/s]"
      ]
     },
     "metadata": {},
     "output_type": "display_data"
    },
    {
     "name": "stdout",
     "output_type": "stream",
     "text": [
      "Validation Accuracy:  82.80000305175781 %\n",
      "Iteration 9/16 - Pruning 10% of weights\n"
     ]
    },
    {
     "data": {
      "application/vnd.jupyter.widget-view+json": {
       "model_id": "d0f6b4a155ba44ef98e718e2f4e95f8d",
       "version_major": 2,
       "version_minor": 0
      },
      "text/plain": [
       "  0%|          | 0/16 [00:00<?, ?it/s]"
      ]
     },
     "metadata": {},
     "output_type": "display_data"
    },
    {
     "name": "stdout",
     "output_type": "stream",
     "text": [
      "Validation Accuracy:  83.0 %\n",
      "Iteration 10/16 - Pruning 10% of weights\n"
     ]
    },
    {
     "data": {
      "application/vnd.jupyter.widget-view+json": {
       "model_id": "c5d174f64e4a4a91b71b7daa910ea842",
       "version_major": 2,
       "version_minor": 0
      },
      "text/plain": [
       "  0%|          | 0/16 [00:00<?, ?it/s]"
      ]
     },
     "metadata": {},
     "output_type": "display_data"
    },
    {
     "name": "stdout",
     "output_type": "stream",
     "text": [
      "Validation Accuracy:  81.5999984741211 %\n",
      "Iteration 11/16 - Pruning 10% of weights\n"
     ]
    },
    {
     "data": {
      "application/vnd.jupyter.widget-view+json": {
       "model_id": "1c92422ad4fa4c4b90e621b01eff0a78",
       "version_major": 2,
       "version_minor": 0
      },
      "text/plain": [
       "  0%|          | 0/16 [00:00<?, ?it/s]"
      ]
     },
     "metadata": {},
     "output_type": "display_data"
    },
    {
     "name": "stdout",
     "output_type": "stream",
     "text": [
      "Validation Accuracy:  80.4000015258789 %\n",
      "Iteration 12/16 - Pruning 10% of weights\n"
     ]
    },
    {
     "data": {
      "application/vnd.jupyter.widget-view+json": {
       "model_id": "6cde71468dbf4ef3a5968b24d85c0172",
       "version_major": 2,
       "version_minor": 0
      },
      "text/plain": [
       "  0%|          | 0/16 [00:00<?, ?it/s]"
      ]
     },
     "metadata": {},
     "output_type": "display_data"
    },
    {
     "name": "stdout",
     "output_type": "stream",
     "text": [
      "Validation Accuracy:  72.30000305175781 %\n",
      "Iteration 13/16 - Pruning 10% of weights\n"
     ]
    },
    {
     "data": {
      "application/vnd.jupyter.widget-view+json": {
       "model_id": "702d28c5139f4cc08c1832a84f8dab32",
       "version_major": 2,
       "version_minor": 0
      },
      "text/plain": [
       "  0%|          | 0/16 [00:00<?, ?it/s]"
      ]
     },
     "metadata": {},
     "output_type": "display_data"
    },
    {
     "name": "stdout",
     "output_type": "stream",
     "text": [
      "Validation Accuracy:  57.29999923706055 %\n",
      "Iteration 14/16 - Pruning 10% of weights\n"
     ]
    },
    {
     "data": {
      "application/vnd.jupyter.widget-view+json": {
       "model_id": "1a3e9e7e631d4032af05e49650a21e92",
       "version_major": 2,
       "version_minor": 0
      },
      "text/plain": [
       "  0%|          | 0/16 [00:00<?, ?it/s]"
      ]
     },
     "metadata": {},
     "output_type": "display_data"
    },
    {
     "name": "stdout",
     "output_type": "stream",
     "text": [
      "Validation Accuracy:  50.20000076293945 %\n",
      "Iteration 15/16 - Pruning 10% of weights\n"
     ]
    },
    {
     "data": {
      "application/vnd.jupyter.widget-view+json": {
       "model_id": "c4c160add35b490eb9d630959b7a54c5",
       "version_major": 2,
       "version_minor": 0
      },
      "text/plain": [
       "  0%|          | 0/16 [00:00<?, ?it/s]"
      ]
     },
     "metadata": {},
     "output_type": "display_data"
    },
    {
     "name": "stdout",
     "output_type": "stream",
     "text": [
      "Validation Accuracy:  49.900001525878906 %\n",
      "Iteration 16/16 - Pruning 10% of weights\n"
     ]
    },
    {
     "data": {
      "application/vnd.jupyter.widget-view+json": {
       "model_id": "d70343a174bc4c2a8ed6b70699c5e91a",
       "version_major": 2,
       "version_minor": 0
      },
      "text/plain": [
       "  0%|          | 0/16 [00:00<?, ?it/s]"
      ]
     },
     "metadata": {},
     "output_type": "display_data"
    },
    {
     "name": "stdout",
     "output_type": "stream",
     "text": [
      "Validation Accuracy:  50.0 %\n"
     ]
    }
   ],
   "source": [
    "prune_rate_list = [0.10] # List of prune rate to test from 5-45 inclusive with step of 5\n",
    "layer_pruning = {} # Dictionary to store layer pruning results\n",
    "model_path = \"./models/model0_\"+ str(0.0)\n",
    "\n",
    "for prune_rate in prune_rate_list:\n",
    "\n",
    "    model = models.vgg16(pretrained=True)#TODO: load pretr  ained model\n",
    "    freeze_model(model)\n",
    "    add_last_layer(model, 2)\n",
    "    model.load_state_dict(torch.load(model_path))\n",
    "    \n",
    "   \n",
    "    acc_hist = iterative_pruning(model, train_loader, iterations=16, prune_amount=prune_rate )\n",
    "\n",
    "\n"
   ]
  },
  {
   "cell_type": "code",
   "execution_count": null,
   "metadata": {},
   "outputs": [],
   "source": [
    "np.save(\"acc_hist_only_prune\", acc_hist)"
   ]
  },
  {
   "cell_type": "markdown",
   "metadata": {},
   "source": [
    "### Plotting the results"
   ]
  },
  {
   "cell_type": "code",
   "execution_count": null,
   "metadata": {},
   "outputs": [],
   "source": [
    "acc_hist = np.load(\"Acc_history_0.1.npy\")\n",
    "baseline_acc_after_training = np.load(\"baseline_acc_after_training_0.1.npy\")\n",
    "base_line_acc_no_retrain = np.load(\"baseline_acc_before_training_0.1.npy\" )\n",
    "acc_hist_only_prune = np.load('acc_hist_only_prune.npy')\n",
    "\n",
    "x_axis = []\n",
    "weigths = 100\n",
    "for i in range(16):\n",
    "    \n",
    "    x_axis.append(round(100- weigths*(100-10)/100, 2))\n",
    "    weigths = weigths*(100-10)/100"
   ]
  },
  {
   "cell_type": "code",
   "execution_count": null,
   "metadata": {},
   "outputs": [
    {
     "data": {
      "image/png": "[encoded data removed]",
      "text/plain": [
       "<Figure size 1000x400 with 1 Axes>"
      ]
     },
     "metadata": {},
     "output_type": "display_data"
    }
   ],
   "source": [
    "plt.figure(figsize=(10, 4))\n",
    "plt.plot(range(16), acc_hist, marker = 'o', color = 'purple', label = \"pruned+retrained\")\n",
    "plt.plot(range(16), acc_hist_only_prune, marker = 'o', color = 'green', label = \"only pruned\")\n",
    "\n",
    "plt.plot((baseline_acc_after_training+2)*np.ones(len(acc_hist)), '--', color = 'red', label = 'baseline')\n",
    "plt.xticks(range(16), x_axis)\n",
    "plt.grid()\n",
    "plt.xlabel(\"Weights Pruned (%)\")\n",
    "plt.ylabel(\"Validation Accuracy (%)\")\n",
    "plt.legend()\n",
    "plt.tight_layout()\n",
    "plt.savefig(\"Acc VS %weights\")"
   ]
  },
  {
   "cell_type": "code",
   "execution_count": null,
   "metadata": {},
   "outputs": [],
   "source": [
    "def get_non_zero_weights(data):\n",
    "    return data[data!=0]"
   ]
  },
  {
   "cell_type": "code",
   "execution_count": null,
   "metadata": {},
   "outputs": [],
   "source": [
    "last_layer_weights = np.load(\"last_layer_weights.npy\")\n",
    "last_layer_weights_pruned = np.load('last_layer_weights_pruned.npy')\n",
    "last_layer_weights_pruned_retrained = np.load(\"last_layer_weights_pruned_retrained.npy\")\n"
   ]
  },
  {
   "cell_type": "code",
   "execution_count": null,
   "metadata": {},
   "outputs": [],
   "source": [
    "last_layer_weights_pruned_non_zero = get_non_zero_weights(last_layer_weights_pruned)"
   ]
  },
  {
   "cell_type": "code",
   "execution_count": null,
   "metadata": {},
   "outputs": [
    {
     "data": {
      "image/png": "[encoded data removed]",
      "text/plain": [
       "<Figure size 1200x800 with 4 Axes>"
      ]
     },
     "metadata": {},
     "output_type": "display_data"
    }
   ],
   "source": [
    "import matplotlib.pyplot as plt\n",
    "\n",
    "bins = 300\n",
    "\n",
    "# Assuming you have these weight arrays:\n",
    "# last_layer_weights, last_layer_weights_pruned, last_layer_weights_pruned_non_zero, last_layer_weights_pruned_retrained\n",
    "\n",
    "# Create a figure with 2 rows and 2 columns (2x2 grid of subplots)\n",
    "plt.figure(figsize=(12, 8))\n",
    "\n",
    "# First subplot (1st row, 1st column)\n",
    "plt.subplot(2, 2, 1)\n",
    "plt.hist(last_layer_weights, bins=bins, color='purple', alpha=1)\n",
    "plt.title('a) Original Weights')\n",
    "plt.xlabel('Weight Value')\n",
    "plt.ylabel('Frequency')\n",
    "plt.grid()\n",
    "\n",
    "# Second subplot (1st row, 2nd column)\n",
    "plt.subplot(2, 2, 2)\n",
    "plt.hist(last_layer_weights_pruned, bins=bins, color='purple', alpha=1)\n",
    "plt.title('b) Pruned Weights')\n",
    "plt.xlabel('Weight Value')\n",
    "plt.ylabel('Frequency')\n",
    "plt.grid()\n",
    "\n",
    "# Third subplot (2nd row, 1st column)\n",
    "plt.subplot(2, 2, 3)\n",
    "plt.hist(last_layer_weights_pruned_non_zero, bins=bins, color='purple', alpha=1)\n",
    "plt.title('c) Pruned Non-Zero Weights')\n",
    "plt.xlabel('Weight Value')\n",
    "plt.ylabel('Frequency')\n",
    "plt.grid()\n",
    "\n",
    "# Fourth subplot (2nd row, 2nd column)\n",
    "plt.subplot(2, 2, 4)\n",
    "plt.hist(last_layer_weights_pruned_retrained, bins=bins, color='purple', alpha=1)\n",
    "plt.title('d) Pruned and Retrained Weights')\n",
    "plt.xlabel('Weight Value')\n",
    "plt.ylabel('Frequency')\n",
    "plt.grid()\n",
    "\n",
    "# Adjust layout to prevent overlap\n",
    "plt.tight_layout()\n",
    "\n",
    "# Save the figure\n",
    "plt.savefig(\"Transfer_learning_weight_distribution_2x2_last_layer\", dpi=300)\n",
    "\n",
    "# Show all plots in the 2x2 grid\n",
    "plt.show()\n"
   ]
  },
  {
   "cell_type": "code",
   "execution_count": null,
   "metadata": {},
   "outputs": [],
   "source": [
    "baseline_all_weights = np.load(\"baseline_all_weights.npy\")\n",
    "pruned_retrained_all_weigths = np.load(\"pruned_retrained_all_weigths.npy\")\n",
    "pruned_retrained_non_zero_weigths = np.load(\"pruned_retrained_non_zero_weigths.npy\")\n",
    "only_pruned_all_weights = np.load(\"only_pruned_all_weights.npy\")"
   ]
  },
  {
   "cell_type": "code",
   "execution_count": null,
   "metadata": {},
   "outputs": [],
   "source": [
    "only_pruned_non_zero = get_non_zero_weights(only_pruned_all_weights)"
   ]
  },
  {
   "cell_type": "code",
   "execution_count": null,
   "metadata": {},
   "outputs": [
    {
     "data": {
      "image/png": "[encoded data removed]",
      "text/plain": [
       "<Figure size 1200x800 with 4 Axes>"
      ]
     },
     "metadata": {},
     "output_type": "display_data"
    }
   ],
   "source": [
    "import matplotlib.pyplot as plt\n",
    "\n",
    "bins = 10000\n",
    "\n",
    "# Assuming you have these weight arrays:\n",
    "# last_layer_weights, last_layer_weights_pruned, last_layer_weights_pruned_non_zero, last_layer_weights_pruned_retrained\n",
    "\n",
    "# Create a figure with 2 rows and 2 columns (2x2 grid of subplots)\n",
    "plt.figure(figsize=(12, 8))\n",
    "\n",
    "# First subplot (1st row, 1st column)\n",
    "plt.subplot(2, 2, 1)\n",
    "plt.hist(baseline_all_weights, bins=bins, color='purple', alpha=1)\n",
    "plt.title('a) Original Weights')\n",
    "plt.xlabel('Weight Value')\n",
    "plt.ylabel('Frequency')\n",
    "plt.xlim([-0.05, 0.05])\n",
    "plt.grid()\n",
    "\n",
    "# Second subplot (1st row, 2nd column)\n",
    "plt.subplot(2, 2, 2)\n",
    "plt.hist(only_pruned_all_weights, bins=bins, color='purple', alpha=1)\n",
    "plt.title('b) Pruned Weights')\n",
    "plt.xlabel('Weight Value')\n",
    "plt.ylabel('Frequency')\n",
    "plt.xlim([-0.05, 0.05])\n",
    "\n",
    "plt.grid()\n",
    "\n",
    "# Third subplot (2nd row, 1st column)\n",
    "plt.subplot(2, 2, 3)\n",
    "plt.hist(only_pruned_non_zero, bins=bins, color='purple', alpha=1)\n",
    "plt.title('c) Pruned Non-Zero Weights')\n",
    "plt.xlabel('Weight Value')\n",
    "plt.ylabel('Frequency')\n",
    "plt.xlim([-0.05, 0.05])\n",
    "\n",
    "plt.grid()\n",
    "\n",
    "# Fourth subplot (2nd row, 2nd column)\n",
    "plt.subplot(2, 2, 4)\n",
    "plt.hist(pruned_retrained_non_zero_weigths, bins=bins, color='purple', alpha=1)\n",
    "plt.title('d) Pruned and Retrained Weights')\n",
    "plt.xlabel('Weight Value')\n",
    "plt.ylabel('Frequency')\n",
    "plt.xlim([-0.05, 0.05])\n",
    "\n",
    "plt.grid()\n",
    "\n",
    "# Adjust layout to prevent overlap\n",
    "plt.tight_layout()\n",
    "\n",
    "# Save the figure\n",
    "plt.savefig(\"Transfer_learning_weight_distribution_2x2_all_wts\", dpi=300)\n",
    "\n",
    "# Show all plots in the 2x2 grid\n",
    "plt.show()\n"
   ]
  },
  {
   "cell_type": "code",
   "execution_count": null,
   "metadata": {},
   "outputs": [
    {
     "data": {
      "image/png": "[encoded data removed]",
      "text/plain": [
       "<Figure size 1500x500 with 3 Axes>"
      ]
     },
     "metadata": {},
     "output_type": "display_data"
    }
   ],
   "source": [
    "import matplotlib.pyplot as plt\n",
    "\n",
    "bins = 10000\n",
    "\n",
    "# Assuming you have these weight arrays:\n",
    "# last_layer_weights, last_layer_weights_pruned, last_layer_weights_pruned_non_zero, last_layer_weights_pruned_retrained\n",
    "\n",
    "# Create a figure with 2 rows and 2 columns (2x2 grid of subplots)\n",
    "plt.figure(figsize=(15, 5))\n",
    "\n",
    "# First subplot (1st row, 1st column)\n",
    "plt.subplot(1, 3, 1)\n",
    "plt.hist(baseline_all_weights, bins=bins, color='purple', alpha=1)\n",
    "plt.title('a) Original Weights')\n",
    "plt.xlabel('Weight Value')\n",
    "plt.ylabel('Frequency')\n",
    "plt.xlim([-0.05, 0.05])\n",
    "plt.grid()\n",
    "\n",
    "\n",
    "\n",
    "# Third subplot (2nd row, 1st column)\n",
    "plt.subplot(1,3 , 2)\n",
    "plt.hist(only_pruned_non_zero, bins=bins, color='purple', alpha=1)\n",
    "plt.title('c) Pruned Non-Zero Weights')\n",
    "plt.xlabel('Weight Value')\n",
    "plt.ylabel('Frequency')\n",
    "plt.xlim([-0.05, 0.05])\n",
    "\n",
    "plt.grid()\n",
    "\n",
    "# Fourth subplot (2nd row, 2nd column)\n",
    "plt.subplot(1, 3, 3)\n",
    "plt.hist(pruned_retrained_non_zero_weigths, bins=bins, color='purple', alpha=1)\n",
    "plt.title('d) Pruned and Retrained Weights')\n",
    "plt.xlabel('Weight Value')\n",
    "plt.ylabel('Frequency')\n",
    "plt.xlim([-0.05, 0.05])\n",
    "\n",
    "plt.grid()\n",
    "\n",
    "# Adjust layout to prevent overlap\n",
    "plt.tight_layout()\n",
    "\n",
    "# Save the figure\n",
    "plt.savefig(\"Transfer_learning_weight_distribution_all_wts\", dpi=300)\n",
    "\n",
    "# Show all plots in the 2x2 grid\n",
    "plt.show()\n"
   ]
  }
 ],
 "metadata": {
  "language_info": {
   "name": "python"
  }
 },
 "nbformat": 4,
 "nbformat_minor": 2
}
